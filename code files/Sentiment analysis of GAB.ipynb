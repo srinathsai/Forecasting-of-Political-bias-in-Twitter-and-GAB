{
 "cells": [
  {
   "cell_type": "code",
   "execution_count": 1,
   "id": "af47aac6-feec-476e-b659-c017a319d9f3",
   "metadata": {},
   "outputs": [
    {
     "name": "stderr",
     "output_type": "stream",
     "text": [
      "2023-07-31 14:14:57.742665: I tensorflow/core/platform/cpu_feature_guard.cc:193] This TensorFlow binary is optimized with oneAPI Deep Neural Network Library (oneDNN) to use the following CPU instructions in performance-critical operations:  AVX2 FMA\n",
      "To enable them in other operations, rebuild TensorFlow with the appropriate compiler flags.\n",
      "2023-07-31 14:14:57.896921: W tensorflow/compiler/xla/stream_executor/platform/default/dso_loader.cc:64] Could not load dynamic library 'libcudart.so.11.0'; dlerror: libcudart.so.11.0: cannot open shared object file: No such file or directory\n",
      "2023-07-31 14:14:57.896953: I tensorflow/compiler/xla/stream_executor/cuda/cudart_stub.cc:29] Ignore above cudart dlerror if you do not have a GPU set up on your machine.\n",
      "2023-07-31 14:14:58.447405: W tensorflow/compiler/xla/stream_executor/platform/default/dso_loader.cc:64] Could not load dynamic library 'libnvinfer.so.7'; dlerror: libnvinfer.so.7: cannot open shared object file: No such file or directory\n",
      "2023-07-31 14:14:58.447477: W tensorflow/compiler/xla/stream_executor/platform/default/dso_loader.cc:64] Could not load dynamic library 'libnvinfer_plugin.so.7'; dlerror: libnvinfer_plugin.so.7: cannot open shared object file: No such file or directory\n",
      "2023-07-31 14:14:58.447484: W tensorflow/compiler/tf2tensorrt/utils/py_utils.cc:38] TF-TRT Warning: Cannot dlopen some TensorRT libraries. If you would like to use Nvidia GPU with TensorRT, please make sure the missing libraries mentioned above are installed properly.\n"
     ]
    }
   ],
   "source": [
    "import os\n",
    "import random\n",
    "import numpy as np\n",
    "import pandas as pd\n",
    "from tqdm import tqdm\n",
    "import matplotlib.pyplot as plt\n",
    "from datetime import date, timedelta\n",
    "from scipy.stats import skew, kurtosis\n",
    "\n",
    "from sklearn.preprocessing import StandardScaler\n",
    "from sklearn.metrics import mean_squared_error\n",
    "\n",
    "import tensorflow as tf\n",
    "from tensorflow.keras.layers import *\n",
    "from tensorflow.keras.models import *\n",
    "from tensorflow.keras.optimizers import *\n",
    "from tensorflow.keras.callbacks import *\n",
    "from tensorflow.keras import backend as K"
   ]
  },
  {
   "cell_type": "code",
   "execution_count": 2,
   "id": "161cf1c2-0ebc-4ef8-a849-07d2cde0dacf",
   "metadata": {},
   "outputs": [],
   "source": [
    "import pandas as pd\n",
    "import json\n",
    "\n",
    "with open(\"posts_with_newsURLs.json\") as f:\n",
    "    data = []\n",
    "    for line in f:\n",
    "        json_data = json.loads(line)\n",
    "        data.append(json_data)\n",
    "\n",
    "df = pd.DataFrame(data)"
   ]
  },
  {
   "cell_type": "code",
   "execution_count": 3,
   "id": "c5d02a3c-871b-48cb-bae3-7125758e98b6",
   "metadata": {},
   "outputs": [
    {
     "data": {
      "text/html": [
       "<div>\n",
       "<style scoped>\n",
       "    .dataframe tbody tr th:only-of-type {\n",
       "        vertical-align: middle;\n",
       "    }\n",
       "\n",
       "    .dataframe tbody tr th {\n",
       "        vertical-align: top;\n",
       "    }\n",
       "\n",
       "    .dataframe thead th {\n",
       "        text-align: right;\n",
       "    }\n",
       "</style>\n",
       "<table border=\"1\" class=\"dataframe\">\n",
       "  <thead>\n",
       "    <tr style=\"text-align: right;\">\n",
       "      <th></th>\n",
       "      <th>_id</th>\n",
       "      <th>type</th>\n",
       "      <th>collected_on</th>\n",
       "      <th>data</th>\n",
       "      <th>id</th>\n",
       "    </tr>\n",
       "  </thead>\n",
       "  <tbody>\n",
       "    <tr>\n",
       "      <th>0</th>\n",
       "      <td>{'$oid': '5b26afa37135690bc89ba801'}</td>\n",
       "      <td>posts</td>\n",
       "      <td>2018-04-08 15:55:33</td>\n",
       "      <td>{'liked': False, 'revised_at': None, 'is_premi...</td>\n",
       "      <td>20077000</td>\n",
       "    </tr>\n",
       "    <tr>\n",
       "      <th>1</th>\n",
       "      <td>{'$oid': '5b26afa37135690bc89ba807'}</td>\n",
       "      <td>posts</td>\n",
       "      <td>2018-04-07 19:51:11</td>\n",
       "      <td>{'liked': False, 'revised_at': None, 'is_premi...</td>\n",
       "      <td>20083000</td>\n",
       "    </tr>\n",
       "    <tr>\n",
       "      <th>2</th>\n",
       "      <td>{'$oid': '5b26afa37135690bc89ba819'}</td>\n",
       "      <td>posts</td>\n",
       "      <td>2018-04-29 21:39:32</td>\n",
       "      <td>{'liked': False, 'revised_at': None, 'is_premi...</td>\n",
       "      <td>20102000</td>\n",
       "    </tr>\n",
       "    <tr>\n",
       "      <th>3</th>\n",
       "      <td>{'$oid': '5b26afa37135690bc89ba826'}</td>\n",
       "      <td>posts</td>\n",
       "      <td>2018-04-08 19:18:01</td>\n",
       "      <td>{'liked': False, 'revised_at': None, 'is_premi...</td>\n",
       "      <td>20115000</td>\n",
       "    </tr>\n",
       "    <tr>\n",
       "      <th>4</th>\n",
       "      <td>{'$oid': '5b26afa37135690bc89ba848'}</td>\n",
       "      <td>posts</td>\n",
       "      <td>2018-04-29 23:20:12</td>\n",
       "      <td>{'liked': False, 'revised_at': None, 'is_premi...</td>\n",
       "      <td>20152000</td>\n",
       "    </tr>\n",
       "  </tbody>\n",
       "</table>\n",
       "</div>"
      ],
      "text/plain": [
       "                                    _id   type         collected_on  \\\n",
       "0  {'$oid': '5b26afa37135690bc89ba801'}  posts  2018-04-08 15:55:33   \n",
       "1  {'$oid': '5b26afa37135690bc89ba807'}  posts  2018-04-07 19:51:11   \n",
       "2  {'$oid': '5b26afa37135690bc89ba819'}  posts  2018-04-29 21:39:32   \n",
       "3  {'$oid': '5b26afa37135690bc89ba826'}  posts  2018-04-08 19:18:01   \n",
       "4  {'$oid': '5b26afa37135690bc89ba848'}  posts  2018-04-29 23:20:12   \n",
       "\n",
       "                                                data        id  \n",
       "0  {'liked': False, 'revised_at': None, 'is_premi...  20077000  \n",
       "1  {'liked': False, 'revised_at': None, 'is_premi...  20083000  \n",
       "2  {'liked': False, 'revised_at': None, 'is_premi...  20102000  \n",
       "3  {'liked': False, 'revised_at': None, 'is_premi...  20115000  \n",
       "4  {'liked': False, 'revised_at': None, 'is_premi...  20152000  "
      ]
     },
     "execution_count": 3,
     "metadata": {},
     "output_type": "execute_result"
    }
   ],
   "source": [
    "df.head()"
   ]
  },
  {
   "cell_type": "code",
   "execution_count": 4,
   "id": "bb1a44d2-4dba-4b56-b157-36f10490b876",
   "metadata": {},
   "outputs": [
    {
     "data": {
      "text/plain": [
       "_id             object\n",
       "type            object\n",
       "collected_on    object\n",
       "data            object\n",
       "id              object\n",
       "dtype: object"
      ]
     },
     "execution_count": 4,
     "metadata": {},
     "output_type": "execute_result"
    }
   ],
   "source": [
    "df.dtypes"
   ]
  },
  {
   "cell_type": "code",
   "execution_count": 5,
   "id": "f96b5036-7ada-442a-b9a3-470f2bcb49b5",
   "metadata": {},
   "outputs": [],
   "source": [
    "df_times=[]\n",
    "df_body=[]"
   ]
  },
  {
   "cell_type": "code",
   "execution_count": 6,
   "id": "28041f6a-1cfc-468c-b06b-b961e3314e6a",
   "metadata": {},
   "outputs": [],
   "source": [
    "for i in df.index:\n",
    "    df_times.append(df[\"data\"][i][\"created_at\"])"
   ]
  },
  {
   "cell_type": "code",
   "execution_count": 7,
   "id": "28f9a170-ae76-4b05-a78a-5889b64216b6",
   "metadata": {},
   "outputs": [],
   "source": [
    "for i in df.index:\n",
    "    df_body.append(df[\"data\"][i][\"body\"])"
   ]
  },
  {
   "cell_type": "code",
   "execution_count": 8,
   "id": "d1eeadab-1ae8-4923-b7a1-08b39117bab5",
   "metadata": {},
   "outputs": [],
   "source": [
    "import re"
   ]
  },
  {
   "cell_type": "code",
   "execution_count": 9,
   "id": "2e801b93-fb97-45e1-a6fb-759acfadc1c5",
   "metadata": {},
   "outputs": [
    {
     "name": "stdout",
     "output_type": "stream",
     "text": [
      "http://www.foxnews.com/world/2018/02/18/iran-flier-texted-before-deadly-plane-crash-may-god-protect-us.html \n",
      "\n",
      "Another crash in Iran. #Qanon\n"
     ]
    }
   ],
   "source": [
    "x = df_body[3]\n",
    "s1 = re.sub('http://\\S+|https://\\S+', '', x)\n",
    "print(df_body[3])\n"
   ]
  },
  {
   "cell_type": "code",
   "execution_count": 10,
   "id": "4c356c0c-c368-4f79-9ec0-8c263a2f60c1",
   "metadata": {},
   "outputs": [],
   "source": [
    "df_text_without_urls=[]\n",
    "for x in df_body :\n",
    "    y= re.sub('http://\\S+|https://\\S+', '', x)\n",
    "    if(len(y)>0):\n",
    "        df_text_without_urls.append(y)"
   ]
  },
  {
   "cell_type": "code",
   "execution_count": 11,
   "id": "94d0f29b-6357-4db6-bab3-5f81a99fdb65",
   "metadata": {},
   "outputs": [],
   "source": [
    "urls=[]"
   ]
  },
  {
   "cell_type": "code",
   "execution_count": 12,
   "id": "51906232-2a63-4d85-a13a-a2657ae98436",
   "metadata": {},
   "outputs": [],
   "source": [
    "for i in df_body:\n",
    "    m=str(i)\n",
    "    s=re.search(\"(?P<url>https?://[^\\s]+)\", m).group(0)\n",
    "    urls.append(s)"
   ]
  },
  {
   "cell_type": "code",
   "execution_count": 13,
   "id": "92d8670e-64f6-4ed2-91fd-08e18d932332",
   "metadata": {},
   "outputs": [
    {
     "name": "stdout",
     "output_type": "stream",
     "text": [
      "1345279\n",
      "1345279\n",
      "988371\n"
     ]
    }
   ],
   "source": [
    "print(len(df_body))\n",
    "print(len(urls))\n",
    "print(len(df_text_without_urls))"
   ]
  },
  {
   "cell_type": "code",
   "execution_count": 14,
   "id": "56eec93d-0289-4bd2-9d6c-e1b4490e5de7",
   "metadata": {},
   "outputs": [],
   "source": [
    "times=[]\n",
    "URLS =[]\n",
    "for i in range(0,len(df_text_without_urls)):\n",
    "    times.append(df_times[i])\n",
    "    URLS.append(urls[i])\n"
   ]
  },
  {
   "cell_type": "code",
   "execution_count": 15,
   "id": "928f7d26-02be-4294-91a2-f6ecf39fee18",
   "metadata": {},
   "outputs": [
    {
     "name": "stdout",
     "output_type": "stream",
     "text": [
      "http://www.latimes.com/local/lanow/la-me-weinstein-prosecution-la-20180217-story.html\n"
     ]
    }
   ],
   "source": [
    "print(URLS[0])"
   ]
  },
  {
   "cell_type": "code",
   "execution_count": 16,
   "id": "b74f0bbb-4345-40c4-bbbd-0d996d4fa709",
   "metadata": {},
   "outputs": [
    {
     "name": "stdout",
     "output_type": "stream",
     "text": [
      "988371\n",
      "988371\n"
     ]
    }
   ],
   "source": [
    "print(len(URLS))\n",
    "print(len(times))"
   ]
  },
  {
   "cell_type": "code",
   "execution_count": 17,
   "id": "86f36382-fe9e-437b-8ccd-ac85b219255d",
   "metadata": {},
   "outputs": [
    {
     "data": {
      "text/plain": [
       "str"
      ]
     },
     "execution_count": 17,
     "metadata": {},
     "output_type": "execute_result"
    }
   ],
   "source": [
    "type(times[0])"
   ]
  },
  {
   "cell_type": "code",
   "execution_count": 18,
   "id": "797fec91-b0dd-4cc2-b545-59236de2f332",
   "metadata": {},
   "outputs": [
    {
     "name": "stdout",
     "output_type": "stream",
     "text": [
      "Hello world \n",
      " I wrote some random text here \t \n",
      "\n",
      ". I am trying to remove extra whitespace but keep line breaks, tabs, ...etc\n"
     ]
    }
   ],
   "source": [
    "import re\n",
    "text = 'Hello world \\n I wrote some random    text    here \\t \\n\\n. I am trying      to remove extra whitespace but keep line breaks, tabs, ...etc'\n",
    "text = re.sub(' +', ' ', text).strip()\n",
    "text = text.replace(\"\\n\\r\\n\", \"\")\n",
    "print(text)"
   ]
  },
  {
   "cell_type": "code",
   "execution_count": 19,
   "id": "ce598602-8f12-47a9-b97a-db515e7f4775",
   "metadata": {},
   "outputs": [],
   "source": [
    "df_text_without_urls_filtered =[]\n",
    "for x in df_text_without_urls:\n",
    "    new_str = re.sub(r'[^\\w\\s]', '', x)\n",
    "    new_str = new_str.replace(\"\\n\\r\\n\", \"\")\n",
    "    df_text_without_urls_filtered.append(new_str)"
   ]
  },
  {
   "cell_type": "code",
   "execution_count": 20,
   "id": "6f95b3f3-37a4-49e1-93ef-0f6290b912b7",
   "metadata": {},
   "outputs": [],
   "source": [
    "df_required = pd.DataFrame({'created_at' : times,'expanded_urls' : URLS,'text' : df_text_without_urls_filtered})"
   ]
  },
  {
   "cell_type": "code",
   "execution_count": 21,
   "id": "b268a5ff-f834-490f-a7da-d18290ad9088",
   "metadata": {},
   "outputs": [
    {
     "data": {
      "text/html": [
       "<div>\n",
       "<style scoped>\n",
       "    .dataframe tbody tr th:only-of-type {\n",
       "        vertical-align: middle;\n",
       "    }\n",
       "\n",
       "    .dataframe tbody tr th {\n",
       "        vertical-align: top;\n",
       "    }\n",
       "\n",
       "    .dataframe thead th {\n",
       "        text-align: right;\n",
       "    }\n",
       "</style>\n",
       "<table border=\"1\" class=\"dataframe\">\n",
       "  <thead>\n",
       "    <tr style=\"text-align: right;\">\n",
       "      <th></th>\n",
       "      <th>created_at</th>\n",
       "      <th>expanded_urls</th>\n",
       "      <th>text</th>\n",
       "    </tr>\n",
       "  </thead>\n",
       "  <tbody>\n",
       "    <tr>\n",
       "      <th>0</th>\n",
       "      <td>2018-02-18T21:52:01+00:00</td>\n",
       "      <td>http://www.latimes.com/local/lanow/la-me-weins...</td>\n",
       "      <td>Ive always said this Cannabis in whatever form...</td>\n",
       "    </tr>\n",
       "    <tr>\n",
       "      <th>1</th>\n",
       "      <td>2018-02-19T00:17:25+00:00</td>\n",
       "      <td>http://dailycaller.com/2015/10/12/remember-the...</td>\n",
       "      <td>Another crash in Iran Qanon</td>\n",
       "    </tr>\n",
       "    <tr>\n",
       "      <th>2</th>\n",
       "      <td>2018-02-19T10:02:34+00:00</td>\n",
       "      <td>https://www.leafly.com/news/health/a-guide-to-...</td>\n",
       "      <td>GERMANYS RIGHT WING POPULIST PARTY AFD IS NOW ...</td>\n",
       "    </tr>\n",
       "    <tr>\n",
       "      <th>3</th>\n",
       "      <td>2018-02-19T16:25:48+00:00</td>\n",
       "      <td>http://www.foxnews.com/world/2018/02/18/iran-f...</td>\n",
       "      <td>hamradio HamRadio shortwave Numbers stations T...</td>\n",
       "    </tr>\n",
       "    <tr>\n",
       "      <th>4</th>\n",
       "      <td>2018-02-20T05:12:18+00:00</td>\n",
       "      <td>http://www.thegatewaypundit.com/2018/02/sarah-...</td>\n",
       "      <td>Good Grief What a joke you are J J</td>\n",
       "    </tr>\n",
       "  </tbody>\n",
       "</table>\n",
       "</div>"
      ],
      "text/plain": [
       "                  created_at  \\\n",
       "0  2018-02-18T21:52:01+00:00   \n",
       "1  2018-02-19T00:17:25+00:00   \n",
       "2  2018-02-19T10:02:34+00:00   \n",
       "3  2018-02-19T16:25:48+00:00   \n",
       "4  2018-02-20T05:12:18+00:00   \n",
       "\n",
       "                                       expanded_urls  \\\n",
       "0  http://www.latimes.com/local/lanow/la-me-weins...   \n",
       "1  http://dailycaller.com/2015/10/12/remember-the...   \n",
       "2  https://www.leafly.com/news/health/a-guide-to-...   \n",
       "3  http://www.foxnews.com/world/2018/02/18/iran-f...   \n",
       "4  http://www.thegatewaypundit.com/2018/02/sarah-...   \n",
       "\n",
       "                                                text  \n",
       "0  Ive always said this Cannabis in whatever form...  \n",
       "1                        Another crash in Iran Qanon  \n",
       "2  GERMANYS RIGHT WING POPULIST PARTY AFD IS NOW ...  \n",
       "3  hamradio HamRadio shortwave Numbers stations T...  \n",
       "4                Good Grief What a joke you are J J   "
      ]
     },
     "execution_count": 21,
     "metadata": {},
     "output_type": "execute_result"
    }
   ],
   "source": [
    "df_required.head()"
   ]
  },
  {
   "cell_type": "code",
   "execution_count": 22,
   "id": "1cb48ef2-4ef9-46b3-b396-fd32e293b157",
   "metadata": {},
   "outputs": [
    {
     "data": {
      "text/plain": [
       "created_at       object\n",
       "expanded_urls    object\n",
       "text             object\n",
       "dtype: object"
      ]
     },
     "execution_count": 22,
     "metadata": {},
     "output_type": "execute_result"
    }
   ],
   "source": [
    "df_required.dtypes"
   ]
  },
  {
   "cell_type": "code",
   "execution_count": 23,
   "id": "3a236f1f-ffe2-4c95-904d-b08e6d1dd7d4",
   "metadata": {},
   "outputs": [
    {
     "data": {
      "text/plain": [
       "'Good Grief What a joke you are J J '"
      ]
     },
     "execution_count": 23,
     "metadata": {},
     "output_type": "execute_result"
    }
   ],
   "source": [
    "df_required['text'][4]"
   ]
  },
  {
   "cell_type": "code",
   "execution_count": 24,
   "id": "d3786eb0-c51b-408e-9db2-1c9cf324dc6f",
   "metadata": {},
   "outputs": [],
   "source": [
    "df_required['created_at'] = pd.to_datetime(df_required['created_at'])"
   ]
  },
  {
   "cell_type": "code",
   "execution_count": 25,
   "id": "b417b722-e710-4c74-92a8-46b16e350aed",
   "metadata": {},
   "outputs": [],
   "source": [
    "df_required['expanded_urls'] = df_required['expanded_urls'].astype(\"string\")"
   ]
  },
  {
   "cell_type": "code",
   "execution_count": 26,
   "id": "bfd01943-748f-417e-90cf-a2c92238757a",
   "metadata": {},
   "outputs": [],
   "source": [
    "df_required['text'] = df_required['text'].astype(\"string\")"
   ]
  },
  {
   "cell_type": "code",
   "execution_count": 27,
   "id": "2f894621-8ca1-4091-802b-615abc74b2a0",
   "metadata": {},
   "outputs": [],
   "source": [
    "data2=pd.DataFrame(pd.read_excel(\"MediaBias.xlsx\"))"
   ]
  },
  {
   "cell_type": "code",
   "execution_count": 28,
   "id": "a258d39c-f532-4146-bd87-c09c2df116a0",
   "metadata": {},
   "outputs": [],
   "source": [
    "data3 = data2[['Media source', 'URL', 'Political Leaning']].copy()"
   ]
  },
  {
   "cell_type": "code",
   "execution_count": 29,
   "id": "6d3ea0dd-60ad-4929-b231-bfe4bbd8890f",
   "metadata": {},
   "outputs": [],
   "source": [
    "#SPLITTING THE ENTIRE DATASET OF MEDIABIAS INTO LEFT,CENTRE AND RIGHT"
   ]
  },
  {
   "cell_type": "code",
   "execution_count": 30,
   "id": "19e03ce2-0e39-4843-8f64-a55821f300ca",
   "metadata": {},
   "outputs": [],
   "source": [
    "left_media=[]\n",
    "right_media=[]\n",
    "centre_media=[]\n",
    "left_lean_media=[]\n",
    "right_lean_media=[]"
   ]
  },
  {
   "cell_type": "code",
   "execution_count": 31,
   "id": "47f5a75b-be11-4e5a-b3a7-69496c56f7dc",
   "metadata": {},
   "outputs": [],
   "source": [
    "data3.rename(columns = {'Media source':'Media_source', 'Political Leaning':'Political_Leaning'}, inplace = True)\n",
    "data3.Media_source = data3.Media_source.astype('string')\n",
    "data3.Political_Leaning=data3.Political_Leaning.astype('string')\n",
    "data3.URL=data3.URL.astype('string')"
   ]
  },
  {
   "cell_type": "code",
   "execution_count": 32,
   "id": "cc6e886a-ddf4-49a7-b6cf-a689177b8563",
   "metadata": {},
   "outputs": [],
   "source": [
    "data3.dropna(inplace=True)"
   ]
  },
  {
   "cell_type": "code",
   "execution_count": 33,
   "id": "17cc84e7-89f3-4219-b81b-83cf8ea1d835",
   "metadata": {},
   "outputs": [
    {
     "data": {
      "text/html": [
       "<div>\n",
       "<style scoped>\n",
       "    .dataframe tbody tr th:only-of-type {\n",
       "        vertical-align: middle;\n",
       "    }\n",
       "\n",
       "    .dataframe tbody tr th {\n",
       "        vertical-align: top;\n",
       "    }\n",
       "\n",
       "    .dataframe thead th {\n",
       "        text-align: right;\n",
       "    }\n",
       "</style>\n",
       "<table border=\"1\" class=\"dataframe\">\n",
       "  <thead>\n",
       "    <tr style=\"text-align: right;\">\n",
       "      <th></th>\n",
       "      <th>Media_source</th>\n",
       "      <th>URL</th>\n",
       "      <th>Political_Leaning</th>\n",
       "    </tr>\n",
       "  </thead>\n",
       "  <tbody>\n",
       "    <tr>\n",
       "      <th>0</th>\n",
       "      <td>ABC News (Online)</td>\n",
       "      <td>https://abcnews.go.com/</td>\n",
       "      <td>Left Lean</td>\n",
       "    </tr>\n",
       "    <tr>\n",
       "      <th>1</th>\n",
       "      <td>Above The Law</td>\n",
       "      <td>https://abovethelaw.com/</td>\n",
       "      <td>Left Lean</td>\n",
       "    </tr>\n",
       "    <tr>\n",
       "      <th>2</th>\n",
       "      <td>Abridge News</td>\n",
       "      <td>https://abridgenews.com/</td>\n",
       "      <td>Mixed</td>\n",
       "    </tr>\n",
       "    <tr>\n",
       "      <th>3</th>\n",
       "      <td>AJ+</td>\n",
       "      <td>https://www.ajplus.net/</td>\n",
       "      <td>Left</td>\n",
       "    </tr>\n",
       "    <tr>\n",
       "      <th>4</th>\n",
       "      <td>Al Jazeera</td>\n",
       "      <td>https://www.aljazeera.com/</td>\n",
       "      <td>Left Lean</td>\n",
       "    </tr>\n",
       "  </tbody>\n",
       "</table>\n",
       "</div>"
      ],
      "text/plain": [
       "        Media_source                         URL Political_Leaning\n",
       "0  ABC News (Online)     https://abcnews.go.com/         Left Lean\n",
       "1      Above The Law    https://abovethelaw.com/         Left Lean\n",
       "2       Abridge News    https://abridgenews.com/             Mixed\n",
       "3                AJ+     https://www.ajplus.net/              Left\n",
       "4         Al Jazeera  https://www.aljazeera.com/         Left Lean"
      ]
     },
     "execution_count": 33,
     "metadata": {},
     "output_type": "execute_result"
    }
   ],
   "source": [
    "data3.head()"
   ]
  },
  {
   "cell_type": "code",
   "execution_count": 34,
   "id": "443b2ef5-6e67-4d3a-9788-acfe5bd4c52f",
   "metadata": {},
   "outputs": [],
   "source": [
    "for ind in data3.index:\n",
    "    if(data3['Political_Leaning'][ind]==\"Left\"):\n",
    "        if(data3['Media_source'][ind] not in left_media):\n",
    "            left_media.append(data3['Media_source'][ind])\n",
    "    elif(data3['Political_Leaning'][ind]==\"Right\"):\n",
    "        if(data3['Media_source'][ind] not in right_media):\n",
    "            right_media.append(data3['Media_source'][ind])\n",
    "    elif((data3['Political_Leaning'][ind]==\"Center\" ) or (data3['Political_Leaning'][ind]==\"Mixed\")):\n",
    "        if(data3['Media_source'][ind] not in centre_media):\n",
    "            centre_media.append(data3['Media_source'][ind])\n",
    "    elif(data3['Political_Leaning'][ind]==\"Left Lean\"):\n",
    "        if(data3['Media_source'][ind] not in left_lean_media):\n",
    "            left_lean_media.append((data3['Media_source'][ind]))\n",
    "    elif(data3['Political_Leaning'][ind]==\"Right Lean\"):\n",
    "        if(data3['Media_source'][ind] not in right_lean_media):\n",
    "            right_lean_media.append((data3['Media_source'][ind]))\n",
    "    "
   ]
  },
  {
   "cell_type": "code",
   "execution_count": 35,
   "id": "e81cf000-9600-4b14-897c-6056ca3643b5",
   "metadata": {},
   "outputs": [],
   "source": [
    "hashmap_media={}"
   ]
  },
  {
   "cell_type": "code",
   "execution_count": 36,
   "id": "a58a7ecd-7bcb-4df8-9d27-b311bc862cd7",
   "metadata": {},
   "outputs": [],
   "source": [
    "for ind in data3.index:\n",
    "    hashmap_media[data3['Media_source'][ind]]=data3['URL'][ind]"
   ]
  },
  {
   "cell_type": "code",
   "execution_count": 37,
   "id": "a0338f2a-4ae6-4508-aa3b-48efbbf7db43",
   "metadata": {},
   "outputs": [],
   "source": [
    "import re"
   ]
  },
  {
   "cell_type": "code",
   "execution_count": 38,
   "id": "0337b582-9851-4726-8373-7125c0120c39",
   "metadata": {},
   "outputs": [
    {
     "data": {
      "text/plain": [
       "False"
      ]
     },
     "execution_count": 38,
     "metadata": {},
     "output_type": "execute_result"
    }
   ],
   "source": [
    "df_required.isnull().values.any()"
   ]
  },
  {
   "cell_type": "code",
   "execution_count": 39,
   "id": "4e0353ec-55d7-4d16-b90a-eed0ef8e2be1",
   "metadata": {},
   "outputs": [
    {
     "data": {
      "text/plain": [
       "created_at       datetime64[ns, UTC]\n",
       "expanded_urls                 string\n",
       "text                          string\n",
       "dtype: object"
      ]
     },
     "execution_count": 39,
     "metadata": {},
     "output_type": "execute_result"
    }
   ],
   "source": [
    "df_required.dtypes"
   ]
  },
  {
   "cell_type": "code",
   "execution_count": 40,
   "id": "e02b1c18-3d87-4846-a032-4fe2ee4c8078",
   "metadata": {},
   "outputs": [
    {
     "name": "stdout",
     "output_type": "stream",
     "text": [
      "95\n",
      "47\n",
      "54\n",
      "50\n"
     ]
    }
   ],
   "source": [
    "print(len(left_lean_media))\n",
    "print(len(right_lean_media))\n",
    "print(len(left_media))\n",
    "print(len(right_media))"
   ]
  },
  {
   "cell_type": "code",
   "execution_count": 41,
   "id": "85301d47-fe9e-4f77-9410-5656d89f2c53",
   "metadata": {},
   "outputs": [],
   "source": [
    "left_suburls=[]\n",
    "right_suburls=[]\n",
    "centre_suburls=[]\n",
    "left_leaning_suburls=[]\n",
    "right_leaning_suburls=[]"
   ]
  },
  {
   "cell_type": "code",
   "execution_count": 42,
   "id": "9ff509ff-f1d7-4e37-9cf9-bb54daed02df",
   "metadata": {},
   "outputs": [],
   "source": [
    "for i in range(0,len(left_media)):\n",
    "    if hashmap_media.get(left_media[i]) not in left_suburls:\n",
    "        left_suburls.append(hashmap_media.get(left_media[i]))"
   ]
  },
  {
   "cell_type": "code",
   "execution_count": 43,
   "id": "7534d252-2891-4975-8b81-7517f5fbc933",
   "metadata": {},
   "outputs": [],
   "source": [
    "for i in range(0,len(right_media)):\n",
    "    if hashmap_media.get(right_media[i]) not in right_suburls:\n",
    "        right_suburls.append(hashmap_media.get(right_media[i]))"
   ]
  },
  {
   "cell_type": "code",
   "execution_count": 44,
   "id": "0a3e0239-5bd4-43a8-8fab-f556ef417fe5",
   "metadata": {},
   "outputs": [],
   "source": [
    "for i in range(0,len(centre_media)):\n",
    "    if hashmap_media.get(centre_media[i]) not in centre_suburls:\n",
    "        centre_suburls.append(hashmap_media.get(centre_media[i]))"
   ]
  },
  {
   "cell_type": "code",
   "execution_count": 45,
   "id": "1c5e42e5-332c-45d1-a60c-83c1296e9be9",
   "metadata": {},
   "outputs": [],
   "source": [
    "for i in range(0,len(left_lean_media)):\n",
    "    if hashmap_media.get(left_lean_media[i]) not in left_leaning_suburls:\n",
    "        left_leaning_suburls.append(hashmap_media.get(left_lean_media[i]))"
   ]
  },
  {
   "cell_type": "code",
   "execution_count": 46,
   "id": "48f13b1c-2b4a-4e93-ab76-b3a3ca6b5fc5",
   "metadata": {},
   "outputs": [],
   "source": [
    "for i in range(0,len(right_lean_media)):\n",
    "    if hashmap_media.get(right_lean_media[i]) not in right_leaning_suburls:\n",
    "        right_leaning_suburls.append(hashmap_media.get(right_lean_media[i]))"
   ]
  },
  {
   "cell_type": "code",
   "execution_count": 47,
   "id": "c3e13fcf-5c6c-46c0-aa4c-b65872f72bfc",
   "metadata": {},
   "outputs": [
    {
     "name": "stdout",
     "output_type": "stream",
     "text": [
      "['https://www.ajplus.net/', 'https://www.alternet.org/', 'http://www.aquinas.edu/thesaint/', 'https://www.arkansasonline.com/', 'https://blockclubchicago.org/', 'https://www.bloomberg.com/', 'https://browngirlmagazine.com/', 'https://www.buzzfeednews.com/', 'https://www.care2.com/', 'https://chicagocrusader.com/', 'https://chicagodefender.com/', 'https://www.cnn.com/', 'https://www.cnn.com/opinions', 'https://www.commondreams.org/', 'https://www.currentaffairs.org/', 'https://www.thedailybeast.com/', 'https://www.dailychela.com/', 'https://www.dailykos.com/', 'https://www.democracynow.org/', 'https://www.fcnp.com/', 'https://www.heralddemocrat.com/', 'https://hiplatina.com/', 'https://www.huffpost.com/', 'https://jacobinmag.com/', 'https://jezebel.com', 'https://www.leafly.com', 'https://mashable.com', 'https://www.metroweekly.com', 'https://wearemitu.com', 'https://www.motherjones.com', 'https://www.msnbc.com', 'https://newrepublic.com', 'https://www.nydailynews.com', 'https://nymag.com', 'https://www.peacock-panache.com', 'https://www.pinknews.co.uk/edition/us/', 'https://www.politicususa.com', 'https://progressivevoicesofiowa.com', 'https://www.rollingstone.com', 'https://www.salon.com', 'https://www.socialistalternative.org', 'https://socialistproject.ca/bullet/', 'https://splinternews.com', 'http://www.canyoncountryzephyr.com/', 'https://theintercept.com/', 'https://www.thejuggernaut.com/', 'https://www.thenation.com/', 'https://www.newyorker.com/', 'https://thinkprogress.org/', 'https://www.truthdig.com/', 'https://www.upworthy.com/', 'https://www.vice.com/en', 'https://www.vox.com/', 'https://www.yesmagazine.org/']\n"
     ]
    }
   ],
   "source": [
    "print(left_suburls)"
   ]
  },
  {
   "cell_type": "code",
   "execution_count": 48,
   "id": "330309c1-86ee-41be-95f0-d2aca9a33777",
   "metadata": {},
   "outputs": [],
   "source": [
    "left_timestamps=[]\n",
    "right_timestamps=[]\n",
    "centre_timestamps=[]\n",
    "left_leaning_timestamps=[]\n",
    "right_leaning_timestamps=[]"
   ]
  },
  {
   "cell_type": "code",
   "execution_count": 49,
   "id": "4ff15c91-100d-449e-a0f9-b47304923a61",
   "metadata": {},
   "outputs": [],
   "source": [
    "x=df_required[[\"created_at\",\"expanded_urls\",\"text\"]].to_numpy()"
   ]
  },
  {
   "cell_type": "code",
   "execution_count": 50,
   "id": "6a090fcc-6b7f-4a23-b198-6371d442ef93",
   "metadata": {},
   "outputs": [
    {
     "name": "stdout",
     "output_type": "stream",
     "text": [
      "[[Timestamp('2018-02-18 21:52:01+0000', tz='UTC')\n",
      "  'http://www.latimes.com/local/lanow/la-me-weinstein-prosecution-la-20180217-story.html'\n",
      "  'Ive always said this Cannabis in whatever form is massively effective for many illnesses Unfortunately the number of people displaying signs of allergy has risen significantly\\xa0']\n",
      " [Timestamp('2018-02-19 00:17:25+0000', tz='UTC')\n",
      "  'http://dailycaller.com/2015/10/12/remember-the-2007-harvard-study-showing-more-guns-led-to-less-crime/'\n",
      "  ' Another crash in Iran Qanon']\n",
      " [Timestamp('2018-02-19 10:02:34+0000', tz='UTC')\n",
      "  'https://www.leafly.com/news/health/a-guide-to-cannabis-allergies-and-symptoms'\n",
      "  'GERMANYS RIGHT WING POPULIST PARTY AFD IS NOW THE SECOND MOST POPULAR PARTY WITH 15 OF THE VOTE\\n\\nEUROSKEPTIC AFD HAS NOW SURPASS LEFT LEANING SOCIAL DEMOCRATS IN POLL FOR THE FIRST TIME\\n\\nBritFam']\n",
      " ...\n",
      " [Timestamp('2018-09-25 13:08:26+0000', tz='UTC')\n",
      "  'http://www.foxnews.com/sports/2018/09/25/minnesota-vikings-defender-everson-griffen-threatened-hotel-shooting-broke-into-teammates-home-reports-say.html'\n",
      "  'Senators Press Podesta And Other Democrats About DossierRelated Contacts\\n']\n",
      " [Timestamp('2018-09-25 13:08:26+0000', tz='UTC')\n",
      "  'http://www.foxnews.com/sports/2018/09/25/minnesota-vikings-defender-everson-griffen-threatened-hotel-shooting-broke-into-teammates-home-reports-say.html'\n",
      "  'EXCLUSIVE Infowars Releases Secret FISA Memo']\n",
      " [Timestamp('2018-09-26 02:01:54+0000', tz='UTC')\n",
      "  'https://www.westernjournal.com/ct/undercover-vid-nails-dem-socialist-pushing-anti-conservative-agenda-irs-payroll/?utm_source=Twitter&utm_medium=PostTopSharingButtons&utm_content=2018-09-25&utm_campaign=websitesharingbutton'\n",
      "  'Further evidence that we need to encourage Rep Gosar to enter the replaceFlake primary']]\n",
      "988371\n",
      "<class 'numpy.ndarray'>\n"
     ]
    }
   ],
   "source": [
    "print(x)\n",
    "print(len(x))\n",
    "print(type(x[1]))\n",
    "#left=np.array(left_suburls)"
   ]
  },
  {
   "cell_type": "code",
   "execution_count": 51,
   "id": "c9d7adef-5f66-45a4-bd52-bb8092cbe561",
   "metadata": {},
   "outputs": [],
   "source": [
    "try_formats = [\n",
    "    '%Y-%m-%d %H:%M:%S%z', \n",
    "    '%a %b %d %H:%M:%S %z %Y', \n",
    "    '%m/%d/%Y %H:%M:%S', \n",
    "]"
   ]
  },
  {
   "cell_type": "code",
   "execution_count": 52,
   "id": "2c6a4392-55a3-49bf-acd3-d49a13b95e94",
   "metadata": {},
   "outputs": [],
   "source": [
    "from datetime import datetime"
   ]
  },
  {
   "cell_type": "code",
   "execution_count": 53,
   "id": "1f00b5bc-26ab-42a8-9f37-58b78fb088a1",
   "metadata": {},
   "outputs": [],
   "source": [
    "for y in x:\n",
    "    for sub in left_suburls:\n",
    "        if y[1] is not np.nan:\n",
    "            if sub in str(y[1]):\n",
    "                y[0] = str(y[0])\n",
    "                #date_object = None  # Declare the variable with a default value\n",
    "                for format_string in try_formats:\n",
    "                    try:\n",
    "                        date_object = datetime.strptime(y[0], format_string)\n",
    "                        break\n",
    "                    except ValueError:\n",
    "                        pass\n",
    "                \n",
    "                \n",
    "                tuple_timestamp_text = (date_object.date(), y[2])\n",
    "                left_timestamps.append(tuple_timestamp_text)\n"
   ]
  },
  {
   "cell_type": "code",
   "execution_count": 54,
   "id": "cdf8e77d-ff39-4a2f-820e-7ccea4990340",
   "metadata": {},
   "outputs": [
    {
     "name": "stdout",
     "output_type": "stream",
     "text": [
      "21414\n"
     ]
    }
   ],
   "source": [
    "print(len(left_timestamps))"
   ]
  },
  {
   "cell_type": "code",
   "execution_count": 55,
   "id": "84df7df9-ac30-488b-abd0-9951b6a60d91",
   "metadata": {},
   "outputs": [],
   "source": [
    "for y in x:\n",
    "    for sub  in centre_suburls:\n",
    "        if y[1] is not np.nan:\n",
    "            if sub in str(y[1]):\n",
    "                y[0] = str(y[0])\n",
    "                for format_string in try_formats:\n",
    "                    try:\n",
    "                        date_object = datetime.strptime(y[0], format_string)\n",
    "                        #print(f\"Format string: {format_string}\")\n",
    "                        \n",
    "                        break\n",
    "                    except ValueError:\n",
    "                        pass\n",
    "                \n",
    "                #y[0] = datetime.strptime(y[0], '%a %b %d %H:%M:%S %z %Y')\n",
    "                tuple_timestamp_text=(date_object.date(),y[2])\n",
    "                centre_timestamps.append(tuple_timestamp_text)\n",
    "                "
   ]
  },
  {
   "cell_type": "code",
   "execution_count": 56,
   "id": "645998f7-b402-4945-b38e-751173ed20aa",
   "metadata": {},
   "outputs": [],
   "source": [
    "for y in x:\n",
    "    for sub  in right_suburls:\n",
    "        if y[1] is not np.nan:\n",
    "            if sub in str(y[1]):\n",
    "                y[0] = str(y[0])\n",
    "                for format_string in try_formats:\n",
    "                    try:\n",
    "                        date_object = datetime.strptime(y[0], format_string)\n",
    "                        #print(f\"Format string: {format_string}\")\n",
    "                        \n",
    "                        break\n",
    "                    except ValueError:\n",
    "                        pass\n",
    "                \n",
    "                #y[0] = datetime.strptime(y[0], '%a %b %d %H:%M:%S %z %Y')\n",
    "                tuple_timestamp_text=(date_object.date(),y[2])\n",
    "                right_timestamps.append(tuple_timestamp_text)\n",
    "                "
   ]
  },
  {
   "cell_type": "code",
   "execution_count": 57,
   "id": "7ae8a91a-3ea9-4bd5-af30-0d1c34e3172e",
   "metadata": {},
   "outputs": [],
   "source": [
    "for y in x:\n",
    "    for sub  in left_leaning_suburls:\n",
    "        if y[1] is not np.nan:\n",
    "            if sub in str(y[1]):\n",
    "                y[0] = str(y[0])\n",
    "                for format_string in try_formats:\n",
    "                    try:\n",
    "                        date_object = datetime.strptime(y[0], format_string)\n",
    "                        #print(f\"Format string: {format_string}\")\n",
    "                        \n",
    "                        break\n",
    "                    except ValueError:\n",
    "                        pass\n",
    "                \n",
    "                #y[0] = datetime.strptime(y[0], '%a %b %d %H:%M:%S %z %Y')\n",
    "                tuple_timestamp_text=(date_object.date(),y[2])\n",
    "                left_leaning_timestamps.append(tuple_timestamp_text)\n",
    "                "
   ]
  },
  {
   "cell_type": "code",
   "execution_count": 58,
   "id": "81452048-5182-4c34-93d5-1efca89c7ce8",
   "metadata": {},
   "outputs": [],
   "source": [
    "for y in x:\n",
    "    for sub  in right_leaning_suburls:\n",
    "        if y[1] is not np.nan:\n",
    "            if sub in str(y[1]):\n",
    "                y[0] = str(y[0])\n",
    "                for format_string in try_formats:\n",
    "                    try:\n",
    "                        date_object = datetime.strptime(y[0], format_string)\n",
    "                        #print(f\"Format string: {format_string}\")\n",
    "                        \n",
    "                        break\n",
    "                    except ValueError:\n",
    "                        pass\n",
    "                \n",
    "                #y[0] = datetime.strptime(y[0], '%a %b %d %H:%M:%S %z %Y')\n",
    "                tuple_timestamp_text=(date_object.date(),y[2])\n",
    "                right_leaning_timestamps.append(tuple_timestamp_text)\n",
    "                "
   ]
  },
  {
   "cell_type": "code",
   "execution_count": 59,
   "id": "6b714e87-0688-468e-86cc-acff4b21ff54",
   "metadata": {},
   "outputs": [
    {
     "name": "stdout",
     "output_type": "stream",
     "text": [
      "21414\n",
      "293468\n",
      "67695\n",
      "65390\n",
      "109880\n"
     ]
    }
   ],
   "source": [
    "print(len(left_timestamps))\n",
    "print(len(right_timestamps))\n",
    "print(len(centre_timestamps))\n",
    "print(len(left_leaning_timestamps))\n",
    "print(len(right_leaning_timestamps))\n"
   ]
  },
  {
   "cell_type": "code",
   "execution_count": 60,
   "id": "881d0d35-ac55-46e4-8159-b65f086f54ff",
   "metadata": {},
   "outputs": [],
   "source": [
    "left_hashmap  ={}\n",
    "right_hashmap ={}\n",
    "centre_hashmap={}\n",
    "left_lean_hashmap={}\n",
    "right_lean_hashmap={}"
   ]
  },
  {
   "cell_type": "code",
   "execution_count": 61,
   "id": "3a9c3a30-5ec8-4104-b447-a4c4e725d214",
   "metadata": {},
   "outputs": [
    {
     "data": {
      "text/plain": [
       "(datetime.date(2018, 2, 19),\n",
       " 'GERMANYS RIGHT WING POPULIST PARTY AFD IS NOW THE SECOND MOST POPULAR PARTY WITH 15 OF THE VOTE\\n\\nEUROSKEPTIC AFD HAS NOW SURPASS LEFT LEANING SOCIAL DEMOCRATS IN POLL FOR THE FIRST TIME\\n\\nBritFam')"
      ]
     },
     "execution_count": 61,
     "metadata": {},
     "output_type": "execute_result"
    }
   ],
   "source": [
    "left_timestamps[0]"
   ]
  },
  {
   "cell_type": "code",
   "execution_count": 62,
   "id": "766c41cf-15cf-4e06-b403-c651e4e947c6",
   "metadata": {},
   "outputs": [],
   "source": [
    "for t in left_timestamps:\n",
    "    if(t[0] not in left_hashmap):\n",
    "        left_hashmap[t[0]] = []\n",
    "    left_hashmap[t[0]].append(t[1])"
   ]
  },
  {
   "cell_type": "code",
   "execution_count": 63,
   "id": "f6ff797c-540c-4a81-a93e-b598f170b82e",
   "metadata": {},
   "outputs": [],
   "source": [
    "for t in right_timestamps:\n",
    "    if(t[0] not in right_hashmap):\n",
    "        right_hashmap[t[0]] = []\n",
    "    right_hashmap[t[0]].append(t[1])"
   ]
  },
  {
   "cell_type": "code",
   "execution_count": 64,
   "id": "b114f4f7-d7ca-4e76-a3c2-74e90e8b628b",
   "metadata": {},
   "outputs": [],
   "source": [
    "for t in centre_timestamps:\n",
    "    if(t[0] not in centre_hashmap):\n",
    "        centre_hashmap[t[0]] = []\n",
    "    centre_hashmap[t[0]].append(t[1])"
   ]
  },
  {
   "cell_type": "code",
   "execution_count": 65,
   "id": "cdfe7071-e608-42f4-a14f-c4ddaa70f692",
   "metadata": {},
   "outputs": [],
   "source": [
    "for t in left_leaning_timestamps:\n",
    "    if(t[0] not in left_lean_hashmap):\n",
    "        left_lean_hashmap[t[0]] = []\n",
    "    left_lean_hashmap[t[0]].append(t[1])"
   ]
  },
  {
   "cell_type": "code",
   "execution_count": 66,
   "id": "986e2964-58bc-48a4-a248-ebc23affce7b",
   "metadata": {},
   "outputs": [],
   "source": [
    "for t in right_leaning_timestamps:\n",
    "    if(t[0] not in right_lean_hashmap):\n",
    "        right_lean_hashmap[t[0]] = []\n",
    "    right_lean_hashmap[t[0]].append(t[1])"
   ]
  },
  {
   "cell_type": "code",
   "execution_count": 67,
   "id": "43c70f89-14b0-4cd1-991e-b38eb6b450c5",
   "metadata": {},
   "outputs": [
    {
     "name": "stdout",
     "output_type": "stream",
     "text": [
      "Requirement already satisfied: vaderSentiment in ./anaconda3/lib/python3.9/site-packages (3.3.2)\n",
      "Requirement already satisfied: requests in ./anaconda3/lib/python3.9/site-packages (from vaderSentiment) (2.27.1)\n",
      "Requirement already satisfied: idna<4,>=2.5 in ./anaconda3/lib/python3.9/site-packages (from requests->vaderSentiment) (3.3)\n",
      "Requirement already satisfied: certifi>=2017.4.17 in ./anaconda3/lib/python3.9/site-packages (from requests->vaderSentiment) (2021.10.8)\n",
      "Requirement already satisfied: charset-normalizer~=2.0.0 in ./anaconda3/lib/python3.9/site-packages (from requests->vaderSentiment) (2.0.4)\n",
      "Requirement already satisfied: urllib3<1.27,>=1.21.1 in ./anaconda3/lib/python3.9/site-packages (from requests->vaderSentiment) (1.26.9)\n",
      "Note: you may need to restart the kernel to use updated packages.\n"
     ]
    }
   ],
   "source": [
    "pip install vaderSentiment"
   ]
  },
  {
   "cell_type": "code",
   "execution_count": 68,
   "id": "841e4d24-9a00-4fdf-8f66-d8b2a42b4c7f",
   "metadata": {},
   "outputs": [],
   "source": [
    " \n",
    "from vaderSentiment.vaderSentiment import SentimentIntensityAnalyzer\n",
    "\n",
    "# function to print sentiments\n",
    "# of the sentence.\n",
    "def sentiment_scores(sentence):\n",
    "\n",
    "# Create a SentimentIntensityAnalyzer object.\n",
    "    sid_obj = SentimentIntensityAnalyzer()\n",
    "\n",
    "    # polarity_scores method of SentimentIntensityAnalyzer\n",
    "    # object gives a sentiment dictionary.\n",
    "    # which contains pos, neg, neu, and compound scores.\n",
    "    sentiment_dict = sid_obj.polarity_scores(sentence)\n",
    "    return sentiment_dict\n",
    "\n",
    "\n"
   ]
  },
  {
   "cell_type": "code",
   "execution_count": 69,
   "id": "52244d49-f6b9-455a-ae0d-7b5929717275",
   "metadata": {},
   "outputs": [],
   "source": [
    "left_cache={}\n",
    "right_cache={}\n",
    "centre_cache={}\n",
    "left_lean_cache={}\n",
    "right_lean_cache={}"
   ]
  },
  {
   "cell_type": "code",
   "execution_count": 70,
   "id": "d3ccd187-f3eb-4e1c-aedb-883f4639183e",
   "metadata": {},
   "outputs": [],
   "source": [
    "for t in left_hashmap:\n",
    "    #print(t)\n",
    "    if t not in left_cache:\n",
    "        left_cache[t] =[]\n",
    "    \n",
    "    for text in left_hashmap[t]:\n",
    "        left_cache[t].append(sentiment_scores(text))"
   ]
  },
  {
   "cell_type": "code",
   "execution_count": 71,
   "id": "b533a4b0-25ab-4580-a322-5c3f929c057e",
   "metadata": {},
   "outputs": [],
   "source": [
    "for t in right_hashmap:\n",
    "    #print(t)\n",
    "    if t not in right_cache:\n",
    "        right_cache[t] =[]\n",
    "    \n",
    "    for text in right_hashmap[t]:\n",
    "        right_cache[t].append(sentiment_scores(text))"
   ]
  },
  {
   "cell_type": "code",
   "execution_count": 72,
   "id": "fc4a49f6-24b9-4526-ab67-5f708c7cc10b",
   "metadata": {},
   "outputs": [],
   "source": [
    "for t in centre_hashmap:\n",
    "    #print(t)\n",
    "    if t not in centre_cache:\n",
    "        centre_cache[t] =[]\n",
    "   \n",
    "    for text in centre_hashmap[t]:\n",
    "        centre_cache[t].append(sentiment_scores(text))"
   ]
  },
  {
   "cell_type": "code",
   "execution_count": 73,
   "id": "a95b04b1-6716-4845-8aba-5f554134f0ac",
   "metadata": {},
   "outputs": [],
   "source": [
    "for t in left_lean_hashmap:\n",
    "    #print(t)\n",
    "    if t not in left_lean_cache:\n",
    "        left_lean_cache[t] =[]\n",
    "    \n",
    "    for text in left_lean_hashmap[t]:\n",
    "        left_lean_cache[t].append(sentiment_scores(text))"
   ]
  },
  {
   "cell_type": "code",
   "execution_count": 74,
   "id": "dbc75660-6abe-40df-b9eb-ca614fd7f98e",
   "metadata": {},
   "outputs": [],
   "source": [
    "for t in right_lean_hashmap:\n",
    "    #print(t)\n",
    "    if t not in right_lean_cache:\n",
    "        right_lean_cache[t] =[]\n",
    "    \n",
    "    for text in right_lean_hashmap[t]:\n",
    "        right_lean_cache[t].append(sentiment_scores(text))"
   ]
  },
  {
   "cell_type": "code",
   "execution_count": 75,
   "id": "7f84d2b9-ed89-4127-a861-cdba909024f0",
   "metadata": {},
   "outputs": [],
   "source": [
    "#negatives stacked plot."
   ]
  },
  {
   "cell_type": "code",
   "execution_count": 76,
   "id": "7fe082a5-13a6-40e2-879c-6cd07f18dee5",
   "metadata": {},
   "outputs": [],
   "source": [
    "left_negatives={}\n",
    "right_negatives={}\n",
    "centre_negatives={}\n",
    "left_lean_negatives={}\n",
    "right_lean_negatives={}"
   ]
  },
  {
   "cell_type": "code",
   "execution_count": 77,
   "id": "a1cf580b-84b9-40a5-8adb-c44fa52f82ef",
   "metadata": {},
   "outputs": [],
   "source": [
    "for t in left_cache:\n",
    "    denominator = 0\n",
    "    numerator =0\n",
    "    for x in left_cache[t]:\n",
    "        numerator+=x['neg']\n",
    "        denominator+=1\n",
    "    average = numerator/denominator\n",
    "    left_negatives[t] = average\n",
    "    \n",
    "    "
   ]
  },
  {
   "cell_type": "code",
   "execution_count": 78,
   "id": "fbf74f30-60bf-4ce4-87e4-9099f7a14289",
   "metadata": {},
   "outputs": [],
   "source": [
    "for t in right_cache:\n",
    "    denominator = 0\n",
    "    numerator =0\n",
    "    for x in right_cache[t]:\n",
    "        numerator+=x['neg']\n",
    "        denominator+=1\n",
    "    average = numerator/denominator\n",
    "    right_negatives[t] = average\n",
    "    "
   ]
  },
  {
   "cell_type": "code",
   "execution_count": 79,
   "id": "f49a1ca3-c826-4c2f-a89a-0bb613cd5c9c",
   "metadata": {},
   "outputs": [],
   "source": [
    "for t in centre_cache:\n",
    "    denominator = 0\n",
    "    numerator =0\n",
    "    for x in centre_cache[t]:\n",
    "        numerator+=x['neg']\n",
    "        denominator+=1\n",
    "    average = numerator/denominator\n",
    "    centre_negatives[t] = average\n",
    "    "
   ]
  },
  {
   "cell_type": "code",
   "execution_count": 80,
   "id": "ea0460ae-2366-4769-9041-0ca1a94ad1ec",
   "metadata": {},
   "outputs": [],
   "source": [
    "for t in left_lean_cache:\n",
    "    denominator = 0\n",
    "    numerator =0\n",
    "    for x in left_lean_cache[t]:\n",
    "        numerator+=x['neg']\n",
    "        denominator+=1\n",
    "    average = numerator/denominator\n",
    "    left_lean_negatives[t] = average\n",
    "    "
   ]
  },
  {
   "cell_type": "code",
   "execution_count": 81,
   "id": "79042ba5-b274-44c6-bced-90d811546d1b",
   "metadata": {},
   "outputs": [],
   "source": [
    "for t in right_lean_cache:\n",
    "    denominator = 0\n",
    "    numerator =0\n",
    "    for x in right_lean_cache[t]:\n",
    "        numerator+=x['neg']\n",
    "        denominator+=1\n",
    "    average = numerator/denominator\n",
    "    right_lean_negatives[t] = average\n",
    "    "
   ]
  },
  {
   "cell_type": "code",
   "execution_count": 82,
   "id": "56cfe7c6-a101-422f-983c-05fd444acdf6",
   "metadata": {},
   "outputs": [],
   "source": [
    "left_negatives1 = {'Date':left_negatives.keys(), 'negative_scores':left_negatives.values()}\n",
    "right_negatives1 = {'Date':right_negatives.keys(), 'negative_scores':right_negatives.values()}\n",
    "centre_negatives1 = {'Date':centre_negatives.keys(), 'negative_scores':centre_negatives.values()}\n",
    "left_lean_negatives1 = {'Date':left_lean_negatives.keys(), 'negative_scores':left_lean_negatives.values()}\n",
    "right_lean_negatives1 = {'Date':right_lean_negatives.keys(), 'negative_scores':right_lean_negatives.values()}\n"
   ]
  },
  {
   "cell_type": "code",
   "execution_count": 83,
   "id": "9fb092b0-b412-40d0-977f-965585239eb7",
   "metadata": {},
   "outputs": [],
   "source": [
    "left_negatives_df = pd.DataFrame.from_dict(left_negatives1)\n",
    "right_negatives_df = pd.DataFrame.from_dict(right_negatives1)\n",
    "centre_negatives_df = pd.DataFrame.from_dict(centre_negatives1)\n",
    "left_lean_negatives_df = pd.DataFrame.from_dict(left_lean_negatives1)\n",
    "right_lean_negatives_df = pd.DataFrame.from_dict(right_lean_negatives1)"
   ]
  },
  {
   "cell_type": "code",
   "execution_count": 84,
   "id": "b03c0f5a-1502-4a1c-88e2-f389af03ea30",
   "metadata": {},
   "outputs": [
    {
     "name": "stderr",
     "output_type": "stream",
     "text": [
      "/home/srinath/anaconda3/lib/python3.9/site-packages/pandas/core/ops/array_ops.py:73: FutureWarning: Comparison of Timestamp with datetime.date is deprecated in order to match the standard library behavior. In a future version these will be considered non-comparable. Use 'ts == pd.Timestamp(date)' or 'ts.date() == date' instead.\n",
      "  result = libops.scalar_compare(x.ravel(), y, op)\n"
     ]
    }
   ],
   "source": [
    "left_negatives_filtered_df= left_negatives_df[(left_negatives_df['Date']>=pd.Timestamp(2018,5,1)) & (left_negatives_df['Date']<=pd.Timestamp(2018,12,1))]"
   ]
  },
  {
   "cell_type": "code",
   "execution_count": 85,
   "id": "89638c15-0d10-4f31-bf40-7d3bfe6796e3",
   "metadata": {},
   "outputs": [],
   "source": [
    "right_negatives_filtered_df= right_negatives_df[(right_negatives_df['Date']>=pd.Timestamp(2018,5,1)) & (right_negatives_df['Date']<=pd.Timestamp(2018,12,1))]\n",
    "centre_negatives_filtered_df= centre_negatives_df[(centre_negatives_df['Date']>=pd.Timestamp(2018,5,1)) & (centre_negatives_df['Date']<=pd.Timestamp(2018,12,1))]\n",
    "left_lean_negatives_filtered_df= left_lean_negatives_df[(left_lean_negatives_df['Date']>=pd.Timestamp(2018,5,1)) & (left_lean_negatives_df['Date']<=pd.Timestamp(2018,12,1))]\n",
    "right_lean_negatives_filtered_df= right_lean_negatives_df[(right_lean_negatives_df['Date']>=pd.Timestamp(2018,5,1)) & (right_lean_negatives_df['Date']<=pd.Timestamp(2018,12,1))]\n"
   ]
  },
  {
   "cell_type": "code",
   "execution_count": 86,
   "id": "dca4fedc-307a-4c51-93fa-9d853c26c037",
   "metadata": {},
   "outputs": [
    {
     "name": "stderr",
     "output_type": "stream",
     "text": [
      "/tmp/ipykernel_873451/1042235266.py:3: FutureWarning: Passing 'suffixes' which cause duplicate columns {'negative_scores_x'} in the result is deprecated and will raise a MergeError in a future version.\n",
      "  merged_df = pd.merge(merged_df, left_lean_negatives_filtered_df, on='Date', how='inner')\n"
     ]
    }
   ],
   "source": [
    "merged_df = pd.merge(left_negatives_filtered_df, right_negatives_filtered_df, on='Date', how='inner')\n",
    "merged_df = pd.merge(merged_df, centre_negatives_filtered_df, on='Date', how='inner')\n",
    "merged_df = pd.merge(merged_df, left_lean_negatives_filtered_df, on='Date', how='inner')\n",
    "merged_df = pd.merge(merged_df, right_lean_negatives_filtered_df, on='Date', how='inner')\n",
    "\n",
    "\n",
    "merged_df.columns = ['Date', 'left_tweets_mean_negative_score', 'right_tweets_mean_negative_score', 'centre_tweets_mean_negative_score', 'left_leaning_tweets_mean_negative_score', 'right_leaning_tweets_mean_negative_score']\n",
    "\n",
    "\n",
    "merged_df['Date'] = pd.to_datetime(merged_df['Date'])"
   ]
  },
  {
   "cell_type": "code",
   "execution_count": 87,
   "id": "ee62576e-bb3c-40c9-b393-d530216f545b",
   "metadata": {},
   "outputs": [
    {
     "data": {
      "text/html": [
       "<div>\n",
       "<style scoped>\n",
       "    .dataframe tbody tr th:only-of-type {\n",
       "        vertical-align: middle;\n",
       "    }\n",
       "\n",
       "    .dataframe tbody tr th {\n",
       "        vertical-align: top;\n",
       "    }\n",
       "\n",
       "    .dataframe thead th {\n",
       "        text-align: right;\n",
       "    }\n",
       "</style>\n",
       "<table border=\"1\" class=\"dataframe\">\n",
       "  <thead>\n",
       "    <tr style=\"text-align: right;\">\n",
       "      <th></th>\n",
       "      <th>Date</th>\n",
       "      <th>left_tweets_mean_negative_score</th>\n",
       "      <th>right_tweets_mean_negative_score</th>\n",
       "      <th>centre_tweets_mean_negative_score</th>\n",
       "      <th>left_leaning_tweets_mean_negative_score</th>\n",
       "      <th>right_leaning_tweets_mean_negative_score</th>\n",
       "    </tr>\n",
       "  </thead>\n",
       "  <tbody>\n",
       "    <tr>\n",
       "      <th>0</th>\n",
       "      <td>2018-05-01</td>\n",
       "      <td>0.123079</td>\n",
       "      <td>0.131390</td>\n",
       "      <td>0.122179</td>\n",
       "      <td>0.137715</td>\n",
       "      <td>0.138901</td>\n",
       "    </tr>\n",
       "    <tr>\n",
       "      <th>1</th>\n",
       "      <td>2018-05-02</td>\n",
       "      <td>0.131110</td>\n",
       "      <td>0.132923</td>\n",
       "      <td>0.157203</td>\n",
       "      <td>0.152934</td>\n",
       "      <td>0.142091</td>\n",
       "    </tr>\n",
       "    <tr>\n",
       "      <th>2</th>\n",
       "      <td>2018-05-03</td>\n",
       "      <td>0.140156</td>\n",
       "      <td>0.131637</td>\n",
       "      <td>0.143996</td>\n",
       "      <td>0.147004</td>\n",
       "      <td>0.140370</td>\n",
       "    </tr>\n",
       "    <tr>\n",
       "      <th>3</th>\n",
       "      <td>2018-05-28</td>\n",
       "      <td>0.130283</td>\n",
       "      <td>0.138633</td>\n",
       "      <td>0.152276</td>\n",
       "      <td>0.140185</td>\n",
       "      <td>0.135275</td>\n",
       "    </tr>\n",
       "    <tr>\n",
       "      <th>4</th>\n",
       "      <td>2018-05-29</td>\n",
       "      <td>0.116855</td>\n",
       "      <td>0.126978</td>\n",
       "      <td>0.136323</td>\n",
       "      <td>0.139614</td>\n",
       "      <td>0.140904</td>\n",
       "    </tr>\n",
       "    <tr>\n",
       "      <th>...</th>\n",
       "      <td>...</td>\n",
       "      <td>...</td>\n",
       "      <td>...</td>\n",
       "      <td>...</td>\n",
       "      <td>...</td>\n",
       "      <td>...</td>\n",
       "    </tr>\n",
       "    <tr>\n",
       "      <th>151</th>\n",
       "      <td>2018-07-06</td>\n",
       "      <td>0.121594</td>\n",
       "      <td>0.134553</td>\n",
       "      <td>0.135198</td>\n",
       "      <td>0.118290</td>\n",
       "      <td>0.134713</td>\n",
       "    </tr>\n",
       "    <tr>\n",
       "      <th>152</th>\n",
       "      <td>2018-07-05</td>\n",
       "      <td>0.125875</td>\n",
       "      <td>0.130294</td>\n",
       "      <td>0.120398</td>\n",
       "      <td>0.127373</td>\n",
       "      <td>0.123533</td>\n",
       "    </tr>\n",
       "    <tr>\n",
       "      <th>153</th>\n",
       "      <td>2018-07-31</td>\n",
       "      <td>0.120721</td>\n",
       "      <td>0.141756</td>\n",
       "      <td>0.128516</td>\n",
       "      <td>0.126556</td>\n",
       "      <td>0.126541</td>\n",
       "    </tr>\n",
       "    <tr>\n",
       "      <th>154</th>\n",
       "      <td>2018-07-01</td>\n",
       "      <td>0.186267</td>\n",
       "      <td>0.110173</td>\n",
       "      <td>0.137744</td>\n",
       "      <td>0.160300</td>\n",
       "      <td>0.124815</td>\n",
       "    </tr>\n",
       "    <tr>\n",
       "      <th>155</th>\n",
       "      <td>2018-10-03</td>\n",
       "      <td>0.195400</td>\n",
       "      <td>0.127275</td>\n",
       "      <td>0.115951</td>\n",
       "      <td>0.126909</td>\n",
       "      <td>0.151420</td>\n",
       "    </tr>\n",
       "  </tbody>\n",
       "</table>\n",
       "<p>156 rows × 6 columns</p>\n",
       "</div>"
      ],
      "text/plain": [
       "          Date  left_tweets_mean_negative_score  \\\n",
       "0   2018-05-01                         0.123079   \n",
       "1   2018-05-02                         0.131110   \n",
       "2   2018-05-03                         0.140156   \n",
       "3   2018-05-28                         0.130283   \n",
       "4   2018-05-29                         0.116855   \n",
       "..         ...                              ...   \n",
       "151 2018-07-06                         0.121594   \n",
       "152 2018-07-05                         0.125875   \n",
       "153 2018-07-31                         0.120721   \n",
       "154 2018-07-01                         0.186267   \n",
       "155 2018-10-03                         0.195400   \n",
       "\n",
       "     right_tweets_mean_negative_score  centre_tweets_mean_negative_score  \\\n",
       "0                            0.131390                           0.122179   \n",
       "1                            0.132923                           0.157203   \n",
       "2                            0.131637                           0.143996   \n",
       "3                            0.138633                           0.152276   \n",
       "4                            0.126978                           0.136323   \n",
       "..                                ...                                ...   \n",
       "151                          0.134553                           0.135198   \n",
       "152                          0.130294                           0.120398   \n",
       "153                          0.141756                           0.128516   \n",
       "154                          0.110173                           0.137744   \n",
       "155                          0.127275                           0.115951   \n",
       "\n",
       "     left_leaning_tweets_mean_negative_score  \\\n",
       "0                                   0.137715   \n",
       "1                                   0.152934   \n",
       "2                                   0.147004   \n",
       "3                                   0.140185   \n",
       "4                                   0.139614   \n",
       "..                                       ...   \n",
       "151                                 0.118290   \n",
       "152                                 0.127373   \n",
       "153                                 0.126556   \n",
       "154                                 0.160300   \n",
       "155                                 0.126909   \n",
       "\n",
       "     right_leaning_tweets_mean_negative_score  \n",
       "0                                    0.138901  \n",
       "1                                    0.142091  \n",
       "2                                    0.140370  \n",
       "3                                    0.135275  \n",
       "4                                    0.140904  \n",
       "..                                        ...  \n",
       "151                                  0.134713  \n",
       "152                                  0.123533  \n",
       "153                                  0.126541  \n",
       "154                                  0.124815  \n",
       "155                                  0.151420  \n",
       "\n",
       "[156 rows x 6 columns]"
      ]
     },
     "execution_count": 87,
     "metadata": {},
     "output_type": "execute_result"
    }
   ],
   "source": [
    "merged_df"
   ]
  },
  {
   "cell_type": "code",
   "execution_count": 88,
   "id": "67e5a0c0-f123-4b58-b057-3d1b8e7b4cef",
   "metadata": {},
   "outputs": [
    {
     "data": {
      "image/png": "[encoded data removed]",
      "text/plain": [
       "<Figure size 720x432 with 1 Axes>"
      ]
     },
     "metadata": {
      "needs_background": "light"
     },
     "output_type": "display_data"
    }
   ],
   "source": [
    "merged_df['Date'] = pd.to_datetime(merged_df['Date'])\n",
    "\n",
    "# Set the timestamp column as the index\n",
    "merged_df.set_index('Date', inplace=True)\n",
    "\n",
    "# Group by day\n",
    "merged_df_grouped = merged_df.groupby(pd.Grouper(freq='D'))\n",
    "\n",
    "# Plotting area chart for each score\n",
    "plt.figure(figsize=(10, 6))\n",
    "for score in ['left_tweets_mean_negative_score', 'right_tweets_mean_negative_score', 'centre_tweets_mean_negative_score', 'left_leaning_tweets_mean_negative_score', 'right_leaning_tweets_mean_negative_score']:\n",
    "    plt.stackplot(merged_df_grouped.groups.keys(), merged_df_grouped[score].sum(), alpha=1)\n",
    "\n",
    "\n",
    "plt.legend(['left_tweets_mean_negative_score', 'right_tweets_mean_negative_score', 'centre_tweets_mean_negative_score', 'left_leaning_tweets_mean_negative_score', 'right_leaning_tweets_mean_negative_score'],loc='upper left', bbox_to_anchor=(1.05, 1))\n",
    "plt.xlabel('Days')\n",
    "plt.ylabel('Average negative Sentiment Score per day')\n",
    "plt.title('Area Chart of Average negative Sentiment Scores for Each day for GAB data')\n",
    "\n",
    "plt.ylim(0, 0.2)\n",
    "#plt.grid(True)\n",
    "plt.show()\n"
   ]
  },
  {
   "cell_type": "code",
   "execution_count": 89,
   "id": "693050a9-2ba4-47ab-afff-4aacb5dbae66",
   "metadata": {},
   "outputs": [
    {
     "data": {
      "text/plain": [
       "\"\\nmerged_df['Date'] = pd.to_datetime(merged_df['Date'])\\n\\nmonthly_data = merged_df.groupby(pd.Grouper(key='Date', freq='M')).mean()\\n\\n# Plot the area chart\\nplt.figure(figsize=(10, 6))  # Adjust the figure size as needed\\nplt.stackplot(monthly_data.index, monthly_data.values.T, labels=monthly_data.columns)\\n\\n# Set labels and title\\nplt.xlabel('Months')\\nplt.ylabel('Average Negative Sentiment Scores per month')\\nplt.title('Monthly Negative Sentiment Scores for political leaned tweets')\\n\\n# Add legend\\nplt.legend(bbox_to_anchor=(1.05, 1), loc='upper left')\\n\\n# Show the chart\\nplt.show()\\n\""
      ]
     },
     "execution_count": 89,
     "metadata": {},
     "output_type": "execute_result"
    }
   ],
   "source": [
    "\"\"\"\n",
    "merged_df['Date'] = pd.to_datetime(merged_df['Date'])\n",
    "\n",
    "monthly_data = merged_df.groupby(pd.Grouper(key='Date', freq='M')).mean()\n",
    "\n",
    "# Plot the area chart\n",
    "plt.figure(figsize=(10, 6))  # Adjust the figure size as needed\n",
    "plt.stackplot(monthly_data.index, monthly_data.values.T, labels=monthly_data.columns)\n",
    "\n",
    "# Set labels and title\n",
    "plt.xlabel('Months')\n",
    "plt.ylabel('Average Negative Sentiment Scores per month')\n",
    "plt.title('Monthly Negative Sentiment Scores for political leaned tweets')\n",
    "\n",
    "# Add legend\n",
    "plt.legend(bbox_to_anchor=(1.05, 1), loc='upper left')\n",
    "\n",
    "# Show the chart\n",
    "plt.show()\n",
    "\"\"\""
   ]
  },
  {
   "cell_type": "code",
   "execution_count": 90,
   "id": "8c1d7076-2e47-4e71-a360-f9e16bb69aee",
   "metadata": {},
   "outputs": [],
   "source": [
    "#positive stacked plot"
   ]
  },
  {
   "cell_type": "code",
   "execution_count": 91,
   "id": "5c9c086b-c4d0-43cf-9acd-57bfeb42ec1f",
   "metadata": {},
   "outputs": [],
   "source": [
    "left_positives={}\n",
    "right_positives={}\n",
    "centre_positives={}\n",
    "left_lean_positives={}\n",
    "right_lean_positives={}"
   ]
  },
  {
   "cell_type": "code",
   "execution_count": 92,
   "id": "4d5ffc41-2f86-4e9f-ae2e-bb326356f638",
   "metadata": {},
   "outputs": [],
   "source": [
    "for t in left_cache:\n",
    "    denominator = 0\n",
    "    numerator =0\n",
    "    for x in left_cache[t]:\n",
    "        numerator+=x['pos']\n",
    "        denominator+=1\n",
    "    average = numerator/denominator\n",
    "    left_positives[t] = average\n",
    "    \n",
    "    "
   ]
  },
  {
   "cell_type": "code",
   "execution_count": 93,
   "id": "4c2ca7d0-c156-4863-8daf-822b23ee56b6",
   "metadata": {},
   "outputs": [],
   "source": [
    "for t in right_cache:\n",
    "    denominator = 0\n",
    "    numerator =0\n",
    "    for x in right_cache[t]:\n",
    "        numerator+=x['pos']\n",
    "        denominator+=1\n",
    "    average = numerator/denominator\n",
    "    right_positives[t] = average\n",
    "    "
   ]
  },
  {
   "cell_type": "code",
   "execution_count": 94,
   "id": "0f7c0d9d-48bb-47a9-b94f-c9d2d2c3cd95",
   "metadata": {},
   "outputs": [],
   "source": [
    "for t in centre_cache:\n",
    "    denominator = 0\n",
    "    numerator =0\n",
    "    for x in centre_cache[t]:\n",
    "        numerator+=x['pos']\n",
    "        denominator+=1\n",
    "    average = numerator/denominator\n",
    "    centre_positives[t] = average\n",
    "    "
   ]
  },
  {
   "cell_type": "code",
   "execution_count": 95,
   "id": "43195dd6-aff3-4117-ad82-423997202f6d",
   "metadata": {},
   "outputs": [],
   "source": [
    "for t in left_lean_cache:\n",
    "    denominator = 0\n",
    "    numerator =0\n",
    "    for x in left_lean_cache[t]:\n",
    "        numerator+=x['pos']\n",
    "        denominator+=1\n",
    "    average = numerator/denominator\n",
    "    left_lean_positives[t] = average\n",
    "    "
   ]
  },
  {
   "cell_type": "code",
   "execution_count": 96,
   "id": "9240d441-1e12-46c3-a4ce-3bc94e96ed08",
   "metadata": {},
   "outputs": [],
   "source": [
    "for t in right_lean_cache:\n",
    "    denominator = 0\n",
    "    numerator =0\n",
    "    for x in right_lean_cache[t]:\n",
    "        numerator+=x['pos']\n",
    "        denominator+=1\n",
    "    average = numerator/denominator\n",
    "    right_lean_positives[t] = average\n",
    "    "
   ]
  },
  {
   "cell_type": "code",
   "execution_count": 97,
   "id": "f5573774-da38-4449-b8e7-b90315c2ad2e",
   "metadata": {},
   "outputs": [],
   "source": [
    "left_positives1 = {'Date':left_positives.keys(), 'positive_scores':left_positives.values()}\n",
    "right_positives1 = {'Date':right_positives.keys(), 'positive_scores':right_positives.values()}\n",
    "centre_positives1 = {'Date':centre_positives.keys(), 'positive_scores':centre_positives.values()}\n",
    "left_lean_positives1 = {'Date':left_lean_positives.keys(), 'positive_scores':left_lean_positives.values()}\n",
    "right_lean_positives1 = {'Date':right_lean_positives.keys(), 'positive_scores':right_lean_positives.values()}\n"
   ]
  },
  {
   "cell_type": "code",
   "execution_count": 98,
   "id": "59e74e24-3222-4c30-bd7d-bb9313f5f74b",
   "metadata": {},
   "outputs": [],
   "source": [
    "left_positives_df = pd.DataFrame.from_dict(left_positives1)\n",
    "right_positives_df = pd.DataFrame.from_dict(right_positives1)\n",
    "centre_positives_df = pd.DataFrame.from_dict(centre_positives1)\n",
    "left_lean_positives_df = pd.DataFrame.from_dict(left_lean_positives1)\n",
    "right_lean_positives_df = pd.DataFrame.from_dict(right_lean_positives1)"
   ]
  },
  {
   "cell_type": "code",
   "execution_count": 99,
   "id": "866b65d0-e7d3-4371-b12f-d877ba815f1f",
   "metadata": {},
   "outputs": [
    {
     "name": "stderr",
     "output_type": "stream",
     "text": [
      "/home/srinath/anaconda3/lib/python3.9/site-packages/pandas/core/ops/array_ops.py:73: FutureWarning: Comparison of Timestamp with datetime.date is deprecated in order to match the standard library behavior. In a future version these will be considered non-comparable. Use 'ts == pd.Timestamp(date)' or 'ts.date() == date' instead.\n",
      "  result = libops.scalar_compare(x.ravel(), y, op)\n"
     ]
    }
   ],
   "source": [
    "left_positives_filtered_df= left_positives_df[(left_positives_df['Date']>=pd.Timestamp(2018,5,1)) & (left_positives_df['Date']<=pd.Timestamp(2018,12,1))]\n",
    "right_positives_filtered_df= right_positives_df[(right_positives_df['Date']>=pd.Timestamp(2018,5,1)) & (right_positives_df['Date']<=pd.Timestamp(2018,12,1))]\n",
    "centre_positives_filtered_df= centre_positives_df[(centre_positives_df['Date']>=pd.Timestamp(2018,5,1)) & (centre_positives_df['Date']<=pd.Timestamp(2018,12,1))]\n",
    "left_lean_positives_filtered_df= left_lean_positives_df[(left_lean_positives_df['Date']>=pd.Timestamp(2018,5,1)) & (left_lean_positives_df['Date']<=pd.Timestamp(2018,12,1))]\n",
    "right_lean_positives_filtered_df= right_lean_positives_df[(right_lean_positives_df['Date']>=pd.Timestamp(2018,5,1)) & (right_lean_positives_df['Date']<=pd.Timestamp(2018,12,1))]\n",
    "\n"
   ]
  },
  {
   "cell_type": "code",
   "execution_count": 100,
   "id": "0762dd5a-070d-4fe8-959e-54564d2088d3",
   "metadata": {},
   "outputs": [
    {
     "name": "stderr",
     "output_type": "stream",
     "text": [
      "/tmp/ipykernel_873451/1899825588.py:3: FutureWarning: Passing 'suffixes' which cause duplicate columns {'positive_scores_x'} in the result is deprecated and will raise a MergeError in a future version.\n",
      "  merged_df = pd.merge(merged_df, left_lean_positives_filtered_df, on='Date', how='inner')\n"
     ]
    }
   ],
   "source": [
    "merged_df = pd.merge(left_positives_filtered_df, right_positives_filtered_df, on='Date', how='inner')\n",
    "merged_df = pd.merge(merged_df, centre_positives_filtered_df, on='Date', how='inner')\n",
    "merged_df = pd.merge(merged_df, left_lean_positives_filtered_df, on='Date', how='inner')\n",
    "merged_df = pd.merge(merged_df, right_lean_positives_filtered_df, on='Date', how='inner')\n",
    "\n",
    "\n",
    "merged_df.columns = ['Date', 'left_tweets_mean_positive_score', 'right_tweets_mean_positive_score', 'centre_tweets_mean_positive_score', 'left_leaning_tweets_mean_positive_score', 'right_leaning_tweets_mean_positive_score']\n",
    "\n",
    "\n",
    "merged_df['Date'] = pd.to_datetime(merged_df['Date'])"
   ]
  },
  {
   "cell_type": "code",
   "execution_count": 101,
   "id": "e2c8806b-0a41-4709-a7a3-f697460c340b",
   "metadata": {},
   "outputs": [
    {
     "data": {
      "text/html": [
       "<div>\n",
       "<style scoped>\n",
       "    .dataframe tbody tr th:only-of-type {\n",
       "        vertical-align: middle;\n",
       "    }\n",
       "\n",
       "    .dataframe tbody tr th {\n",
       "        vertical-align: top;\n",
       "    }\n",
       "\n",
       "    .dataframe thead th {\n",
       "        text-align: right;\n",
       "    }\n",
       "</style>\n",
       "<table border=\"1\" class=\"dataframe\">\n",
       "  <thead>\n",
       "    <tr style=\"text-align: right;\">\n",
       "      <th></th>\n",
       "      <th>Date</th>\n",
       "      <th>left_tweets_mean_positive_score</th>\n",
       "      <th>right_tweets_mean_positive_score</th>\n",
       "      <th>centre_tweets_mean_positive_score</th>\n",
       "      <th>left_leaning_tweets_mean_positive_score</th>\n",
       "      <th>right_leaning_tweets_mean_positive_score</th>\n",
       "    </tr>\n",
       "  </thead>\n",
       "  <tbody>\n",
       "    <tr>\n",
       "      <th>0</th>\n",
       "      <td>2018-05-01</td>\n",
       "      <td>0.066763</td>\n",
       "      <td>0.086534</td>\n",
       "      <td>0.083196</td>\n",
       "      <td>0.076820</td>\n",
       "      <td>0.082839</td>\n",
       "    </tr>\n",
       "    <tr>\n",
       "      <th>1</th>\n",
       "      <td>2018-05-02</td>\n",
       "      <td>0.081740</td>\n",
       "      <td>0.086039</td>\n",
       "      <td>0.073444</td>\n",
       "      <td>0.083864</td>\n",
       "      <td>0.090002</td>\n",
       "    </tr>\n",
       "    <tr>\n",
       "      <th>2</th>\n",
       "      <td>2018-05-03</td>\n",
       "      <td>0.084104</td>\n",
       "      <td>0.076244</td>\n",
       "      <td>0.079918</td>\n",
       "      <td>0.066360</td>\n",
       "      <td>0.078884</td>\n",
       "    </tr>\n",
       "    <tr>\n",
       "      <th>3</th>\n",
       "      <td>2018-05-28</td>\n",
       "      <td>0.091000</td>\n",
       "      <td>0.081395</td>\n",
       "      <td>0.091862</td>\n",
       "      <td>0.080701</td>\n",
       "      <td>0.088533</td>\n",
       "    </tr>\n",
       "    <tr>\n",
       "      <th>4</th>\n",
       "      <td>2018-05-29</td>\n",
       "      <td>0.080904</td>\n",
       "      <td>0.080466</td>\n",
       "      <td>0.084341</td>\n",
       "      <td>0.078030</td>\n",
       "      <td>0.082424</td>\n",
       "    </tr>\n",
       "    <tr>\n",
       "      <th>...</th>\n",
       "      <td>...</td>\n",
       "      <td>...</td>\n",
       "      <td>...</td>\n",
       "      <td>...</td>\n",
       "      <td>...</td>\n",
       "      <td>...</td>\n",
       "    </tr>\n",
       "    <tr>\n",
       "      <th>151</th>\n",
       "      <td>2018-07-06</td>\n",
       "      <td>0.101906</td>\n",
       "      <td>0.085886</td>\n",
       "      <td>0.088453</td>\n",
       "      <td>0.092310</td>\n",
       "      <td>0.080762</td>\n",
       "    </tr>\n",
       "    <tr>\n",
       "      <th>152</th>\n",
       "      <td>2018-07-05</td>\n",
       "      <td>0.107531</td>\n",
       "      <td>0.079065</td>\n",
       "      <td>0.088081</td>\n",
       "      <td>0.086873</td>\n",
       "      <td>0.090563</td>\n",
       "    </tr>\n",
       "    <tr>\n",
       "      <th>153</th>\n",
       "      <td>2018-07-31</td>\n",
       "      <td>0.147814</td>\n",
       "      <td>0.083886</td>\n",
       "      <td>0.103294</td>\n",
       "      <td>0.077991</td>\n",
       "      <td>0.072516</td>\n",
       "    </tr>\n",
       "    <tr>\n",
       "      <th>154</th>\n",
       "      <td>2018-07-01</td>\n",
       "      <td>0.128400</td>\n",
       "      <td>0.077450</td>\n",
       "      <td>0.116103</td>\n",
       "      <td>0.065300</td>\n",
       "      <td>0.070113</td>\n",
       "    </tr>\n",
       "    <tr>\n",
       "      <th>155</th>\n",
       "      <td>2018-10-03</td>\n",
       "      <td>0.108100</td>\n",
       "      <td>0.082229</td>\n",
       "      <td>0.077146</td>\n",
       "      <td>0.085606</td>\n",
       "      <td>0.066440</td>\n",
       "    </tr>\n",
       "  </tbody>\n",
       "</table>\n",
       "<p>156 rows × 6 columns</p>\n",
       "</div>"
      ],
      "text/plain": [
       "          Date  left_tweets_mean_positive_score  \\\n",
       "0   2018-05-01                         0.066763   \n",
       "1   2018-05-02                         0.081740   \n",
       "2   2018-05-03                         0.084104   \n",
       "3   2018-05-28                         0.091000   \n",
       "4   2018-05-29                         0.080904   \n",
       "..         ...                              ...   \n",
       "151 2018-07-06                         0.101906   \n",
       "152 2018-07-05                         0.107531   \n",
       "153 2018-07-31                         0.147814   \n",
       "154 2018-07-01                         0.128400   \n",
       "155 2018-10-03                         0.108100   \n",
       "\n",
       "     right_tweets_mean_positive_score  centre_tweets_mean_positive_score  \\\n",
       "0                            0.086534                           0.083196   \n",
       "1                            0.086039                           0.073444   \n",
       "2                            0.076244                           0.079918   \n",
       "3                            0.081395                           0.091862   \n",
       "4                            0.080466                           0.084341   \n",
       "..                                ...                                ...   \n",
       "151                          0.085886                           0.088453   \n",
       "152                          0.079065                           0.088081   \n",
       "153                          0.083886                           0.103294   \n",
       "154                          0.077450                           0.116103   \n",
       "155                          0.082229                           0.077146   \n",
       "\n",
       "     left_leaning_tweets_mean_positive_score  \\\n",
       "0                                   0.076820   \n",
       "1                                   0.083864   \n",
       "2                                   0.066360   \n",
       "3                                   0.080701   \n",
       "4                                   0.078030   \n",
       "..                                       ...   \n",
       "151                                 0.092310   \n",
       "152                                 0.086873   \n",
       "153                                 0.077991   \n",
       "154                                 0.065300   \n",
       "155                                 0.085606   \n",
       "\n",
       "     right_leaning_tweets_mean_positive_score  \n",
       "0                                    0.082839  \n",
       "1                                    0.090002  \n",
       "2                                    0.078884  \n",
       "3                                    0.088533  \n",
       "4                                    0.082424  \n",
       "..                                        ...  \n",
       "151                                  0.080762  \n",
       "152                                  0.090563  \n",
       "153                                  0.072516  \n",
       "154                                  0.070113  \n",
       "155                                  0.066440  \n",
       "\n",
       "[156 rows x 6 columns]"
      ]
     },
     "execution_count": 101,
     "metadata": {},
     "output_type": "execute_result"
    }
   ],
   "source": [
    "merged_df"
   ]
  },
  {
   "cell_type": "code",
   "execution_count": 102,
   "id": "6359995a-d24b-4294-97ec-c36ee6a527c7",
   "metadata": {},
   "outputs": [
    {
     "data": {
      "image/png": "[encoded data removed]",
      "text/plain": [
       "<Figure size 720x432 with 1 Axes>"
      ]
     },
     "metadata": {
      "needs_background": "light"
     },
     "output_type": "display_data"
    }
   ],
   "source": [
    "merged_df['Date'] = pd.to_datetime(merged_df['Date'])\n",
    "\n",
    "# Set the timestamp column as the index\n",
    "merged_df.set_index('Date', inplace=True)\n",
    "\n",
    "# Group by day\n",
    "merged_df_grouped = merged_df.groupby(pd.Grouper(freq='D'))\n",
    "\n",
    "# Plotting area chart for each score\n",
    "plt.figure(figsize=(10, 6))\n",
    "for score in ['left_tweets_mean_positive_score', 'right_tweets_mean_positive_score', 'centre_tweets_mean_positive_score', 'left_leaning_tweets_mean_positive_score', 'right_leaning_tweets_mean_positive_score']:\n",
    "    plt.stackplot(merged_df_grouped.groups.keys(), merged_df_grouped[score].sum(), alpha=1)\n",
    "\n",
    "\n",
    "plt.legend(['left_tweets_mean_positive_score', 'right_tweets_mean_positive_score', 'centre_tweets_mean_positive_score', 'left_leaning_tweets_mean_positive_score', 'right_leaning_tweets_mean_positive_score'],loc='upper left', bbox_to_anchor=(1.05, 1))\n",
    "plt.xlabel('Days')\n",
    "plt.ylabel('Average positive Sentiment Score per day')\n",
    "plt.title('Area Chart of Average positive Sentiment Scores for Each day for GAB data')\n",
    "\n",
    "plt.ylim(0, 0.2)\n",
    "#plt.grid(True)\n",
    "plt.show()\n"
   ]
  },
  {
   "cell_type": "code",
   "execution_count": 103,
   "id": "45242bbd-7b4e-4f7d-8bf9-f09d561c05ba",
   "metadata": {},
   "outputs": [
    {
     "data": {
      "text/plain": [
       "\"\\nmerged_df['Date'] = pd.to_datetime(merged_df['Date'])\\n\\nmonthly_data = merged_df.groupby(pd.Grouper(key='Date', freq='M')).mean()\\n\\n# Plot the area chart\\nplt.figure(figsize=(10, 6))  # Adjust the figure size as needed\\nplt.stackplot(monthly_data.index, monthly_data.values.T, labels=monthly_data.columns)\\n\\n# Set labels and title\\nplt.xlabel('Months')\\nplt.ylabel('Average positive Sentiment Scores per month')\\nplt.title('Monthly positive Sentiment Scores for political leaned tweets')\\n\\n# Add legend\\nplt.legend(bbox_to_anchor=(1.05, 1), loc='upper left')\\n\\n# Show the chart\\nplt.show()\\n\""
      ]
     },
     "execution_count": 103,
     "metadata": {},
     "output_type": "execute_result"
    }
   ],
   "source": [
    "\"\"\"\n",
    "merged_df['Date'] = pd.to_datetime(merged_df['Date'])\n",
    "\n",
    "monthly_data = merged_df.groupby(pd.Grouper(key='Date', freq='M')).mean()\n",
    "\n",
    "# Plot the area chart\n",
    "plt.figure(figsize=(10, 6))  # Adjust the figure size as needed\n",
    "plt.stackplot(monthly_data.index, monthly_data.values.T, labels=monthly_data.columns)\n",
    "\n",
    "# Set labels and title\n",
    "plt.xlabel('Months')\n",
    "plt.ylabel('Average positive Sentiment Scores per month')\n",
    "plt.title('Monthly positive Sentiment Scores for political leaned tweets')\n",
    "\n",
    "# Add legend\n",
    "plt.legend(bbox_to_anchor=(1.05, 1), loc='upper left')\n",
    "\n",
    "# Show the chart\n",
    "plt.show()\n",
    "\"\"\""
   ]
  },
  {
   "cell_type": "code",
   "execution_count": 104,
   "id": "dfa18e7b-0ee9-4014-8611-b2f3fb867455",
   "metadata": {},
   "outputs": [],
   "source": [
    "#neutral score stacked plots"
   ]
  },
  {
   "cell_type": "code",
   "execution_count": 105,
   "id": "8537a994-fa61-40cc-b27d-31b3fa31f4f4",
   "metadata": {},
   "outputs": [],
   "source": [
    "left_neutrals={}\n",
    "right_neutrals={}\n",
    "centre_neutrals={}\n",
    "left_lean_neutrals={}\n",
    "right_lean_neutrals={}"
   ]
  },
  {
   "cell_type": "code",
   "execution_count": 106,
   "id": "60632c61-9c1d-4ee0-92cd-1ced7351045c",
   "metadata": {},
   "outputs": [],
   "source": [
    "for t in left_cache:\n",
    "    denominator = 0\n",
    "    numerator =0\n",
    "    for x in left_cache[t]:\n",
    "        numerator+=x['neu']\n",
    "        denominator+=1\n",
    "    average = numerator/denominator\n",
    "    left_neutrals[t] = average\n",
    "    \n",
    "    "
   ]
  },
  {
   "cell_type": "code",
   "execution_count": 107,
   "id": "65b81dbc-bcda-43e1-abcd-f38959ae0f96",
   "metadata": {},
   "outputs": [],
   "source": [
    "for t in right_cache:\n",
    "    denominator = 0\n",
    "    numerator =0\n",
    "    for x in right_cache[t]:\n",
    "        numerator+=x['neu']\n",
    "        denominator+=1\n",
    "    average = numerator/denominator\n",
    "    right_neutrals[t] = average\n",
    "    "
   ]
  },
  {
   "cell_type": "code",
   "execution_count": 108,
   "id": "2a158146-a0e5-4962-b422-1e4872e7e4fb",
   "metadata": {},
   "outputs": [],
   "source": [
    "for t in centre_cache:\n",
    "    denominator = 0\n",
    "    numerator =0\n",
    "    for x in centre_cache[t]:\n",
    "        numerator+=x['neu']\n",
    "        denominator+=1\n",
    "    average = numerator/denominator\n",
    "    centre_neutrals[t] = average\n",
    "    "
   ]
  },
  {
   "cell_type": "code",
   "execution_count": 109,
   "id": "baf2fcfc-adf0-4a47-af46-dc424a8262ad",
   "metadata": {},
   "outputs": [],
   "source": [
    "for t in left_lean_cache:\n",
    "    denominator = 0\n",
    "    numerator =0\n",
    "    for x in left_lean_cache[t]:\n",
    "        numerator+=x['neu']\n",
    "        denominator+=1\n",
    "    average = numerator/denominator\n",
    "    left_lean_neutrals[t] = average\n",
    "    "
   ]
  },
  {
   "cell_type": "code",
   "execution_count": 110,
   "id": "443648f9-dec3-4ae6-8a92-e73072fbb05e",
   "metadata": {},
   "outputs": [],
   "source": [
    "for t in right_lean_cache:\n",
    "    denominator = 0\n",
    "    numerator =0\n",
    "    for x in right_lean_cache[t]:\n",
    "        numerator+=x['neu']\n",
    "        denominator+=1\n",
    "    average = numerator/denominator\n",
    "    right_lean_neutrals[t] = average\n",
    "    "
   ]
  },
  {
   "cell_type": "code",
   "execution_count": 111,
   "id": "4c40165e-0eb3-4737-afcc-20371600b981",
   "metadata": {},
   "outputs": [],
   "source": [
    "left_neutrals1 = {'Date':left_neutrals.keys(), 'neutral_scores':left_neutrals.values()}\n",
    "right_neutrals1 = {'Date':right_neutrals.keys(), 'neutral_scores':right_neutrals.values()}\n",
    "centre_neutrals1 = {'Date':centre_neutrals.keys(), 'neutral_scores':centre_neutrals.values()}\n",
    "left_lean_neutrals1 = {'Date':left_lean_neutrals.keys(), 'neutral_scores':left_lean_neutrals.values()}\n",
    "right_lean_neutrals1 = {'Date':right_lean_neutrals.keys(), 'neutral_scores':right_lean_neutrals.values()}\n"
   ]
  },
  {
   "cell_type": "code",
   "execution_count": 112,
   "id": "75a66825-9282-41c6-aea2-27d4c97c8925",
   "metadata": {},
   "outputs": [],
   "source": [
    "left_neutrals_df = pd.DataFrame.from_dict(left_neutrals1)\n",
    "right_neutrals_df = pd.DataFrame.from_dict(right_neutrals1)\n",
    "centre_neutrals_df = pd.DataFrame.from_dict(centre_neutrals1)\n",
    "left_lean_neutrals_df = pd.DataFrame.from_dict(left_lean_neutrals1)\n",
    "right_lean_neutrals_df = pd.DataFrame.from_dict(right_lean_neutrals1)"
   ]
  },
  {
   "cell_type": "code",
   "execution_count": 113,
   "id": "89fbf7f3-0702-4412-909f-50d69f95a2a4",
   "metadata": {},
   "outputs": [
    {
     "name": "stderr",
     "output_type": "stream",
     "text": [
      "/home/srinath/anaconda3/lib/python3.9/site-packages/pandas/core/ops/array_ops.py:73: FutureWarning: Comparison of Timestamp with datetime.date is deprecated in order to match the standard library behavior. In a future version these will be considered non-comparable. Use 'ts == pd.Timestamp(date)' or 'ts.date() == date' instead.\n",
      "  result = libops.scalar_compare(x.ravel(), y, op)\n"
     ]
    }
   ],
   "source": [
    "left_neutrals_filtered_df= left_neutrals_df[(left_neutrals_df['Date']>=pd.Timestamp(2018,5,1)) & (left_neutrals_df['Date']<=pd.Timestamp(2018,12,1))]\n",
    "right_neutrals_filtered_df= right_neutrals_df[(right_neutrals_df['Date']>=pd.Timestamp(2018,5,1)) & (right_neutrals_df['Date']<=pd.Timestamp(2018,12,1))]\n",
    "centre_neutrals_filtered_df= centre_neutrals_df[(centre_neutrals_df['Date']>=pd.Timestamp(2018,5,1)) & (centre_neutrals_df['Date']<=pd.Timestamp(2018,12,1))]\n",
    "left_lean_neutrals_filtered_df= left_lean_neutrals_df[(left_lean_neutrals_df['Date']>=pd.Timestamp(2018,5,1)) & (left_lean_neutrals_df['Date']<=pd.Timestamp(2018,12,1))]\n",
    "right_lean_neutrals_filtered_df= right_lean_neutrals_df[(right_lean_neutrals_df['Date']>=pd.Timestamp(2018,5,1)) & (right_lean_neutrals_df['Date']<=pd.Timestamp(2018,12,1))]\n",
    "\n"
   ]
  },
  {
   "cell_type": "code",
   "execution_count": 114,
   "id": "fc32d0c4-d1f7-46ac-b352-5a7115184089",
   "metadata": {},
   "outputs": [
    {
     "name": "stderr",
     "output_type": "stream",
     "text": [
      "/tmp/ipykernel_873451/4213257282.py:3: FutureWarning: Passing 'suffixes' which cause duplicate columns {'neutral_scores_x'} in the result is deprecated and will raise a MergeError in a future version.\n",
      "  merged_df = pd.merge(merged_df, left_lean_neutrals_filtered_df, on='Date', how='inner')\n"
     ]
    }
   ],
   "source": [
    "merged_df = pd.merge(left_neutrals_filtered_df, right_neutrals_filtered_df, on='Date', how='inner')\n",
    "merged_df = pd.merge(merged_df, centre_neutrals_filtered_df, on='Date', how='inner')\n",
    "merged_df = pd.merge(merged_df, left_lean_neutrals_filtered_df, on='Date', how='inner')\n",
    "merged_df = pd.merge(merged_df, right_lean_neutrals_filtered_df, on='Date', how='inner')\n",
    "\n",
    "\n",
    "merged_df.columns = ['Date', 'left_tweets_mean_neutral_score', 'right_tweets_mean_neutral_score', 'centre_tweets_mean_neutral_score', 'left_leaning_tweets_mean_neutral_score', 'right_leaning_tweets_mean_neutral_score']\n",
    "\n",
    "\n",
    "merged_df['Date'] = pd.to_datetime(merged_df['Date'])"
   ]
  },
  {
   "cell_type": "code",
   "execution_count": 115,
   "id": "0a32a5b3-7943-4d24-bbe2-4c06c24c8a44",
   "metadata": {},
   "outputs": [
    {
     "data": {
      "image/png": "[encoded data removed]",
      "text/plain": [
       "<Figure size 720x432 with 1 Axes>"
      ]
     },
     "metadata": {
      "needs_background": "light"
     },
     "output_type": "display_data"
    }
   ],
   "source": [
    "merged_df['Date'] = pd.to_datetime(merged_df['Date'])\n",
    "\n",
    "# Set the timestamp column as the index\n",
    "merged_df.set_index('Date', inplace=True)\n",
    "\n",
    "# Group by day\n",
    "merged_df_grouped = merged_df.groupby(pd.Grouper(freq='D'))\n",
    "\n",
    "# Plotting area chart for each score\n",
    "plt.figure(figsize=(10, 6))\n",
    "for score in ['left_tweets_mean_neutral_score', 'right_tweets_mean_neutral_score', 'centre_tweets_mean_neutral_score', 'left_leaning_tweets_mean_neutral_score', 'right_leaning_tweets_mean_neutral_score']:\n",
    "    plt.stackplot(merged_df_grouped.groups.keys(), merged_df_grouped[score].sum(), alpha=1)\n",
    "\n",
    "\n",
    "plt.legend(['left_tweets_mean_neutral_score', 'right_tweets_mean_neutral_score', 'centre_tweets_mean_neutral_score', 'left_leaning_tweets_mean_neutral_score', 'right_leaning_tweets_mean_neutral_score'],loc='upper left', bbox_to_anchor=(1.05, 1))\n",
    "plt.xlabel('Days')\n",
    "plt.ylabel('Average neutral Sentiment Score per day')\n",
    "plt.title('Area Chart of Average neutral Scores for Each day for GAB data')\n",
    "plt.ylim(0, 1)\n",
    "#plt.grid(True)\n",
    "plt.show()\n"
   ]
  },
  {
   "cell_type": "code",
   "execution_count": 116,
   "id": "dbded8c1-8188-45cb-afb5-dfd77c65c570",
   "metadata": {},
   "outputs": [
    {
     "data": {
      "text/plain": [
       "\"\\nmerged_df['Date'] = pd.to_datetime(merged_df['Date'])\\n\\nmonthly_data = merged_df.groupby(pd.Grouper(key='Date', freq='M')).mean()\\n\\n# Plot the area chart\\nplt.figure(figsize=(10, 6))  # Adjust the figure size as needed\\nplt.stackplot(monthly_data.index, monthly_data.values.T, labels=monthly_data.columns)\\n\\n# Set labels and title\\nplt.xlabel('Months')\\nplt.ylabel('Average neutral Sentiment Scores per month')\\nplt.title('Monthly neutral Sentiment Scores for political leaned tweets')\\n\\n# Add legend\\nplt.legend(bbox_to_anchor=(1.05, 1), loc='upper left')\\n\\n# Show the chart\\nplt.show()\\n\""
      ]
     },
     "execution_count": 116,
     "metadata": {},
     "output_type": "execute_result"
    }
   ],
   "source": [
    "\"\"\"\n",
    "merged_df['Date'] = pd.to_datetime(merged_df['Date'])\n",
    "\n",
    "monthly_data = merged_df.groupby(pd.Grouper(key='Date', freq='M')).mean()\n",
    "\n",
    "# Plot the area chart\n",
    "plt.figure(figsize=(10, 6))  # Adjust the figure size as needed\n",
    "plt.stackplot(monthly_data.index, monthly_data.values.T, labels=monthly_data.columns)\n",
    "\n",
    "# Set labels and title\n",
    "plt.xlabel('Months')\n",
    "plt.ylabel('Average neutral Sentiment Scores per month')\n",
    "plt.title('Monthly neutral Sentiment Scores for political leaned tweets')\n",
    "\n",
    "# Add legend\n",
    "plt.legend(bbox_to_anchor=(1.05, 1), loc='upper left')\n",
    "\n",
    "# Show the chart\n",
    "plt.show()\n",
    "\"\"\""
   ]
  },
  {
   "cell_type": "code",
   "execution_count": 117,
   "id": "e8c210c1-36c6-475e-94ec-37cc871a1570",
   "metadata": {},
   "outputs": [
    {
     "data": {
      "text/html": [
       "<div>\n",
       "<style scoped>\n",
       "    .dataframe tbody tr th:only-of-type {\n",
       "        vertical-align: middle;\n",
       "    }\n",
       "\n",
       "    .dataframe tbody tr th {\n",
       "        vertical-align: top;\n",
       "    }\n",
       "\n",
       "    .dataframe thead th {\n",
       "        text-align: right;\n",
       "    }\n",
       "</style>\n",
       "<table border=\"1\" class=\"dataframe\">\n",
       "  <thead>\n",
       "    <tr style=\"text-align: right;\">\n",
       "      <th></th>\n",
       "      <th>left_tweets_mean_neutral_score</th>\n",
       "      <th>right_tweets_mean_neutral_score</th>\n",
       "      <th>centre_tweets_mean_neutral_score</th>\n",
       "      <th>left_leaning_tweets_mean_neutral_score</th>\n",
       "      <th>right_leaning_tweets_mean_neutral_score</th>\n",
       "    </tr>\n",
       "    <tr>\n",
       "      <th>Date</th>\n",
       "      <th></th>\n",
       "      <th></th>\n",
       "      <th></th>\n",
       "      <th></th>\n",
       "      <th></th>\n",
       "    </tr>\n",
       "  </thead>\n",
       "  <tbody>\n",
       "    <tr>\n",
       "      <th>2018-05-01</th>\n",
       "      <td>0.810132</td>\n",
       "      <td>0.777376</td>\n",
       "      <td>0.780604</td>\n",
       "      <td>0.782468</td>\n",
       "      <td>0.769060</td>\n",
       "    </tr>\n",
       "    <tr>\n",
       "      <th>2018-05-02</th>\n",
       "      <td>0.787055</td>\n",
       "      <td>0.772507</td>\n",
       "      <td>0.765207</td>\n",
       "      <td>0.759083</td>\n",
       "      <td>0.767905</td>\n",
       "    </tr>\n",
       "    <tr>\n",
       "      <th>2018-05-03</th>\n",
       "      <td>0.775760</td>\n",
       "      <td>0.786747</td>\n",
       "      <td>0.772353</td>\n",
       "      <td>0.779442</td>\n",
       "      <td>0.778836</td>\n",
       "    </tr>\n",
       "    <tr>\n",
       "      <th>2018-05-28</th>\n",
       "      <td>0.778755</td>\n",
       "      <td>0.776895</td>\n",
       "      <td>0.742048</td>\n",
       "      <td>0.775197</td>\n",
       "      <td>0.776187</td>\n",
       "    </tr>\n",
       "    <tr>\n",
       "      <th>2018-05-29</th>\n",
       "      <td>0.790193</td>\n",
       "      <td>0.792571</td>\n",
       "      <td>0.779345</td>\n",
       "      <td>0.771135</td>\n",
       "      <td>0.769946</td>\n",
       "    </tr>\n",
       "    <tr>\n",
       "      <th>...</th>\n",
       "      <td>...</td>\n",
       "      <td>...</td>\n",
       "      <td>...</td>\n",
       "      <td>...</td>\n",
       "      <td>...</td>\n",
       "    </tr>\n",
       "    <tr>\n",
       "      <th>2018-07-06</th>\n",
       "      <td>0.776438</td>\n",
       "      <td>0.765851</td>\n",
       "      <td>0.758872</td>\n",
       "      <td>0.763626</td>\n",
       "      <td>0.780989</td>\n",
       "    </tr>\n",
       "    <tr>\n",
       "      <th>2018-07-05</th>\n",
       "      <td>0.766625</td>\n",
       "      <td>0.774172</td>\n",
       "      <td>0.779068</td>\n",
       "      <td>0.770828</td>\n",
       "      <td>0.777192</td>\n",
       "    </tr>\n",
       "    <tr>\n",
       "      <th>2018-07-31</th>\n",
       "      <td>0.731442</td>\n",
       "      <td>0.762512</td>\n",
       "      <td>0.768198</td>\n",
       "      <td>0.786897</td>\n",
       "      <td>0.781873</td>\n",
       "    </tr>\n",
       "    <tr>\n",
       "      <th>2018-07-01</th>\n",
       "      <td>0.685333</td>\n",
       "      <td>0.800876</td>\n",
       "      <td>0.720564</td>\n",
       "      <td>0.774375</td>\n",
       "      <td>0.796992</td>\n",
       "    </tr>\n",
       "    <tr>\n",
       "      <th>2018-10-03</th>\n",
       "      <td>0.596500</td>\n",
       "      <td>0.786893</td>\n",
       "      <td>0.782561</td>\n",
       "      <td>0.787455</td>\n",
       "      <td>0.782140</td>\n",
       "    </tr>\n",
       "  </tbody>\n",
       "</table>\n",
       "<p>156 rows × 5 columns</p>\n",
       "</div>"
      ],
      "text/plain": [
       "            left_tweets_mean_neutral_score  right_tweets_mean_neutral_score  \\\n",
       "Date                                                                          \n",
       "2018-05-01                        0.810132                         0.777376   \n",
       "2018-05-02                        0.787055                         0.772507   \n",
       "2018-05-03                        0.775760                         0.786747   \n",
       "2018-05-28                        0.778755                         0.776895   \n",
       "2018-05-29                        0.790193                         0.792571   \n",
       "...                                    ...                              ...   \n",
       "2018-07-06                        0.776438                         0.765851   \n",
       "2018-07-05                        0.766625                         0.774172   \n",
       "2018-07-31                        0.731442                         0.762512   \n",
       "2018-07-01                        0.685333                         0.800876   \n",
       "2018-10-03                        0.596500                         0.786893   \n",
       "\n",
       "            centre_tweets_mean_neutral_score  \\\n",
       "Date                                           \n",
       "2018-05-01                          0.780604   \n",
       "2018-05-02                          0.765207   \n",
       "2018-05-03                          0.772353   \n",
       "2018-05-28                          0.742048   \n",
       "2018-05-29                          0.779345   \n",
       "...                                      ...   \n",
       "2018-07-06                          0.758872   \n",
       "2018-07-05                          0.779068   \n",
       "2018-07-31                          0.768198   \n",
       "2018-07-01                          0.720564   \n",
       "2018-10-03                          0.782561   \n",
       "\n",
       "            left_leaning_tweets_mean_neutral_score  \\\n",
       "Date                                                 \n",
       "2018-05-01                                0.782468   \n",
       "2018-05-02                                0.759083   \n",
       "2018-05-03                                0.779442   \n",
       "2018-05-28                                0.775197   \n",
       "2018-05-29                                0.771135   \n",
       "...                                            ...   \n",
       "2018-07-06                                0.763626   \n",
       "2018-07-05                                0.770828   \n",
       "2018-07-31                                0.786897   \n",
       "2018-07-01                                0.774375   \n",
       "2018-10-03                                0.787455   \n",
       "\n",
       "            right_leaning_tweets_mean_neutral_score  \n",
       "Date                                                 \n",
       "2018-05-01                                 0.769060  \n",
       "2018-05-02                                 0.767905  \n",
       "2018-05-03                                 0.778836  \n",
       "2018-05-28                                 0.776187  \n",
       "2018-05-29                                 0.769946  \n",
       "...                                             ...  \n",
       "2018-07-06                                 0.780989  \n",
       "2018-07-05                                 0.777192  \n",
       "2018-07-31                                 0.781873  \n",
       "2018-07-01                                 0.796992  \n",
       "2018-10-03                                 0.782140  \n",
       "\n",
       "[156 rows x 5 columns]"
      ]
     },
     "execution_count": 117,
     "metadata": {},
     "output_type": "execute_result"
    }
   ],
   "source": [
    "merged_df"
   ]
  },
  {
   "cell_type": "code",
   "execution_count": 118,
   "id": "0362869c-73d1-4a47-ba10-053a16b81c4d",
   "metadata": {},
   "outputs": [],
   "source": [
    "# stacked plots for compund scores"
   ]
  },
  {
   "cell_type": "code",
   "execution_count": 119,
   "id": "d96e1404-38bb-4afe-91fa-51c260f4d54b",
   "metadata": {},
   "outputs": [],
   "source": [
    "left_compounds={}\n",
    "right_compounds={}\n",
    "centre_compounds={}\n",
    "left_lean_compounds={}\n",
    "right_lean_compounds={}\n"
   ]
  },
  {
   "cell_type": "code",
   "execution_count": 120,
   "id": "da65b406-7051-4587-881a-e060bd9bcc18",
   "metadata": {},
   "outputs": [],
   "source": [
    "for t in left_cache:\n",
    "    denominator = 0\n",
    "    numerator =0\n",
    "    for x in left_cache[t]:\n",
    "        numerator+=x['compound']\n",
    "        denominator+=1\n",
    "    average = numerator/denominator\n",
    "    left_compounds[t] = average\n",
    "    "
   ]
  },
  {
   "cell_type": "code",
   "execution_count": 121,
   "id": "3007c9ab-9a7d-4f53-955c-df029536c4c3",
   "metadata": {},
   "outputs": [],
   "source": [
    "for t in right_cache:\n",
    "    denominator = 0\n",
    "    numerator =0\n",
    "    for x in right_cache[t]:\n",
    "        numerator+=x['compound']\n",
    "        denominator+=1\n",
    "    average = numerator/denominator\n",
    "    right_compounds[t] = average\n",
    "    "
   ]
  },
  {
   "cell_type": "code",
   "execution_count": 122,
   "id": "97e04d6e-de47-41dc-9609-3ca68e5d4833",
   "metadata": {},
   "outputs": [],
   "source": [
    "for t in centre_cache:\n",
    "    denominator = 0\n",
    "    numerator =0\n",
    "    for x in centre_cache[t]:\n",
    "        numerator+=x['compound']\n",
    "        denominator+=1\n",
    "    average = numerator/denominator\n",
    "    centre_compounds[t] = average\n",
    "    "
   ]
  },
  {
   "cell_type": "code",
   "execution_count": 123,
   "id": "dbd0d7dd-490b-4ffe-92ab-6445dcc137e7",
   "metadata": {},
   "outputs": [],
   "source": [
    "for t in left_lean_cache:\n",
    "    denominator = 0\n",
    "    numerator =0\n",
    "    for x in left_lean_cache[t]:\n",
    "        numerator+=x['compound']\n",
    "        denominator+=1\n",
    "    average = numerator/denominator\n",
    "    left_lean_compounds[t] = average\n",
    "    "
   ]
  },
  {
   "cell_type": "code",
   "execution_count": 124,
   "id": "d0580c74-7f73-424b-94a6-51fecf5e5acf",
   "metadata": {},
   "outputs": [],
   "source": [
    "for t in right_lean_cache:\n",
    "    denominator = 0\n",
    "    numerator =0\n",
    "    for x in right_lean_cache[t]:\n",
    "        numerator+=x['compound']\n",
    "        denominator+=1\n",
    "    average = numerator/denominator\n",
    "    right_lean_compounds[t] = average\n",
    "    "
   ]
  },
  {
   "cell_type": "code",
   "execution_count": 125,
   "id": "0c8852ed-417b-4da2-a9e4-2255c0724fd0",
   "metadata": {},
   "outputs": [],
   "source": [
    "left_compounds1 = {'Date':left_compounds.keys(), 'compound_scores':left_compounds.values()}\n",
    "right_compounds1 = {'Date':right_compounds.keys(), 'compound_scores':right_compounds.values()}\n",
    "centre_compounds1 = {'Date':centre_compounds.keys(), 'compound_scores':centre_compounds.values()}\n",
    "left_lean_compounds1 = {'Date':left_lean_compounds.keys(), 'compound_scores':left_lean_compounds.values()}\n",
    "right_lean_compounds1 = {'Date':right_lean_compounds.keys(), 'compound_scores':right_lean_compounds.values()}\n"
   ]
  },
  {
   "cell_type": "code",
   "execution_count": 126,
   "id": "1d19c4b1-b8fe-44a7-ba32-881e228b45b9",
   "metadata": {},
   "outputs": [],
   "source": [
    "left_compounds_df = pd.DataFrame.from_dict(left_compounds1)\n",
    "right_compounds_df = pd.DataFrame.from_dict(right_compounds1)\n",
    "centre_compounds_df = pd.DataFrame.from_dict(centre_compounds1)\n",
    "left_lean_compounds_df = pd.DataFrame.from_dict(left_lean_compounds1)\n",
    "right_lean_compounds_df = pd.DataFrame.from_dict(right_lean_compounds1)"
   ]
  },
  {
   "cell_type": "code",
   "execution_count": 127,
   "id": "18b44db3-3793-49b8-8b02-e4cde1fc170d",
   "metadata": {},
   "outputs": [
    {
     "name": "stderr",
     "output_type": "stream",
     "text": [
      "/home/srinath/anaconda3/lib/python3.9/site-packages/pandas/core/ops/array_ops.py:73: FutureWarning: Comparison of Timestamp with datetime.date is deprecated in order to match the standard library behavior. In a future version these will be considered non-comparable. Use 'ts == pd.Timestamp(date)' or 'ts.date() == date' instead.\n",
      "  result = libops.scalar_compare(x.ravel(), y, op)\n"
     ]
    }
   ],
   "source": [
    "left_compounds_filtered_df= left_compounds_df[(left_compounds_df['Date']>=pd.Timestamp(2018,5,1)) & (left_compounds_df['Date']<=pd.Timestamp(2018,12,1))]\n",
    "right_compounds_filtered_df= right_compounds_df[(right_compounds_df['Date']>=pd.Timestamp(2018,5,1)) & (right_compounds_df['Date']<=pd.Timestamp(2018,12,1))]\n",
    "centre_compounds_filtered_df= centre_compounds_df[(centre_compounds_df['Date']>=pd.Timestamp(2018,5,1)) & (centre_compounds_df['Date']<=pd.Timestamp(2018,12,1))]\n",
    "left_lean_compounds_filtered_df= left_lean_compounds_df[(left_lean_compounds_df['Date']>=pd.Timestamp(2018,5,1)) & (left_lean_compounds_df['Date']<=pd.Timestamp(2018,12,1))]\n",
    "right_lean_compounds_filtered_df= right_lean_compounds_df[(right_lean_compounds_df['Date']>=pd.Timestamp(2018,5,1)) & (right_lean_compounds_df['Date']<=pd.Timestamp(2018,12,1))]\n",
    "\n"
   ]
  },
  {
   "cell_type": "code",
   "execution_count": 128,
   "id": "69d33c04-ce81-4f49-a8c4-d1c1abdb9608",
   "metadata": {},
   "outputs": [
    {
     "name": "stderr",
     "output_type": "stream",
     "text": [
      "/tmp/ipykernel_873451/3926434668.py:3: FutureWarning: Passing 'suffixes' which cause duplicate columns {'compound_scores_x'} in the result is deprecated and will raise a MergeError in a future version.\n",
      "  merged_df = pd.merge(merged_df, left_lean_compounds_filtered_df, on='Date', how='inner')\n"
     ]
    }
   ],
   "source": [
    "merged_df = pd.merge(left_compounds_filtered_df, right_compounds_filtered_df, on='Date', how='inner')\n",
    "merged_df = pd.merge(merged_df, centre_compounds_filtered_df, on='Date', how='inner')\n",
    "merged_df = pd.merge(merged_df, left_lean_compounds_filtered_df, on='Date', how='inner')\n",
    "merged_df = pd.merge(merged_df, right_lean_compounds_filtered_df, on='Date', how='inner')\n",
    "\n",
    "\n",
    "merged_df.columns = ['Date', 'left_tweets_mean_compound_score', 'right_tweets_mean_compound_score', 'centre_tweets_mean_compound_score', 'left_leaning_tweets_mean_compound_score', 'right_leaning_tweets_mean_compound_score']\n",
    "\n",
    "\n",
    "merged_df['Date'] = pd.to_datetime(merged_df['Date'])"
   ]
  },
  {
   "cell_type": "code",
   "execution_count": 129,
   "id": "c976883e-7dc8-4f37-b634-a3be04fc9edb",
   "metadata": {},
   "outputs": [
    {
     "data": {
      "image/png": "[encoded data removed]",
      "text/plain": [
       "<Figure size 864x432 with 1 Axes>"
      ]
     },
     "metadata": {
      "needs_background": "light"
     },
     "output_type": "display_data"
    }
   ],
   "source": [
    "merged_df['Date'] = pd.to_datetime(merged_df['Date'])\n",
    "\n",
    "# Set the timestamp column as the index\n",
    "merged_df.set_index('Date', inplace=True)\n",
    "\n",
    "# Group by day\n",
    "merged_df_grouped = merged_df.groupby(pd.Grouper(freq='D'))\n",
    "\n",
    "# Plotting area chart for each score\n",
    "plt.figure(figsize=(12, 6))\n",
    "plt.rcParams['font.size'] = '16'\n",
    "for score in ['left_tweets_mean_compound_score', 'right_tweets_mean_compound_score', 'centre_tweets_mean_compound_score', 'left_leaning_tweets_mean_compound_score', 'right_leaning_tweets_mean_compound_score']:\n",
    "    plt.stackplot(merged_df_grouped.groups.keys(), merged_df_grouped[score].sum(), alpha=1)\n",
    "\n",
    "\n",
    "plt.legend(['left_tweets_mean_compound_score', 'right_tweets_mean_compound_score', 'centre_tweets_mean_compound_score', 'left_leaning_tweets_mean_compound_score', 'right_leaning_tweets_mean_compound_score'],loc='upper left', bbox_to_anchor=(1.05, 1))\n",
    "plt.xlabel('Days')\n",
    "plt.ylabel('Average compound Sentiment Score per day')\n",
    "plt.title('Degree of Sentimentality in GAB posts for each political leaning')\n",
    "#plt.ylim(0, 1)\n",
    "#plt.grid(True)\n",
    "plt.show()\n"
   ]
  },
  {
   "cell_type": "code",
   "execution_count": 130,
   "id": "5b306a78-31bb-4c7c-b475-6fc1411e0050",
   "metadata": {},
   "outputs": [
    {
     "data": {
      "text/plain": [
       "<Figure size 432x288 with 0 Axes>"
      ]
     },
     "metadata": {},
     "output_type": "display_data"
    }
   ],
   "source": [
    "plt.savefig('6.eps', format='eps')"
   ]
  },
  {
   "cell_type": "code",
   "execution_count": 131,
   "id": "67743e47-8f9f-4a51-a74a-dc77fbad78a4",
   "metadata": {},
   "outputs": [
    {
     "data": {
      "text/html": [
       "<div>\n",
       "<style scoped>\n",
       "    .dataframe tbody tr th:only-of-type {\n",
       "        vertical-align: middle;\n",
       "    }\n",
       "\n",
       "    .dataframe tbody tr th {\n",
       "        vertical-align: top;\n",
       "    }\n",
       "\n",
       "    .dataframe thead th {\n",
       "        text-align: right;\n",
       "    }\n",
       "</style>\n",
       "<table border=\"1\" class=\"dataframe\">\n",
       "  <thead>\n",
       "    <tr style=\"text-align: right;\">\n",
       "      <th></th>\n",
       "      <th>left_tweets_mean_compound_score</th>\n",
       "      <th>right_tweets_mean_compound_score</th>\n",
       "      <th>centre_tweets_mean_compound_score</th>\n",
       "      <th>left_leaning_tweets_mean_compound_score</th>\n",
       "      <th>right_leaning_tweets_mean_compound_score</th>\n",
       "    </tr>\n",
       "    <tr>\n",
       "      <th>Date</th>\n",
       "      <th></th>\n",
       "      <th></th>\n",
       "      <th></th>\n",
       "      <th></th>\n",
       "      <th></th>\n",
       "    </tr>\n",
       "  </thead>\n",
       "  <tbody>\n",
       "    <tr>\n",
       "      <th>2018-05-01</th>\n",
       "      <td>-0.171401</td>\n",
       "      <td>-0.147135</td>\n",
       "      <td>-0.106521</td>\n",
       "      <td>-0.145017</td>\n",
       "      <td>-0.141849</td>\n",
       "    </tr>\n",
       "    <tr>\n",
       "      <th>2018-05-02</th>\n",
       "      <td>-0.116947</td>\n",
       "      <td>-0.128071</td>\n",
       "      <td>-0.157080</td>\n",
       "      <td>-0.164008</td>\n",
       "      <td>-0.140212</td>\n",
       "    </tr>\n",
       "    <tr>\n",
       "      <th>2018-05-03</th>\n",
       "      <td>-0.164390</td>\n",
       "      <td>-0.136267</td>\n",
       "      <td>-0.167109</td>\n",
       "      <td>-0.179229</td>\n",
       "      <td>-0.149845</td>\n",
       "    </tr>\n",
       "    <tr>\n",
       "      <th>2018-05-28</th>\n",
       "      <td>-0.162423</td>\n",
       "      <td>-0.133680</td>\n",
       "      <td>-0.117463</td>\n",
       "      <td>-0.172322</td>\n",
       "      <td>-0.124952</td>\n",
       "    </tr>\n",
       "    <tr>\n",
       "      <th>2018-05-29</th>\n",
       "      <td>-0.138329</td>\n",
       "      <td>-0.134838</td>\n",
       "      <td>-0.134376</td>\n",
       "      <td>-0.152750</td>\n",
       "      <td>-0.153051</td>\n",
       "    </tr>\n",
       "    <tr>\n",
       "      <th>...</th>\n",
       "      <td>...</td>\n",
       "      <td>...</td>\n",
       "      <td>...</td>\n",
       "      <td>...</td>\n",
       "      <td>...</td>\n",
       "    </tr>\n",
       "    <tr>\n",
       "      <th>2018-07-06</th>\n",
       "      <td>-0.069997</td>\n",
       "      <td>-0.136683</td>\n",
       "      <td>-0.129692</td>\n",
       "      <td>-0.061521</td>\n",
       "      <td>-0.144070</td>\n",
       "    </tr>\n",
       "    <tr>\n",
       "      <th>2018-07-05</th>\n",
       "      <td>-0.132841</td>\n",
       "      <td>-0.130162</td>\n",
       "      <td>-0.088693</td>\n",
       "      <td>-0.142769</td>\n",
       "      <td>-0.116509</td>\n",
       "    </tr>\n",
       "    <tr>\n",
       "      <th>2018-07-31</th>\n",
       "      <td>-0.054202</td>\n",
       "      <td>-0.153731</td>\n",
       "      <td>-0.091648</td>\n",
       "      <td>-0.148110</td>\n",
       "      <td>-0.125492</td>\n",
       "    </tr>\n",
       "    <tr>\n",
       "      <th>2018-07-01</th>\n",
       "      <td>-0.428687</td>\n",
       "      <td>-0.081907</td>\n",
       "      <td>-0.125123</td>\n",
       "      <td>-0.195538</td>\n",
       "      <td>-0.136507</td>\n",
       "    </tr>\n",
       "    <tr>\n",
       "      <th>2018-10-03</th>\n",
       "      <td>-0.273060</td>\n",
       "      <td>-0.135735</td>\n",
       "      <td>-0.128476</td>\n",
       "      <td>-0.089006</td>\n",
       "      <td>-0.209156</td>\n",
       "    </tr>\n",
       "  </tbody>\n",
       "</table>\n",
       "<p>156 rows × 5 columns</p>\n",
       "</div>"
      ],
      "text/plain": [
       "            left_tweets_mean_compound_score  right_tweets_mean_compound_score  \\\n",
       "Date                                                                            \n",
       "2018-05-01                        -0.171401                         -0.147135   \n",
       "2018-05-02                        -0.116947                         -0.128071   \n",
       "2018-05-03                        -0.164390                         -0.136267   \n",
       "2018-05-28                        -0.162423                         -0.133680   \n",
       "2018-05-29                        -0.138329                         -0.134838   \n",
       "...                                     ...                               ...   \n",
       "2018-07-06                        -0.069997                         -0.136683   \n",
       "2018-07-05                        -0.132841                         -0.130162   \n",
       "2018-07-31                        -0.054202                         -0.153731   \n",
       "2018-07-01                        -0.428687                         -0.081907   \n",
       "2018-10-03                        -0.273060                         -0.135735   \n",
       "\n",
       "            centre_tweets_mean_compound_score  \\\n",
       "Date                                            \n",
       "2018-05-01                          -0.106521   \n",
       "2018-05-02                          -0.157080   \n",
       "2018-05-03                          -0.167109   \n",
       "2018-05-28                          -0.117463   \n",
       "2018-05-29                          -0.134376   \n",
       "...                                       ...   \n",
       "2018-07-06                          -0.129692   \n",
       "2018-07-05                          -0.088693   \n",
       "2018-07-31                          -0.091648   \n",
       "2018-07-01                          -0.125123   \n",
       "2018-10-03                          -0.128476   \n",
       "\n",
       "            left_leaning_tweets_mean_compound_score  \\\n",
       "Date                                                  \n",
       "2018-05-01                                -0.145017   \n",
       "2018-05-02                                -0.164008   \n",
       "2018-05-03                                -0.179229   \n",
       "2018-05-28                                -0.172322   \n",
       "2018-05-29                                -0.152750   \n",
       "...                                             ...   \n",
       "2018-07-06                                -0.061521   \n",
       "2018-07-05                                -0.142769   \n",
       "2018-07-31                                -0.148110   \n",
       "2018-07-01                                -0.195538   \n",
       "2018-10-03                                -0.089006   \n",
       "\n",
       "            right_leaning_tweets_mean_compound_score  \n",
       "Date                                                  \n",
       "2018-05-01                                 -0.141849  \n",
       "2018-05-02                                 -0.140212  \n",
       "2018-05-03                                 -0.149845  \n",
       "2018-05-28                                 -0.124952  \n",
       "2018-05-29                                 -0.153051  \n",
       "...                                              ...  \n",
       "2018-07-06                                 -0.144070  \n",
       "2018-07-05                                 -0.116509  \n",
       "2018-07-31                                 -0.125492  \n",
       "2018-07-01                                 -0.136507  \n",
       "2018-10-03                                 -0.209156  \n",
       "\n",
       "[156 rows x 5 columns]"
      ]
     },
     "execution_count": 131,
     "metadata": {},
     "output_type": "execute_result"
    }
   ],
   "source": [
    "merged_df"
   ]
  },
  {
   "cell_type": "code",
   "execution_count": 132,
   "id": "95300813-d6f8-45e4-ab39-69ede3c2d0ad",
   "metadata": {},
   "outputs": [
    {
     "name": "stdout",
     "output_type": "stream",
     "text": [
      "2\n"
     ]
    }
   ],
   "source": [
    "positives =0;\n",
    "for index, row in merged_df.iterrows():\n",
    "    if row['left_tweets_mean_compound_score']>0 :\n",
    "        positives+=1\n",
    "        \n",
    "    if row['right_tweets_mean_compound_score']>0 :\n",
    "        positives+=1\n",
    "        \n",
    "    if row['centre_tweets_mean_compound_score']>0 :\n",
    "        positives+=1\n",
    "        \n",
    "    if row['left_leaning_tweets_mean_compound_score']>0 :\n",
    "        positives+=1\n",
    "        \n",
    "    if row['right_leaning_tweets_mean_compound_score']>0 :\n",
    "        positives+=1\n",
    "print(positives)\n",
    "    "
   ]
  },
  {
   "cell_type": "code",
   "execution_count": 133,
   "id": "e2fa8a55-3372-4924-b4f4-08e2bd99523b",
   "metadata": {},
   "outputs": [
    {
     "name": "stdout",
     "output_type": "stream",
     "text": [
      "            left_tweets_mean_compound_score  right_tweets_mean_compound_score  centre_tweets_mean_compound_score  left_leaning_tweets_mean_compound_score  right_leaning_tweets_mean_compound_score\n",
      "Date                                                                                                                                                                                               \n",
      "2018-05-01                        -0.171401                         -0.147135                          -0.106521                                -0.145017                                 -0.141849\n",
      "2018-05-02                        -0.116947                         -0.128071                          -0.157080                                -0.164008                                 -0.140212\n",
      "2018-05-03                        -0.164390                         -0.136267                          -0.167109                                -0.179229                                 -0.149845\n",
      "2018-05-28                        -0.162423                         -0.133680                          -0.117463                                -0.172322                                 -0.124952\n",
      "2018-05-29                        -0.138329                         -0.134838                          -0.134376                                -0.152750                                 -0.153051\n",
      "2018-06-02                        -0.131240                         -0.123402                          -0.126982                                -0.143525                                 -0.118345\n",
      "2018-05-30                        -0.103779                         -0.138310                          -0.145409                                -0.144865                                 -0.179654\n",
      "2018-06-04                        -0.080087                         -0.137638                          -0.180626                                -0.101271                                 -0.123603\n",
      "2018-06-01                        -0.165078                         -0.145957                          -0.096298                                -0.130317                                 -0.136985\n",
      "2018-06-05                        -0.185100                         -0.119577                          -0.133928                                -0.130413                                 -0.176578\n",
      "2018-05-31                        -0.227272                         -0.138461                          -0.135459                                -0.092511                                 -0.138071\n",
      "2018-06-03                        -0.059727                         -0.137518                          -0.123952                                -0.144383                                 -0.112874\n",
      "2018-05-22                        -0.052032                         -0.120129                          -0.124429                                -0.075560                                 -0.142188\n",
      "2018-05-24                        -0.120664                         -0.137365                          -0.130409                                -0.179206                                 -0.141922\n",
      "2018-05-26                        -0.108251                         -0.131732                          -0.170828                                -0.098959                                 -0.140635\n",
      "2018-05-25                        -0.130250                         -0.121891                          -0.154600                                -0.170688                                 -0.120852\n",
      "2018-05-21                        -0.100533                         -0.123348                          -0.176587                                -0.140440                                 -0.125099\n",
      "2018-05-15                        -0.123401                         -0.100444                          -0.141109                                -0.105338                                 -0.130535\n",
      "2018-05-17                        -0.159200                         -0.113808                          -0.120236                                -0.128308                                 -0.157235\n",
      "2018-05-14                        -0.166917                         -0.128153                          -0.125461                                -0.145677                                 -0.128482\n",
      "2018-05-19                        -0.161137                         -0.154422                          -0.187915                                -0.124632                                 -0.100940\n",
      "2018-05-13                        -0.179646                         -0.100233                          -0.183521                                -0.082597                                 -0.130042\n",
      "2018-05-16                        -0.105897                         -0.136748                          -0.094293                                -0.121612                                 -0.118920\n",
      "2018-05-27                        -0.117066                         -0.120597                          -0.120287                                -0.105451                                 -0.120643\n",
      "2018-05-20                        -0.117562                         -0.134054                          -0.113776                                -0.148463                                 -0.151376\n",
      "2018-05-23                        -0.131594                         -0.170371                          -0.140201                                -0.161353                                 -0.139665\n",
      "2018-05-18                        -0.208144                         -0.160177                          -0.117326                                -0.112169                                 -0.121590\n",
      "2018-05-12                        -0.114003                         -0.121634                          -0.118874                                -0.103275                                 -0.121924\n",
      "2018-05-08                        -0.181183                         -0.129080                          -0.107945                                -0.131630                                 -0.143092\n",
      "2018-05-10                        -0.190199                         -0.133994                          -0.156084                                -0.154827                                 -0.134356\n",
      "2018-05-05                        -0.114519                         -0.155740                          -0.078604                                -0.049787                                 -0.106225\n",
      "2018-05-07                        -0.141924                         -0.134884                          -0.076575                                -0.050189                                 -0.086164\n",
      "2018-05-09                        -0.193560                         -0.128213                          -0.163267                                -0.115550                                 -0.090876\n",
      "2018-05-11                        -0.093298                         -0.113653                          -0.108186                                -0.103827                                 -0.092742\n",
      "2018-05-06                        -0.226781                         -0.144493                          -0.165311                                -0.161781                                 -0.179347\n",
      "2018-05-04                        -0.134466                         -0.128590                          -0.141289                                -0.116299                                 -0.128423\n",
      "2018-06-27                        -0.146074                         -0.138616                          -0.129803                                -0.143640                                 -0.190404\n",
      "2018-06-20                        -0.079742                         -0.125860                          -0.148698                                -0.147401                                 -0.136291\n",
      "2018-06-26                        -0.191522                         -0.126169                          -0.083075                                -0.089340                                 -0.177579\n",
      "2018-06-25                        -0.208942                         -0.127699                          -0.128878                                -0.076787                                 -0.119143\n",
      "2018-06-06                        -0.206431                         -0.102573                          -0.108473                                -0.141368                                 -0.125355\n",
      "2018-06-17                        -0.167488                         -0.152896                          -0.061860                                -0.155650                                 -0.158697\n",
      "2018-06-16                        -0.063372                         -0.141176                          -0.165473                                -0.134607                                 -0.143756\n",
      "2018-06-15                        -0.133211                         -0.138172                          -0.180181                                -0.119866                                 -0.114504\n",
      "2018-06-07                        -0.056221                         -0.119700                          -0.120783                                -0.040397                                 -0.099055\n",
      "2018-06-22                        -0.147920                         -0.140467                          -0.071259                                -0.139335                                 -0.110121\n",
      "2018-06-18                        -0.063082                         -0.123601                          -0.189044                                -0.108327                                 -0.100172\n",
      "2018-06-10                        -0.159537                         -0.146538                          -0.136370                                -0.129741                                 -0.141636\n",
      "2018-06-14                        -0.015369                         -0.155097                          -0.156051                                -0.104164                                 -0.117860\n",
      "2018-06-08                        -0.132327                         -0.126066                          -0.098589                                -0.143123                                 -0.109494\n",
      "2018-06-19                        -0.074253                         -0.146827                          -0.131325                                -0.102697                                 -0.128244\n",
      "2018-06-11                        -0.207558                         -0.141674                          -0.113256                                -0.109470                                 -0.133148\n",
      "2018-06-21                        -0.118189                         -0.128035                          -0.138548                                -0.144077                                 -0.127681\n",
      "2018-07-04                        -0.111939                         -0.113825                          -0.143077                                -0.123570                                 -0.081418\n",
      "2018-06-23                        -0.118087                         -0.139314                          -0.119605                                -0.150407                                 -0.110757\n",
      "2018-06-13                        -0.238605                         -0.130889                          -0.172230                                -0.100110                                 -0.100109\n",
      "2018-06-24                        -0.103484                         -0.099902                          -0.112214                                -0.165373                                 -0.147700\n",
      "2018-06-12                        -0.171545                         -0.134786                          -0.147962                                -0.140569                                 -0.132366\n",
      "2018-06-28                        -0.028400                         -0.158614                          -0.154508                                -0.090347                                 -0.203312\n",
      "2018-06-09                        -0.270808                         -0.112700                          -0.126772                                -0.098043                                 -0.133841\n",
      "2018-07-02                        -0.121961                         -0.138105                          -0.075874                                -0.191902                                 -0.083089\n",
      "2018-06-30                        -0.088523                         -0.114200                          -0.185652                                -0.201003                                 -0.066513\n",
      "2018-07-03                        -0.279497                         -0.155985                          -0.072512                                -0.127962                                 -0.140889\n",
      "2018-06-29                        -0.198159                         -0.124781                          -0.238607                                -0.072136                                 -0.047623\n",
      "2018-08-10                        -0.161140                         -0.127357                          -0.143226                                -0.090024                                 -0.141257\n",
      "2018-08-11                        -0.116270                         -0.123324                          -0.106872                                -0.120287                                 -0.103306\n",
      "2018-08-07                        -0.164130                         -0.122876                          -0.127005                                -0.112040                                 -0.149962\n",
      "2018-08-08                        -0.155760                         -0.128958                          -0.140783                                -0.154082                                 -0.154352\n",
      "2018-08-09                        -0.138621                         -0.122542                          -0.072289                                -0.127001                                 -0.166349\n",
      "2018-08-06                        -0.092092                         -0.126674                          -0.143077                                -0.131377                                 -0.116185\n",
      "2018-08-12                        -0.074216                         -0.105457                          -0.148452                                -0.127810                                 -0.094117\n",
      "2018-07-23                        -0.147406                         -0.146413                          -0.129171                                -0.112112                                 -0.126992\n",
      "2018-07-24                        -0.218311                         -0.106387                          -0.123052                                -0.149426                                 -0.134354\n",
      "2018-09-12                        -0.130356                         -0.132489                          -0.087641                                -0.145230                                 -0.103939\n",
      "2018-09-22                        -0.145961                         -0.133227                          -0.127515                                -0.143107                                 -0.138026\n",
      "2018-09-21                        -0.131252                         -0.133027                          -0.107481                                -0.152638                                 -0.126921\n",
      "2018-09-13                        -0.154009                         -0.113560                          -0.107127                                -0.136502                                 -0.121725\n",
      "2018-08-17                        -0.123169                         -0.114202                          -0.086677                                -0.155649                                 -0.126406\n",
      "2018-08-18                        -0.060679                         -0.136014                          -0.130812                                -0.053509                                 -0.133490\n",
      "2018-08-16                        -0.120337                         -0.111458                          -0.112033                                -0.150665                                 -0.114526\n",
      "2018-08-19                        -0.185838                         -0.117279                          -0.086393                                -0.171016                                 -0.104693\n",
      "2018-09-23                        -0.095476                         -0.101901                          -0.136562                                -0.127108                                 -0.095875\n",
      "2018-09-20                        -0.171712                         -0.124602                          -0.108022                                -0.143395                                 -0.116354\n",
      "2018-08-15                        -0.165321                         -0.111971                          -0.104365                                -0.115621                                 -0.156360\n",
      "2018-09-24                        -0.047137                         -0.110651                          -0.138295                                -0.112828                                 -0.108498\n",
      "2018-09-19                        -0.100566                         -0.134601                          -0.115624                                -0.052491                                 -0.097437\n",
      "2018-08-14                        -0.084160                         -0.134852                          -0.144390                                -0.074343                                 -0.137482\n",
      "2018-08-13                        -0.123466                         -0.110792                          -0.116260                                -0.125330                                 -0.115681\n",
      "2018-08-20                        -0.180349                         -0.133526                          -0.116094                                -0.150130                                 -0.118133\n",
      "2018-09-25                        -0.200355                         -0.130982                          -0.144673                                -0.147642                                 -0.129420\n",
      "2018-08-21                        -0.078231                         -0.121122                          -0.174326                                -0.124538                                 -0.126813\n",
      "2018-09-18                        -0.143075                         -0.115610                          -0.121444                                -0.091314                                 -0.104601\n",
      "2018-09-04                        -0.201086                         -0.119367                          -0.083809                                -0.174109                                 -0.125710\n",
      "2018-09-26                        -0.202607                         -0.115764                          -0.136012                                -0.113154                                 -0.121487\n",
      "2018-09-03                         0.010669                         -0.128451                          -0.144813                                -0.143447                                 -0.143309\n",
      "2018-08-22                        -0.051523                         -0.105866                          -0.124173                                -0.149617                                 -0.084851\n",
      "2018-07-25                        -0.041209                         -0.125308                          -0.108861                                -0.157134                                 -0.147556\n",
      "2018-07-22                        -0.122426                         -0.115291                          -0.178501                                -0.140293                                 -0.125763\n",
      "2018-09-17                        -0.166043                         -0.126809                          -0.150713                                -0.079961                                 -0.123712\n",
      "2018-07-21                        -0.142341                         -0.126852                          -0.135803                                -0.080448                                 -0.114154\n",
      "2018-09-05                        -0.222349                         -0.111095                          -0.076667                                -0.127733                                 -0.137904\n",
      "2018-07-26                        -0.060568                         -0.121803                          -0.161849                                -0.148346                                 -0.110788\n",
      "2018-09-02                        -0.064576                         -0.104257                          -0.113347                                -0.115718                                 -0.096321\n",
      "2018-09-27                        -0.126442                         -0.118935                          -0.119504                                -0.113271                                 -0.120437\n",
      "2018-09-16                        -0.074738                         -0.110946                          -0.118393                                -0.139905                                 -0.120027\n",
      "2018-07-20                        -0.108885                         -0.127524                          -0.124555                                -0.135106                                 -0.143478\n",
      "2018-09-06                        -0.124158                         -0.121799                          -0.151005                                -0.192288                                 -0.067040\n",
      "2018-07-27                        -0.172826                         -0.107040                          -0.138225                                -0.134224                                 -0.140379\n",
      "2018-07-19                        -0.072728                         -0.130244                          -0.138828                                -0.138751                                 -0.123163\n",
      "2018-09-15                        -0.148989                         -0.130636                          -0.165246                                -0.142668                                 -0.115962\n",
      "2018-09-01                        -0.052553                         -0.138242                          -0.160323                                -0.148267                                 -0.103284\n",
      "2018-08-23                        -0.127747                         -0.105658                          -0.132376                                -0.172740                                 -0.130797\n",
      "2018-09-28                        -0.007817                         -0.120742                          -0.094833                                -0.156148                                 -0.127909\n",
      "2018-07-18                        -0.158829                         -0.112203                          -0.094369                                -0.074602                                 -0.119657\n",
      "2018-07-28                        -0.073773                         -0.092438                          -0.120576                                -0.100688                                 -0.059683\n",
      "2018-09-07                        -0.180707                         -0.125512                          -0.104472                                -0.104397                                 -0.069955\n",
      "2018-08-31                        -0.103877                         -0.123591                          -0.123297                                -0.099845                                 -0.148314\n",
      "2018-07-29                        -0.216747                         -0.091638                          -0.076194                                -0.118040                                 -0.169667\n",
      "2018-09-14                        -0.088703                         -0.116830                          -0.045214                                -0.090758                                 -0.096942\n",
      "2018-07-17                        -0.177403                         -0.129433                          -0.109555                                -0.111643                                 -0.122977\n",
      "2018-08-24                        -0.094970                         -0.132652                          -0.148669                                -0.131939                                 -0.096622\n",
      "2018-09-29                        -0.205166                         -0.122155                          -0.122194                                -0.103983                                 -0.096406\n",
      "2018-07-30                        -0.088225                         -0.116365                          -0.074533                                -0.129894                                 -0.116486\n",
      "2018-08-30                        -0.143525                         -0.119021                          -0.100825                                -0.101594                                 -0.108011\n",
      "2018-09-08                        -0.040813                         -0.111859                          -0.074644                                -0.095828                                 -0.089902\n",
      "2018-07-16                        -0.145061                         -0.113487                          -0.086820                                -0.132384                                 -0.124619\n",
      "2018-09-30                        -0.162718                         -0.113358                          -0.139154                                -0.137688                                 -0.100673\n",
      "2018-07-15                        -0.202161                         -0.115785                          -0.207603                                -0.091275                                 -0.129330\n",
      "2018-08-25                        -0.105083                         -0.104962                          -0.111155                                -0.174756                                 -0.135728\n",
      "2018-09-09                        -0.105214                         -0.137001                          -0.072733                                -0.108685                                 -0.143756\n",
      "2018-08-29                        -0.057456                         -0.113999                          -0.140658                                -0.136623                                 -0.124956\n",
      "2018-10-01                        -0.063961                         -0.113343                          -0.111431                                -0.173787                                 -0.166857\n",
      "2018-07-14                        -0.152642                         -0.119530                          -0.175131                                -0.069994                                 -0.100915\n",
      "2018-08-26                        -0.100420                         -0.124252                          -0.089297                                -0.121015                                 -0.118097\n",
      "2018-09-11                        -0.148311                         -0.127215                          -0.158433                                -0.095090                                 -0.128872\n",
      "2018-07-13                        -0.067207                         -0.095723                          -0.131956                                -0.180117                                 -0.104733\n",
      "2018-08-28                        -0.103490                         -0.116960                          -0.121694                                -0.146764                                 -0.106912\n",
      "2018-07-11                        -0.167371                         -0.135365                          -0.067539                                -0.090099                                 -0.157917\n",
      "2018-08-27                         0.023139                         -0.148465                          -0.081577                                -0.187278                                 -0.125749\n",
      "2018-08-03                        -0.139166                         -0.108280                          -0.165133                                -0.134891                                 -0.139945\n",
      "2018-07-10                        -0.033387                         -0.127194                          -0.090851                                -0.082480                                 -0.114711\n",
      "2018-07-12                        -0.124493                         -0.134686                          -0.143388                                -0.063288                                 -0.117838\n",
      "2018-08-02                        -0.004347                         -0.137700                          -0.125591                                -0.082195                                 -0.140686\n",
      "2018-08-04                        -0.113038                         -0.127351                          -0.146650                                -0.040636                                 -0.148940\n",
      "2018-07-09                        -0.070255                         -0.114183                          -0.125088                                -0.034181                                 -0.198526\n",
      "2018-09-10                        -0.204726                         -0.134715                          -0.078293                                -0.096943                                 -0.137467\n",
      "2018-08-05                        -0.101749                         -0.106577                          -0.101679                                -0.077243                                 -0.125568\n",
      "2018-07-08                        -0.113754                         -0.138939                          -0.139661                                -0.121486                                 -0.095834\n",
      "2018-10-02                        -0.090760                         -0.131309                          -0.131333                                -0.174048                                 -0.131536\n",
      "2018-07-07                        -0.144208                         -0.139514                          -0.155226                                -0.112280                                 -0.160047\n",
      "2018-08-01                        -0.143029                         -0.115759                          -0.087584                                -0.157355                                 -0.110513\n",
      "2018-07-06                        -0.069997                         -0.136683                          -0.129692                                -0.061521                                 -0.144070\n",
      "2018-07-05                        -0.132841                         -0.130162                          -0.088693                                -0.142769                                 -0.116509\n",
      "2018-07-31                        -0.054202                         -0.153731                          -0.091648                                -0.148110                                 -0.125492\n",
      "2018-07-01                        -0.428687                         -0.081907                          -0.125123                                -0.195538                                 -0.136507\n",
      "2018-10-03                        -0.273060                         -0.135735                          -0.128476                                -0.089006                                 -0.209156\n"
     ]
    }
   ],
   "source": [
    "print(merged_df.to_string())"
   ]
  },
  {
   "cell_type": "code",
   "execution_count": 134,
   "id": "454c9d62-2a42-432f-ae8d-467fc5e35b6b",
   "metadata": {},
   "outputs": [
    {
     "name": "stdout",
     "output_type": "stream",
     "text": [
      "List of files in the current directory:\n",
      "['.bashrc', '.bash_logout', '.profile', '.bash_history', 'checkGPU.py', '.viminfo', 'MediaBias.xlsx', 'Gab2018.csv', '.condarc', 'tweet_ICWSM.json', 'SARIMA model on media baised data for Gab data.ipynb', 'SARIMA Model and LSTM of time forecasting for tweets.ipynb', 'posts_with_newsURLs.json', 'Time series forecasting for dataset2.ipynb', 'spektral_utilities.py', 'spektral_gcn.py', '.txt', 'time series forecasting for 6 labels for other dataset.ipynb', 'time series forecasting for 6 labels.ipynb', 'Plots.ipynb', 'Average negative scores per month for dataset-1.xlsx', 'Plots-2.ipynb', '1.jpg', '5.eps', '6.eps']\n"
     ]
    }
   ],
   "source": [
    "import os\n",
    "\n",
    "# Get the current working directory\n",
    "current_directory = os.getcwd()\n",
    "\n",
    "# List all files and directories in the current directory\n",
    "files_and_directories = os.listdir(current_directory)\n",
    "\n",
    "# Filter out only the files (excluding directories)\n",
    "files = [file for file in files_and_directories if os.path.isfile(os.path.join(current_directory, file))]\n",
    "\n",
    "# Print the list of files\n",
    "print(\"List of files in the current directory:\")\n",
    "print(files)\n"
   ]
  },
  {
   "cell_type": "code",
   "execution_count": null,
   "id": "4f15ac48-9c11-4efb-b1a9-6010d0df0793",
   "metadata": {},
   "outputs": [],
   "source": []
  }
 ],
 "metadata": {
  "kernelspec": {
   "display_name": "Python 3 (ipykernel)",
   "language": "python",
   "name": "python3"
  },
  "language_info": {
   "codemirror_mode": {
    "name": "ipython",
    "version": 3
   },
   "file_extension": ".py",
   "mimetype": "text/x-python",
   "name": "python",
   "nbconvert_exporter": "python",
   "pygments_lexer": "ipython3",
   "version": "3.9.12"
  }
 },
 "nbformat": 4,
 "nbformat_minor": 5
}
