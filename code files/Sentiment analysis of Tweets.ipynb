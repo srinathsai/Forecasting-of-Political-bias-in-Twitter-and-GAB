{
 "cells": [
  {
   "cell_type": "code",
   "execution_count": 1,
   "id": "af47aac6-feec-476e-b659-c017a319d9f3",
   "metadata": {},
   "outputs": [
    {
     "name": "stderr",
     "output_type": "stream",
     "text": [
      "2023-07-31 14:13:04.746521: I tensorflow/core/platform/cpu_feature_guard.cc:193] This TensorFlow binary is optimized with oneAPI Deep Neural Network Library (oneDNN) to use the following CPU instructions in performance-critical operations:  AVX2 FMA\n",
      "To enable them in other operations, rebuild TensorFlow with the appropriate compiler flags.\n",
      "2023-07-31 14:13:04.905560: W tensorflow/compiler/xla/stream_executor/platform/default/dso_loader.cc:64] Could not load dynamic library 'libcudart.so.11.0'; dlerror: libcudart.so.11.0: cannot open shared object file: No such file or directory\n",
      "2023-07-31 14:13:04.905592: I tensorflow/compiler/xla/stream_executor/cuda/cudart_stub.cc:29] Ignore above cudart dlerror if you do not have a GPU set up on your machine.\n",
      "2023-07-31 14:13:05.462955: W tensorflow/compiler/xla/stream_executor/platform/default/dso_loader.cc:64] Could not load dynamic library 'libnvinfer.so.7'; dlerror: libnvinfer.so.7: cannot open shared object file: No such file or directory\n",
      "2023-07-31 14:13:05.463030: W tensorflow/compiler/xla/stream_executor/platform/default/dso_loader.cc:64] Could not load dynamic library 'libnvinfer_plugin.so.7'; dlerror: libnvinfer_plugin.so.7: cannot open shared object file: No such file or directory\n",
      "2023-07-31 14:13:05.463036: W tensorflow/compiler/tf2tensorrt/utils/py_utils.cc:38] TF-TRT Warning: Cannot dlopen some TensorRT libraries. If you would like to use Nvidia GPU with TensorRT, please make sure the missing libraries mentioned above are installed properly.\n"
     ]
    }
   ],
   "source": [
    "import os\n",
    "import random\n",
    "import numpy as np\n",
    "import pandas as pd\n",
    "from tqdm import tqdm\n",
    "import matplotlib.pyplot as plt\n",
    "from datetime import date, timedelta\n",
    "from scipy.stats import skew, kurtosis\n",
    "\n",
    "from sklearn.preprocessing import StandardScaler\n",
    "from sklearn.metrics import mean_squared_error\n",
    "\n",
    "import tensorflow as tf\n",
    "from tensorflow.keras.layers import *\n",
    "from tensorflow.keras.models import *\n",
    "from tensorflow.keras.optimizers import *\n",
    "from tensorflow.keras.callbacks import *\n",
    "from tensorflow.keras import backend as K"
   ]
  },
  {
   "cell_type": "code",
   "execution_count": 2,
   "id": "161cf1c2-0ebc-4ef8-a849-07d2cde0dacf",
   "metadata": {},
   "outputs": [],
   "source": [
    "import pandas as pd\n",
    "import json\n",
    "\n",
    "with open(\"tweet_ICWSM.json\") as f:\n",
    "    data = []\n",
    "    for line in f:\n",
    "        json_data = json.loads(line)\n",
    "        data.append(json_data)\n",
    "\n",
    "df = pd.DataFrame(data)"
   ]
  },
  {
   "cell_type": "code",
   "execution_count": 3,
   "id": "c5d02a3c-871b-48cb-bae3-7125758e98b6",
   "metadata": {},
   "outputs": [
    {
     "data": {
      "text/html": [
       "<div>\n",
       "<style scoped>\n",
       "    .dataframe tbody tr th:only-of-type {\n",
       "        vertical-align: middle;\n",
       "    }\n",
       "\n",
       "    .dataframe tbody tr th {\n",
       "        vertical-align: top;\n",
       "    }\n",
       "\n",
       "    .dataframe thead th {\n",
       "        text-align: right;\n",
       "    }\n",
       "</style>\n",
       "<table border=\"1\" class=\"dataframe\">\n",
       "  <thead>\n",
       "    <tr style=\"text-align: right;\">\n",
       "      <th></th>\n",
       "      <th>created_at</th>\n",
       "      <th>id</th>\n",
       "      <th>id_str</th>\n",
       "      <th>text</th>\n",
       "      <th>truncated</th>\n",
       "      <th>entities</th>\n",
       "      <th>source</th>\n",
       "      <th>in_reply_to_status_id</th>\n",
       "      <th>in_reply_to_status_id_str</th>\n",
       "      <th>in_reply_to_user_id</th>\n",
       "      <th>...</th>\n",
       "      <th>favorited</th>\n",
       "      <th>retweeted</th>\n",
       "      <th>possibly_sensitive</th>\n",
       "      <th>lang</th>\n",
       "      <th>retweeted_status</th>\n",
       "      <th>extended_entities</th>\n",
       "      <th>quoted_status_id</th>\n",
       "      <th>quoted_status_id_str</th>\n",
       "      <th>quoted_status</th>\n",
       "      <th>withheld_in_countries</th>\n",
       "    </tr>\n",
       "  </thead>\n",
       "  <tbody>\n",
       "    <tr>\n",
       "      <th>0</th>\n",
       "      <td>Fri May 25 17:07:16 +0000 2018</td>\n",
       "      <td>1000060743755223043</td>\n",
       "      <td>1000060743755223043</td>\n",
       "      <td>@newsjean I am a producer for AlJazeera Englis...</td>\n",
       "      <td>True</td>\n",
       "      <td>{'hashtags': [], 'symbols': [], 'user_mentions...</td>\n",
       "      <td>&lt;a href=\"http://twitter.com\" rel=\"nofollow\"&gt;Tw...</td>\n",
       "      <td>NaN</td>\n",
       "      <td>None</td>\n",
       "      <td>16745666.0</td>\n",
       "      <td>...</td>\n",
       "      <td>False</td>\n",
       "      <td>False</td>\n",
       "      <td>False</td>\n",
       "      <td>en</td>\n",
       "      <td>NaN</td>\n",
       "      <td>NaN</td>\n",
       "      <td>NaN</td>\n",
       "      <td>NaN</td>\n",
       "      <td>NaN</td>\n",
       "      <td>NaN</td>\n",
       "    </tr>\n",
       "    <tr>\n",
       "      <th>1</th>\n",
       "      <td>Fri May 25 14:35:24 +0000 2018</td>\n",
       "      <td>1000022526347612161</td>\n",
       "      <td>1000022526347612161</td>\n",
       "      <td>Why Trump scrapping the summit goes beyond the...</td>\n",
       "      <td>False</td>\n",
       "      <td>{'hashtags': [], 'symbols': [], 'user_mentions...</td>\n",
       "      <td>&lt;a href=\"http://twitter.com/download/android\" ...</td>\n",
       "      <td>NaN</td>\n",
       "      <td>None</td>\n",
       "      <td>NaN</td>\n",
       "      <td>...</td>\n",
       "      <td>False</td>\n",
       "      <td>False</td>\n",
       "      <td>False</td>\n",
       "      <td>en</td>\n",
       "      <td>NaN</td>\n",
       "      <td>NaN</td>\n",
       "      <td>NaN</td>\n",
       "      <td>NaN</td>\n",
       "      <td>NaN</td>\n",
       "      <td>NaN</td>\n",
       "    </tr>\n",
       "    <tr>\n",
       "      <th>2</th>\n",
       "      <td>Fri May 25 17:34:20 +0000 2018</td>\n",
       "      <td>1000067557095870464</td>\n",
       "      <td>1000067557095870464</td>\n",
       "      <td>Environmental red tape stalls border agents tr...</td>\n",
       "      <td>False</td>\n",
       "      <td>{'hashtags': [], 'symbols': [], 'user_mentions...</td>\n",
       "      <td>&lt;a href=\"http://twitter.com/download/android\" ...</td>\n",
       "      <td>NaN</td>\n",
       "      <td>None</td>\n",
       "      <td>NaN</td>\n",
       "      <td>...</td>\n",
       "      <td>False</td>\n",
       "      <td>False</td>\n",
       "      <td>False</td>\n",
       "      <td>en</td>\n",
       "      <td>NaN</td>\n",
       "      <td>NaN</td>\n",
       "      <td>NaN</td>\n",
       "      <td>NaN</td>\n",
       "      <td>NaN</td>\n",
       "      <td>NaN</td>\n",
       "    </tr>\n",
       "    <tr>\n",
       "      <th>3</th>\n",
       "      <td>Sat May 26 04:44:55 +0000 2018</td>\n",
       "      <td>1000236313793085441</td>\n",
       "      <td>1000236313793085441</td>\n",
       "      <td>Just what we don't need - an even dirtier futu...</td>\n",
       "      <td>True</td>\n",
       "      <td>{'hashtags': [], 'symbols': [], 'user_mentions...</td>\n",
       "      <td>&lt;a href=\"http://twitter.com\" rel=\"nofollow\"&gt;Tw...</td>\n",
       "      <td>NaN</td>\n",
       "      <td>None</td>\n",
       "      <td>NaN</td>\n",
       "      <td>...</td>\n",
       "      <td>False</td>\n",
       "      <td>False</td>\n",
       "      <td>False</td>\n",
       "      <td>en</td>\n",
       "      <td>NaN</td>\n",
       "      <td>NaN</td>\n",
       "      <td>NaN</td>\n",
       "      <td>NaN</td>\n",
       "      <td>NaN</td>\n",
       "      <td>NaN</td>\n",
       "    </tr>\n",
       "    <tr>\n",
       "      <th>4</th>\n",
       "      <td>Sat May 26 01:48:17 +0000 2018</td>\n",
       "      <td>1000191862953660416</td>\n",
       "      <td>1000191862953660416</td>\n",
       "      <td>Amazon Alexa records and shares woman's privat...</td>\n",
       "      <td>False</td>\n",
       "      <td>{'hashtags': [], 'symbols': [], 'user_mentions...</td>\n",
       "      <td>&lt;a href=\"http://www.facebook.com/twitter\" rel=...</td>\n",
       "      <td>NaN</td>\n",
       "      <td>None</td>\n",
       "      <td>NaN</td>\n",
       "      <td>...</td>\n",
       "      <td>False</td>\n",
       "      <td>False</td>\n",
       "      <td>False</td>\n",
       "      <td>en</td>\n",
       "      <td>NaN</td>\n",
       "      <td>NaN</td>\n",
       "      <td>NaN</td>\n",
       "      <td>NaN</td>\n",
       "      <td>NaN</td>\n",
       "      <td>NaN</td>\n",
       "    </tr>\n",
       "  </tbody>\n",
       "</table>\n",
       "<p>5 rows × 30 columns</p>\n",
       "</div>"
      ],
      "text/plain": [
       "                       created_at                   id               id_str  \\\n",
       "0  Fri May 25 17:07:16 +0000 2018  1000060743755223043  1000060743755223043   \n",
       "1  Fri May 25 14:35:24 +0000 2018  1000022526347612161  1000022526347612161   \n",
       "2  Fri May 25 17:34:20 +0000 2018  1000067557095870464  1000067557095870464   \n",
       "3  Sat May 26 04:44:55 +0000 2018  1000236313793085441  1000236313793085441   \n",
       "4  Sat May 26 01:48:17 +0000 2018  1000191862953660416  1000191862953660416   \n",
       "\n",
       "                                                text  truncated  \\\n",
       "0  @newsjean I am a producer for AlJazeera Englis...       True   \n",
       "1  Why Trump scrapping the summit goes beyond the...      False   \n",
       "2  Environmental red tape stalls border agents tr...      False   \n",
       "3  Just what we don't need - an even dirtier futu...       True   \n",
       "4  Amazon Alexa records and shares woman's privat...      False   \n",
       "\n",
       "                                            entities  \\\n",
       "0  {'hashtags': [], 'symbols': [], 'user_mentions...   \n",
       "1  {'hashtags': [], 'symbols': [], 'user_mentions...   \n",
       "2  {'hashtags': [], 'symbols': [], 'user_mentions...   \n",
       "3  {'hashtags': [], 'symbols': [], 'user_mentions...   \n",
       "4  {'hashtags': [], 'symbols': [], 'user_mentions...   \n",
       "\n",
       "                                              source  in_reply_to_status_id  \\\n",
       "0  <a href=\"http://twitter.com\" rel=\"nofollow\">Tw...                    NaN   \n",
       "1  <a href=\"http://twitter.com/download/android\" ...                    NaN   \n",
       "2  <a href=\"http://twitter.com/download/android\" ...                    NaN   \n",
       "3  <a href=\"http://twitter.com\" rel=\"nofollow\">Tw...                    NaN   \n",
       "4  <a href=\"http://www.facebook.com/twitter\" rel=...                    NaN   \n",
       "\n",
       "  in_reply_to_status_id_str  in_reply_to_user_id  ... favorited retweeted  \\\n",
       "0                      None           16745666.0  ...     False     False   \n",
       "1                      None                  NaN  ...     False     False   \n",
       "2                      None                  NaN  ...     False     False   \n",
       "3                      None                  NaN  ...     False     False   \n",
       "4                      None                  NaN  ...     False     False   \n",
       "\n",
       "  possibly_sensitive lang retweeted_status extended_entities quoted_status_id  \\\n",
       "0              False   en              NaN               NaN              NaN   \n",
       "1              False   en              NaN               NaN              NaN   \n",
       "2              False   en              NaN               NaN              NaN   \n",
       "3              False   en              NaN               NaN              NaN   \n",
       "4              False   en              NaN               NaN              NaN   \n",
       "\n",
       "   quoted_status_id_str  quoted_status  withheld_in_countries  \n",
       "0                   NaN            NaN                    NaN  \n",
       "1                   NaN            NaN                    NaN  \n",
       "2                   NaN            NaN                    NaN  \n",
       "3                   NaN            NaN                    NaN  \n",
       "4                   NaN            NaN                    NaN  \n",
       "\n",
       "[5 rows x 30 columns]"
      ]
     },
     "execution_count": 3,
     "metadata": {},
     "output_type": "execute_result"
    }
   ],
   "source": [
    "df.head()"
   ]
  },
  {
   "cell_type": "code",
   "execution_count": 4,
   "id": "bb1a44d2-4dba-4b56-b157-36f10490b876",
   "metadata": {},
   "outputs": [
    {
     "data": {
      "text/plain": [
       "created_at                    object\n",
       "id                             int64\n",
       "id_str                        object\n",
       "text                          object\n",
       "truncated                       bool\n",
       "entities                      object\n",
       "source                        object\n",
       "in_reply_to_status_id        float64\n",
       "in_reply_to_status_id_str     object\n",
       "in_reply_to_user_id          float64\n",
       "in_reply_to_user_id_str       object\n",
       "in_reply_to_screen_name       object\n",
       "user                          object\n",
       "geo                           object\n",
       "coordinates                   object\n",
       "place                         object\n",
       "contributors                  object\n",
       "is_quote_status                 bool\n",
       "retweet_count                  int64\n",
       "favorite_count                 int64\n",
       "favorited                       bool\n",
       "retweeted                       bool\n",
       "possibly_sensitive            object\n",
       "lang                          object\n",
       "retweeted_status              object\n",
       "extended_entities             object\n",
       "quoted_status_id             float64\n",
       "quoted_status_id_str          object\n",
       "quoted_status                 object\n",
       "withheld_in_countries         object\n",
       "dtype: object"
      ]
     },
     "execution_count": 4,
     "metadata": {},
     "output_type": "execute_result"
    }
   ],
   "source": [
    "df.dtypes"
   ]
  },
  {
   "cell_type": "code",
   "execution_count": 5,
   "id": "f96b5036-7ada-442a-b9a3-470f2bcb49b5",
   "metadata": {},
   "outputs": [],
   "source": [
    "df0= df['id']"
   ]
  },
  {
   "cell_type": "code",
   "execution_count": 6,
   "id": "28041f6a-1cfc-468c-b06b-b961e3314e6a",
   "metadata": {},
   "outputs": [
    {
     "data": {
      "text/plain": [
       "722685"
      ]
     },
     "execution_count": 6,
     "metadata": {},
     "output_type": "execute_result"
    }
   ],
   "source": [
    "df0.count()"
   ]
  },
  {
   "cell_type": "code",
   "execution_count": 7,
   "id": "28f9a170-ae76-4b05-a78a-5889b64216b6",
   "metadata": {},
   "outputs": [],
   "source": [
    "df_retweets = df['retweet_count']"
   ]
  },
  {
   "cell_type": "code",
   "execution_count": 8,
   "id": "94d0f29b-6357-4db6-bab3-5f81a99fdb65",
   "metadata": {},
   "outputs": [
    {
     "data": {
      "text/plain": [
       "0    0\n",
       "1    0\n",
       "2    0\n",
       "3    0\n",
       "4    0\n",
       "Name: retweet_count, dtype: int64"
      ]
     },
     "execution_count": 8,
     "metadata": {},
     "output_type": "execute_result"
    }
   ],
   "source": [
    "df_retweets.head()"
   ]
  },
  {
   "cell_type": "code",
   "execution_count": 9,
   "id": "f338a8f3-a79e-4164-9000-6481221c7f93",
   "metadata": {},
   "outputs": [
    {
     "data": {
      "text/plain": [
       "created_at                   722685\n",
       "id                           722685\n",
       "id_str                       722685\n",
       "text                         722685\n",
       "truncated                    722685\n",
       "entities                     722685\n",
       "source                       722685\n",
       "in_reply_to_status_id          8391\n",
       "in_reply_to_status_id_str      8391\n",
       "in_reply_to_user_id           12192\n",
       "in_reply_to_user_id_str       12192\n",
       "in_reply_to_screen_name       12192\n",
       "user                         722685\n",
       "geo                             176\n",
       "coordinates                     176\n",
       "place                          8770\n",
       "contributors                      0\n",
       "is_quote_status              722685\n",
       "retweet_count                722685\n",
       "favorite_count               722685\n",
       "favorited                    722685\n",
       "retweeted                    722685\n",
       "possibly_sensitive           521371\n",
       "lang                         722685\n",
       "retweeted_status             278908\n",
       "extended_entities             18886\n",
       "quoted_status_id               4246\n",
       "quoted_status_id_str           4246\n",
       "quoted_status                  1238\n",
       "withheld_in_countries           298\n",
       "dtype: int64"
      ]
     },
     "execution_count": 9,
     "metadata": {},
     "output_type": "execute_result"
    }
   ],
   "source": [
    "df.count()"
   ]
  },
  {
   "cell_type": "code",
   "execution_count": 10,
   "id": "92d8670e-64f6-4ed2-91fd-08e18d932332",
   "metadata": {},
   "outputs": [],
   "source": [
    "df1=df['entities']"
   ]
  },
  {
   "cell_type": "code",
   "execution_count": 11,
   "id": "b9643d68-f6a2-4c06-a797-ecd3ed83c47a",
   "metadata": {},
   "outputs": [],
   "source": [
    "expanded_urls = df['entities'].apply(lambda x: (x['urls'][0]['expanded_url'] if len(x['urls'])> 0 else pd.NA))\n",
    "expanded_urls = expanded_urls[expanded_urls.notna()]"
   ]
  },
  {
   "cell_type": "code",
   "execution_count": 12,
   "id": "9105e373-83e0-4464-b44a-8a6c5f0542e5",
   "metadata": {},
   "outputs": [],
   "source": [
    "#expanded_urls.tolist()"
   ]
  },
  {
   "cell_type": "code",
   "execution_count": 13,
   "id": "9bd0cc1a-0ae0-4086-a372-9347dc5647ca",
   "metadata": {},
   "outputs": [],
   "source": [
    "df['expanded_urls']=expanded_urls"
   ]
  },
  {
   "cell_type": "code",
   "execution_count": 14,
   "id": "ad97ca03-d863-4c26-b387-2ac544317445",
   "metadata": {},
   "outputs": [],
   "source": [
    "df_body=[]\n",
    "for i in df.index:\n",
    "    df_body.append(df[\"text\"][i])\n"
   ]
  },
  {
   "cell_type": "code",
   "execution_count": 15,
   "id": "5e03fec5-5580-4354-a0c2-2688b3e80cc9",
   "metadata": {},
   "outputs": [
    {
     "name": "stdout",
     "output_type": "stream",
     "text": [
      "722685\n"
     ]
    }
   ],
   "source": [
    "print(len(df_body))"
   ]
  },
  {
   "cell_type": "code",
   "execution_count": 16,
   "id": "1fd73489-fc81-4f18-9697-579f9685ee80",
   "metadata": {},
   "outputs": [],
   "source": [
    "import re"
   ]
  },
  {
   "cell_type": "code",
   "execution_count": 17,
   "id": "f61d8cdf-3994-432d-af64-4cba69264363",
   "metadata": {},
   "outputs": [],
   "source": [
    "df_text_without_urls =[]\n",
    "for x in df_body:\n",
    "    y= re.sub('http://\\S+|https://\\S+', '', x)\n",
    "    if(len(y)>0):\n",
    "        df_text_without_urls.append(y)\n",
    "    "
   ]
  },
  {
   "cell_type": "code",
   "execution_count": 18,
   "id": "d62c6b78-7c41-4103-8e05-ab91f3ae584d",
   "metadata": {},
   "outputs": [
    {
     "name": "stdout",
     "output_type": "stream",
     "text": [
      "722685\n"
     ]
    }
   ],
   "source": [
    "print(len(df_text_without_urls))"
   ]
  },
  {
   "cell_type": "code",
   "execution_count": 19,
   "id": "987fbcc9-67cf-4d01-8133-6e13ab249b6a",
   "metadata": {},
   "outputs": [],
   "source": [
    "df_text_without_urls_filtered =[]\n",
    "for x in df_text_without_urls:\n",
    "    new_str = re.sub(r'[^\\w\\s]', '', x)\n",
    "    new_str = new_str.replace(\"\\n\\r\\n\", \"\")\n",
    "    new_str = new_str.replace(\"\\n\",\"\")\n",
    "    new_str = new_str.replace(\"\\n\\n\",\"\")\n",
    "    df_text_without_urls_filtered.append(new_str)"
   ]
  },
  {
   "cell_type": "code",
   "execution_count": 20,
   "id": "fef045b0-cfe4-42d1-be8f-152691a3edd0",
   "metadata": {},
   "outputs": [
    {
     "name": "stdout",
     "output_type": "stream",
     "text": [
      "722685\n"
     ]
    }
   ],
   "source": [
    "print(len(df_text_without_urls_filtered))"
   ]
  },
  {
   "cell_type": "code",
   "execution_count": 21,
   "id": "749a39c9-3ea8-46d1-b69d-36414c9b4c47",
   "metadata": {},
   "outputs": [],
   "source": [
    "df['text_without_urls']= df_text_without_urls_filtered"
   ]
  },
  {
   "cell_type": "code",
   "execution_count": 22,
   "id": "9138cd2d-e25e-4ec8-b249-90a91674a8d9",
   "metadata": {},
   "outputs": [],
   "source": [
    "df_required=df[['created_at','expanded_urls','text_without_urls']]"
   ]
  },
  {
   "cell_type": "code",
   "execution_count": 23,
   "id": "d17545ec-c47d-47b8-b861-7d6f68cb8e7e",
   "metadata": {},
   "outputs": [
    {
     "data": {
      "text/html": [
       "<div>\n",
       "<style scoped>\n",
       "    .dataframe tbody tr th:only-of-type {\n",
       "        vertical-align: middle;\n",
       "    }\n",
       "\n",
       "    .dataframe tbody tr th {\n",
       "        vertical-align: top;\n",
       "    }\n",
       "\n",
       "    .dataframe thead th {\n",
       "        text-align: right;\n",
       "    }\n",
       "</style>\n",
       "<table border=\"1\" class=\"dataframe\">\n",
       "  <thead>\n",
       "    <tr style=\"text-align: right;\">\n",
       "      <th></th>\n",
       "      <th>created_at</th>\n",
       "      <th>expanded_urls</th>\n",
       "      <th>text_without_urls</th>\n",
       "    </tr>\n",
       "  </thead>\n",
       "  <tbody>\n",
       "    <tr>\n",
       "      <th>0</th>\n",
       "      <td>Fri May 25 17:07:16 +0000 2018</td>\n",
       "      <td>https://twitter.com/i/web/status/1000060743755...</td>\n",
       "      <td>newsjean I am a producer for AlJazeera English...</td>\n",
       "    </tr>\n",
       "    <tr>\n",
       "      <th>1</th>\n",
       "      <td>Fri May 25 14:35:24 +0000 2018</td>\n",
       "      <td>http://www.foxnews.com/politics/2018/05/25/why...</td>\n",
       "      <td>Why Trump scrapping the summit goes beyond the...</td>\n",
       "    </tr>\n",
       "    <tr>\n",
       "      <th>2</th>\n",
       "      <td>Fri May 25 17:34:20 +0000 2018</td>\n",
       "      <td>http://www.foxnews.com/politics/2018/05/25/env...</td>\n",
       "      <td>Environmental red tape stalls border agents tr...</td>\n",
       "    </tr>\n",
       "    <tr>\n",
       "      <th>3</th>\n",
       "      <td>Sat May 26 04:44:55 +0000 2018</td>\n",
       "      <td>https://twitter.com/i/web/status/1000236313793...</td>\n",
       "      <td>Just what we dont need  an even dirtier future...</td>\n",
       "    </tr>\n",
       "    <tr>\n",
       "      <th>4</th>\n",
       "      <td>Sat May 26 01:48:17 +0000 2018</td>\n",
       "      <td>http://www.foxnews.com/tech/2018/05/24/amazon-...</td>\n",
       "      <td>Amazon Alexa records and shares womans private...</td>\n",
       "    </tr>\n",
       "  </tbody>\n",
       "</table>\n",
       "</div>"
      ],
      "text/plain": [
       "                       created_at  \\\n",
       "0  Fri May 25 17:07:16 +0000 2018   \n",
       "1  Fri May 25 14:35:24 +0000 2018   \n",
       "2  Fri May 25 17:34:20 +0000 2018   \n",
       "3  Sat May 26 04:44:55 +0000 2018   \n",
       "4  Sat May 26 01:48:17 +0000 2018   \n",
       "\n",
       "                                       expanded_urls  \\\n",
       "0  https://twitter.com/i/web/status/1000060743755...   \n",
       "1  http://www.foxnews.com/politics/2018/05/25/why...   \n",
       "2  http://www.foxnews.com/politics/2018/05/25/env...   \n",
       "3  https://twitter.com/i/web/status/1000236313793...   \n",
       "4  http://www.foxnews.com/tech/2018/05/24/amazon-...   \n",
       "\n",
       "                                   text_without_urls  \n",
       "0  newsjean I am a producer for AlJazeera English...  \n",
       "1  Why Trump scrapping the summit goes beyond the...  \n",
       "2  Environmental red tape stalls border agents tr...  \n",
       "3  Just what we dont need  an even dirtier future...  \n",
       "4  Amazon Alexa records and shares womans private...  "
      ]
     },
     "execution_count": 23,
     "metadata": {},
     "output_type": "execute_result"
    }
   ],
   "source": [
    "df_required.head()"
   ]
  },
  {
   "cell_type": "code",
   "execution_count": 24,
   "id": "2f894621-8ca1-4091-802b-615abc74b2a0",
   "metadata": {},
   "outputs": [],
   "source": [
    "data2=pd.DataFrame(pd.read_excel(\"MediaBias.xlsx\"))"
   ]
  },
  {
   "cell_type": "code",
   "execution_count": 25,
   "id": "a258d39c-f532-4146-bd87-c09c2df116a0",
   "metadata": {},
   "outputs": [],
   "source": [
    "data3 = data2[['Media source', 'URL', 'Political Leaning']].copy()"
   ]
  },
  {
   "cell_type": "code",
   "execution_count": 26,
   "id": "6d3ea0dd-60ad-4929-b231-bfe4bbd8890f",
   "metadata": {},
   "outputs": [],
   "source": [
    "#SPLITTING THE ENTIRE DATASET OF MEDIABIAS INTO LEFT,CENTRE AND RIGHT"
   ]
  },
  {
   "cell_type": "code",
   "execution_count": 27,
   "id": "19e03ce2-0e39-4843-8f64-a55821f300ca",
   "metadata": {},
   "outputs": [],
   "source": [
    "left_media=[]\n",
    "right_media=[]\n",
    "centre_media=[]\n",
    "left_lean_media=[]\n",
    "right_lean_media=[]"
   ]
  },
  {
   "cell_type": "code",
   "execution_count": 28,
   "id": "47f5a75b-be11-4e5a-b3a7-69496c56f7dc",
   "metadata": {},
   "outputs": [],
   "source": [
    "data3.rename(columns = {'Media source':'Media_source', 'Political Leaning':'Political_Leaning'}, inplace = True)\n",
    "data3.Media_source = data3.Media_source.astype('string')\n",
    "data3.Political_Leaning=data3.Political_Leaning.astype('string')\n",
    "data3.URL=data3.URL.astype('string')"
   ]
  },
  {
   "cell_type": "code",
   "execution_count": 29,
   "id": "cc6e886a-ddf4-49a7-b6cf-a689177b8563",
   "metadata": {},
   "outputs": [],
   "source": [
    "data3.dropna(inplace=True)"
   ]
  },
  {
   "cell_type": "code",
   "execution_count": 30,
   "id": "17cc84e7-89f3-4219-b81b-83cf8ea1d835",
   "metadata": {},
   "outputs": [
    {
     "data": {
      "text/html": [
       "<div>\n",
       "<style scoped>\n",
       "    .dataframe tbody tr th:only-of-type {\n",
       "        vertical-align: middle;\n",
       "    }\n",
       "\n",
       "    .dataframe tbody tr th {\n",
       "        vertical-align: top;\n",
       "    }\n",
       "\n",
       "    .dataframe thead th {\n",
       "        text-align: right;\n",
       "    }\n",
       "</style>\n",
       "<table border=\"1\" class=\"dataframe\">\n",
       "  <thead>\n",
       "    <tr style=\"text-align: right;\">\n",
       "      <th></th>\n",
       "      <th>Media_source</th>\n",
       "      <th>URL</th>\n",
       "      <th>Political_Leaning</th>\n",
       "    </tr>\n",
       "  </thead>\n",
       "  <tbody>\n",
       "    <tr>\n",
       "      <th>0</th>\n",
       "      <td>ABC News (Online)</td>\n",
       "      <td>https://abcnews.go.com/</td>\n",
       "      <td>Left Lean</td>\n",
       "    </tr>\n",
       "    <tr>\n",
       "      <th>1</th>\n",
       "      <td>Above The Law</td>\n",
       "      <td>https://abovethelaw.com/</td>\n",
       "      <td>Left Lean</td>\n",
       "    </tr>\n",
       "    <tr>\n",
       "      <th>2</th>\n",
       "      <td>Abridge News</td>\n",
       "      <td>https://abridgenews.com/</td>\n",
       "      <td>Mixed</td>\n",
       "    </tr>\n",
       "    <tr>\n",
       "      <th>3</th>\n",
       "      <td>AJ+</td>\n",
       "      <td>https://www.ajplus.net/</td>\n",
       "      <td>Left</td>\n",
       "    </tr>\n",
       "    <tr>\n",
       "      <th>4</th>\n",
       "      <td>Al Jazeera</td>\n",
       "      <td>https://www.aljazeera.com/</td>\n",
       "      <td>Left Lean</td>\n",
       "    </tr>\n",
       "  </tbody>\n",
       "</table>\n",
       "</div>"
      ],
      "text/plain": [
       "        Media_source                         URL Political_Leaning\n",
       "0  ABC News (Online)     https://abcnews.go.com/         Left Lean\n",
       "1      Above The Law    https://abovethelaw.com/         Left Lean\n",
       "2       Abridge News    https://abridgenews.com/             Mixed\n",
       "3                AJ+     https://www.ajplus.net/              Left\n",
       "4         Al Jazeera  https://www.aljazeera.com/         Left Lean"
      ]
     },
     "execution_count": 30,
     "metadata": {},
     "output_type": "execute_result"
    }
   ],
   "source": [
    "data3.head()"
   ]
  },
  {
   "cell_type": "code",
   "execution_count": 31,
   "id": "443b2ef5-6e67-4d3a-9788-acfe5bd4c52f",
   "metadata": {},
   "outputs": [],
   "source": [
    "for ind in data3.index:\n",
    "    if(data3['Political_Leaning'][ind]==\"Left\"):\n",
    "        if(data3['Media_source'][ind] not in left_media):\n",
    "            left_media.append(data3['Media_source'][ind])\n",
    "    elif(data3['Political_Leaning'][ind]==\"Right\"):\n",
    "        if(data3['Media_source'][ind] not in right_media):\n",
    "            right_media.append(data3['Media_source'][ind])\n",
    "    elif((data3['Political_Leaning'][ind]==\"Center\" ) or (data3['Political_Leaning'][ind]==\"Mixed\")):\n",
    "        if(data3['Media_source'][ind] not in centre_media):\n",
    "            centre_media.append(data3['Media_source'][ind])\n",
    "    elif(data3['Political_Leaning'][ind]==\"Left Lean\"):\n",
    "        if(data3['Media_source'][ind] not in left_lean_media):\n",
    "            left_lean_media.append((data3['Media_source'][ind]))\n",
    "    elif(data3['Political_Leaning'][ind]==\"Right Lean\"):\n",
    "        if(data3['Media_source'][ind] not in right_lean_media):\n",
    "            right_lean_media.append((data3['Media_source'][ind]))\n",
    "    "
   ]
  },
  {
   "cell_type": "code",
   "execution_count": 32,
   "id": "e81cf000-9600-4b14-897c-6056ca3643b5",
   "metadata": {},
   "outputs": [],
   "source": [
    "hashmap_media={}"
   ]
  },
  {
   "cell_type": "code",
   "execution_count": 33,
   "id": "a58a7ecd-7bcb-4df8-9d27-b311bc862cd7",
   "metadata": {},
   "outputs": [],
   "source": [
    "for ind in data3.index:\n",
    "    hashmap_media[data3['Media_source'][ind]]=data3['URL'][ind]"
   ]
  },
  {
   "cell_type": "code",
   "execution_count": 34,
   "id": "a0338f2a-4ae6-4508-aa3b-48efbbf7db43",
   "metadata": {},
   "outputs": [],
   "source": [
    "import re"
   ]
  },
  {
   "cell_type": "code",
   "execution_count": 35,
   "id": "0337b582-9851-4726-8373-7125c0120c39",
   "metadata": {},
   "outputs": [
    {
     "data": {
      "text/plain": [
       "True"
      ]
     },
     "execution_count": 35,
     "metadata": {},
     "output_type": "execute_result"
    }
   ],
   "source": [
    "df_required.isnull().values.any()"
   ]
  },
  {
   "cell_type": "code",
   "execution_count": 36,
   "id": "4e0353ec-55d7-4d16-b90a-eed0ef8e2be1",
   "metadata": {},
   "outputs": [
    {
     "data": {
      "text/plain": [
       "created_at           object\n",
       "expanded_urls        object\n",
       "text_without_urls    object\n",
       "dtype: object"
      ]
     },
     "execution_count": 36,
     "metadata": {},
     "output_type": "execute_result"
    }
   ],
   "source": [
    "df_required.dtypes"
   ]
  },
  {
   "cell_type": "code",
   "execution_count": 37,
   "id": "e02b1c18-3d87-4846-a032-4fe2ee4c8078",
   "metadata": {},
   "outputs": [
    {
     "name": "stdout",
     "output_type": "stream",
     "text": [
      "95\n",
      "47\n",
      "54\n",
      "50\n"
     ]
    }
   ],
   "source": [
    "print(len(left_lean_media))\n",
    "print(len(right_lean_media))\n",
    "print(len(left_media))\n",
    "print(len(right_media))"
   ]
  },
  {
   "cell_type": "code",
   "execution_count": 38,
   "id": "85301d47-fe9e-4f77-9410-5656d89f2c53",
   "metadata": {},
   "outputs": [],
   "source": [
    "left_suburls=[]\n",
    "right_suburls=[]\n",
    "centre_suburls=[]\n",
    "left_leaning_suburls=[]\n",
    "right_leaning_suburls=[]"
   ]
  },
  {
   "cell_type": "code",
   "execution_count": 39,
   "id": "9ff509ff-f1d7-4e37-9cf9-bb54daed02df",
   "metadata": {},
   "outputs": [],
   "source": [
    "for i in range(0,len(left_media)):\n",
    "    if hashmap_media.get(left_media[i]) not in left_suburls:\n",
    "        left_suburls.append(hashmap_media.get(left_media[i]))"
   ]
  },
  {
   "cell_type": "code",
   "execution_count": 40,
   "id": "7534d252-2891-4975-8b81-7517f5fbc933",
   "metadata": {},
   "outputs": [],
   "source": [
    "for i in range(0,len(right_media)):\n",
    "    if hashmap_media.get(right_media[i]) not in right_suburls:\n",
    "        right_suburls.append(hashmap_media.get(right_media[i]))"
   ]
  },
  {
   "cell_type": "code",
   "execution_count": 41,
   "id": "0a3e0239-5bd4-43a8-8fab-f556ef417fe5",
   "metadata": {},
   "outputs": [],
   "source": [
    "for i in range(0,len(centre_media)):\n",
    "    if hashmap_media.get(centre_media[i]) not in centre_suburls:\n",
    "        centre_suburls.append(hashmap_media.get(centre_media[i]))"
   ]
  },
  {
   "cell_type": "code",
   "execution_count": 42,
   "id": "1c5e42e5-332c-45d1-a60c-83c1296e9be9",
   "metadata": {},
   "outputs": [],
   "source": [
    "for i in range(0,len(left_lean_media)):\n",
    "    if hashmap_media.get(left_lean_media[i]) not in left_leaning_suburls:\n",
    "        left_leaning_suburls.append(hashmap_media.get(left_lean_media[i]))"
   ]
  },
  {
   "cell_type": "code",
   "execution_count": 43,
   "id": "48f13b1c-2b4a-4e93-ab76-b3a3ca6b5fc5",
   "metadata": {},
   "outputs": [],
   "source": [
    "for i in range(0,len(right_lean_media)):\n",
    "    if hashmap_media.get(right_lean_media[i]) not in right_leaning_suburls:\n",
    "        right_leaning_suburls.append(hashmap_media.get(right_lean_media[i]))"
   ]
  },
  {
   "cell_type": "code",
   "execution_count": 44,
   "id": "330309c1-86ee-41be-95f0-d2aca9a33777",
   "metadata": {},
   "outputs": [],
   "source": [
    "left_timestamps=[]\n",
    "right_timestamps=[]\n",
    "centre_timestamps=[]\n",
    "left_leaning_timestamps=[]\n",
    "right_leaning_timestamps=[]"
   ]
  },
  {
   "cell_type": "code",
   "execution_count": 45,
   "id": "4ff15c91-100d-449e-a0f9-b47304923a61",
   "metadata": {},
   "outputs": [],
   "source": [
    "x=df_required[[\"created_at\",\"expanded_urls\",\"text_without_urls\"]].to_numpy()"
   ]
  },
  {
   "cell_type": "code",
   "execution_count": 46,
   "id": "6a090fcc-6b7f-4a23-b198-6371d442ef93",
   "metadata": {},
   "outputs": [
    {
     "name": "stdout",
     "output_type": "stream",
     "text": [
      "[['Fri May 25 17:07:16 +0000 2018'\n",
      "  'https://twitter.com/i/web/status/1000060743755223043'\n",
      "  'newsjean I am a producer for AlJazeera Englishs AJStream Doing a show on North Korea this coming Tuesday May 29t ']\n",
      " ['Fri May 25 14:35:24 +0000 2018'\n",
      "  'http://www.foxnews.com/politics/2018/05/25/why-trump-scrapping-summit-goes-beyond-rough-rhetoric.html'\n",
      "  'Why Trump scrapping the summit goes beyond the rough rhetoric']\n",
      " ['Fri May 25 17:34:20 +0000 2018'\n",
      "  'http://www.foxnews.com/politics/2018/05/25/environmental-red-tape-stalls-border-agents-trying-to-fill-drug-smuggler-tunnels.html'\n",
      "  'Environmental red tape stalls border agents trying to fill drugsmuggler tunnels']\n",
      " ...\n",
      " ['Wed Sep 19 01:24:15 +0000 2018' nan\n",
      "  'RT ACmideast The Saudiled coalition relaunches major offensive in Yemen to recapture the port city of Hodeidahthrough which 70 of hum']\n",
      " ['Tue Sep 18 14:31:37 +0000 2018'\n",
      "  'https://www.voanews.com/a/senior-boko-haram-leader-reportedly-killed-by-allies-/4576033.html'\n",
      "  'RT HarunMaruf Senior Boko Haram leader reportedly killed by his own colleagues ']\n",
      " ['Sat Sep 29 20:46:12 +0000 2018' nan\n",
      "  'RT DalrympleWill I found this a very moving moment especially as it clearly moved Flake to break rank with his fellow Republicans amp dema']]\n",
      "722685\n",
      "<class 'numpy.ndarray'>\n"
     ]
    }
   ],
   "source": [
    "print(x)\n",
    "print(len(x))\n",
    "print(type(x[1]))\n",
    "left=np.array(left_suburls)"
   ]
  },
  {
   "cell_type": "code",
   "execution_count": null,
   "id": "c9d7adef-5f66-45a4-bd52-bb8092cbe561",
   "metadata": {},
   "outputs": [],
   "source": [
    "\n"
   ]
  },
  {
   "cell_type": "code",
   "execution_count": 47,
   "id": "51e228df-0c5c-4701-aa61-474aafe6996b",
   "metadata": {},
   "outputs": [],
   "source": [
    "from datetime import datetime\n",
    "for y in x:\n",
    "    for sub  in left_suburls:\n",
    "        if y[1] is not np.nan:\n",
    "            if sub in str(y[1]):\n",
    "                #y[0] = str(y[0])\n",
    "                y[0] = datetime.strptime(y[0], '%a %b %d %H:%M:%S %z %Y')\n",
    "                tuple_timestamp_text=(y[0].date(),y[2])\n",
    "                left_timestamps.append(tuple_timestamp_text)"
   ]
  },
  {
   "cell_type": "code",
   "execution_count": 48,
   "id": "84df7df9-ac30-488b-abd0-9951b6a60d91",
   "metadata": {},
   "outputs": [],
   "source": [
    "for y in x:\n",
    "    for sub  in centre_suburls:\n",
    "        if y[1] is not np.nan:\n",
    "            if sub in str(y[1]):\n",
    "                #y[0] = str(y[0])\n",
    "                y[0] = datetime.strptime(y[0], '%a %b %d %H:%M:%S %z %Y')\n",
    "                tuple_timestamp_text=(y[0].date(),y[2])\n",
    "                centre_timestamps.append(tuple_timestamp_text)"
   ]
  },
  {
   "cell_type": "code",
   "execution_count": 49,
   "id": "f1d79677-7b37-459b-86cb-74abf3c054a9",
   "metadata": {},
   "outputs": [],
   "source": [
    "try_formats = [\n",
    "    '%Y-%m-%d %H:%M:%S%z', \n",
    "    '%a %b %d %H:%M:%S %z %Y', \n",
    "    '%m/%d/%Y %H:%M:%S', \n",
    "]\n"
   ]
  },
  {
   "cell_type": "code",
   "execution_count": 50,
   "id": "645998f7-b402-4945-b38e-751173ed20aa",
   "metadata": {},
   "outputs": [],
   "source": [
    "for y in x:\n",
    "    for sub  in right_suburls:\n",
    "        if y[1] is not np.nan:\n",
    "            if sub in str(y[1]):\n",
    "                y[0] = str(y[0])\n",
    "                for format_string in try_formats:\n",
    "                    try:\n",
    "                        date_object = datetime.strptime(y[0], format_string)\n",
    "                        #print(f\"Format string: {format_string}\")\n",
    "                        break\n",
    "                    except ValueError:\n",
    "                        pass\n",
    "                \n",
    "                #y[0] = datetime.strptime(y[0], '%a %b %d %H:%M:%S %z %Y')\n",
    "                tuple_timestamp_text=(date_object.date(),y[2])\n",
    "                right_timestamps.append(tuple_timestamp_text)"
   ]
  },
  {
   "cell_type": "code",
   "execution_count": 51,
   "id": "7ae8a91a-3ea9-4bd5-af30-0d1c34e3172e",
   "metadata": {},
   "outputs": [],
   "source": [
    "for y in x:\n",
    "    for sub  in left_leaning_suburls:\n",
    "        if y[1] is not np.nan:\n",
    "            if sub in str(y[1]):\n",
    "                y[0] = str(y[0])\n",
    "                for format_string in try_formats:\n",
    "                    try:\n",
    "                        date_object = datetime.strptime(y[0], format_string)\n",
    "                        #print(f\"Format string: {format_string}\")\n",
    "                        break\n",
    "                    except ValueError:\n",
    "                        pass\n",
    "                \n",
    "                #y[0] = datetime.strptime(y[0], '%a %b %d %H:%M:%S %z %Y')\n",
    "                tuple_timestamp_text=(date_object.date(),y[2])\n",
    "                left_leaning_timestamps.append(tuple_timestamp_text)"
   ]
  },
  {
   "cell_type": "code",
   "execution_count": 52,
   "id": "81452048-5182-4c34-93d5-1efca89c7ce8",
   "metadata": {},
   "outputs": [],
   "source": [
    "for y in x:\n",
    "    for sub  in right_leaning_suburls:\n",
    "        if y[1] is not np.nan:\n",
    "            if sub in str(y[1]):\n",
    "                y[0] = str(y[0])\n",
    "                for format_string in try_formats:\n",
    "                    try:\n",
    "                        date_object = datetime.strptime(y[0], format_string)\n",
    "                        #print(f\"Format string: {format_string}\")\n",
    "                        break\n",
    "                    except ValueError:\n",
    "                        pass\n",
    "                \n",
    "                #y[0] = datetime.strptime(y[0], '%a %b %d %H:%M:%S %z %Y')\n",
    "                tuple_timestamp_text=(date_object.date(),y[2])\n",
    "                right_leaning_timestamps.append(tuple_timestamp_text)"
   ]
  },
  {
   "cell_type": "code",
   "execution_count": 53,
   "id": "6b714e87-0688-468e-86cc-acff4b21ff54",
   "metadata": {},
   "outputs": [
    {
     "name": "stdout",
     "output_type": "stream",
     "text": [
      "35554\n",
      "7227\n",
      "43129\n",
      "104630\n",
      "3695\n"
     ]
    }
   ],
   "source": [
    "print(len(left_timestamps))\n",
    "print(len(right_timestamps))\n",
    "print(len(centre_timestamps))\n",
    "print(len(left_leaning_timestamps))\n",
    "print(len(right_leaning_timestamps))\n"
   ]
  },
  {
   "cell_type": "code",
   "execution_count": 54,
   "id": "881d0d35-ac55-46e4-8159-b65f086f54ff",
   "metadata": {},
   "outputs": [],
   "source": [
    "left_hashmap  ={}\n",
    "right_hashmap ={}\n",
    "centre_hashmap={}\n",
    "left_lean_hashmap={}\n",
    "right_lean_hashmap={}"
   ]
  },
  {
   "cell_type": "code",
   "execution_count": 55,
   "id": "3a9c3a30-5ec8-4104-b447-a4c4e725d214",
   "metadata": {},
   "outputs": [
    {
     "data": {
      "text/plain": [
       "(datetime.date(2018, 5, 26), 'RT chrislhayes Please watch this and share it ')"
      ]
     },
     "execution_count": 55,
     "metadata": {},
     "output_type": "execute_result"
    }
   ],
   "source": [
    "left_timestamps[0]"
   ]
  },
  {
   "cell_type": "code",
   "execution_count": 56,
   "id": "766c41cf-15cf-4e06-b403-c651e4e947c6",
   "metadata": {},
   "outputs": [],
   "source": [
    "for t in left_timestamps:\n",
    "    if(t[0] not in left_hashmap):\n",
    "        left_hashmap[t[0]] = []\n",
    "    left_hashmap[t[0]].append(t[1])"
   ]
  },
  {
   "cell_type": "code",
   "execution_count": 57,
   "id": "f6ff797c-540c-4a81-a93e-b598f170b82e",
   "metadata": {},
   "outputs": [],
   "source": [
    "for t in right_timestamps:\n",
    "    if(t[0] not in right_hashmap):\n",
    "        right_hashmap[t[0]] = []\n",
    "    right_hashmap[t[0]].append(t[1])"
   ]
  },
  {
   "cell_type": "code",
   "execution_count": 58,
   "id": "b114f4f7-d7ca-4e76-a3c2-74e90e8b628b",
   "metadata": {},
   "outputs": [],
   "source": [
    "for t in centre_timestamps:\n",
    "    if(t[0] not in centre_hashmap):\n",
    "        centre_hashmap[t[0]] = []\n",
    "    centre_hashmap[t[0]].append(t[1])"
   ]
  },
  {
   "cell_type": "code",
   "execution_count": 59,
   "id": "cdfe7071-e608-42f4-a14f-c4ddaa70f692",
   "metadata": {},
   "outputs": [],
   "source": [
    "for t in left_leaning_timestamps:\n",
    "    if(t[0] not in left_lean_hashmap):\n",
    "        left_lean_hashmap[t[0]] = []\n",
    "    left_lean_hashmap[t[0]].append(t[1])"
   ]
  },
  {
   "cell_type": "code",
   "execution_count": 60,
   "id": "986e2964-58bc-48a4-a248-ebc23affce7b",
   "metadata": {},
   "outputs": [],
   "source": [
    "for t in right_leaning_timestamps:\n",
    "    if(t[0] not in right_lean_hashmap):\n",
    "        right_lean_hashmap[t[0]] = []\n",
    "    right_lean_hashmap[t[0]].append(t[1])"
   ]
  },
  {
   "cell_type": "code",
   "execution_count": 61,
   "id": "43c70f89-14b0-4cd1-991e-b38eb6b450c5",
   "metadata": {},
   "outputs": [
    {
     "name": "stdout",
     "output_type": "stream",
     "text": [
      "Requirement already satisfied: vaderSentiment in ./anaconda3/lib/python3.9/site-packages (3.3.2)\n",
      "Requirement already satisfied: requests in ./anaconda3/lib/python3.9/site-packages (from vaderSentiment) (2.27.1)\n",
      "Requirement already satisfied: urllib3<1.27,>=1.21.1 in ./anaconda3/lib/python3.9/site-packages (from requests->vaderSentiment) (1.26.9)\n",
      "Requirement already satisfied: idna<4,>=2.5 in ./anaconda3/lib/python3.9/site-packages (from requests->vaderSentiment) (3.3)\n",
      "Requirement already satisfied: charset-normalizer~=2.0.0 in ./anaconda3/lib/python3.9/site-packages (from requests->vaderSentiment) (2.0.4)\n",
      "Requirement already satisfied: certifi>=2017.4.17 in ./anaconda3/lib/python3.9/site-packages (from requests->vaderSentiment) (2021.10.8)\n",
      "Note: you may need to restart the kernel to use updated packages.\n"
     ]
    }
   ],
   "source": [
    "pip install vaderSentiment"
   ]
  },
  {
   "cell_type": "code",
   "execution_count": 62,
   "id": "841e4d24-9a00-4fdf-8f66-d8b2a42b4c7f",
   "metadata": {},
   "outputs": [],
   "source": [
    " \n",
    "from vaderSentiment.vaderSentiment import SentimentIntensityAnalyzer\n",
    "\n",
    "# function to print sentiments\n",
    "# of the sentence.\n",
    "def sentiment_scores(sentence):\n",
    "\n",
    "# Create a SentimentIntensityAnalyzer object.\n",
    "    sid_obj = SentimentIntensityAnalyzer()\n",
    "\n",
    "    # polarity_scores method of SentimentIntensityAnalyzer\n",
    "    # object gives a sentiment dictionary.\n",
    "    # which contains pos, neg, neu, and compound scores.\n",
    "    sentiment_dict = sid_obj.polarity_scores(sentence)\n",
    "    return sentiment_dict\n",
    "\n",
    "\n"
   ]
  },
  {
   "cell_type": "code",
   "execution_count": 63,
   "id": "52244d49-f6b9-455a-ae0d-7b5929717275",
   "metadata": {},
   "outputs": [],
   "source": [
    "left_cache={}\n",
    "right_cache={}\n",
    "centre_cache={}\n",
    "left_lean_cache={}\n",
    "right_lean_cache={}"
   ]
  },
  {
   "cell_type": "code",
   "execution_count": 64,
   "id": "d3ccd187-f3eb-4e1c-aedb-883f4639183e",
   "metadata": {},
   "outputs": [],
   "source": [
    "for t in left_hashmap:\n",
    "    #print(t)\n",
    "    if t not in left_cache:\n",
    "        left_cache[t] =[]\n",
    "    \n",
    "    for text in left_hashmap[t]:\n",
    "        left_cache[t].append(sentiment_scores(text))"
   ]
  },
  {
   "cell_type": "code",
   "execution_count": 65,
   "id": "b533a4b0-25ab-4580-a322-5c3f929c057e",
   "metadata": {},
   "outputs": [],
   "source": [
    "for t in right_hashmap:\n",
    "    #print(t)\n",
    "    if t not in right_cache:\n",
    "        right_cache[t] =[]\n",
    "    \n",
    "    for text in right_hashmap[t]:\n",
    "        right_cache[t].append(sentiment_scores(text))"
   ]
  },
  {
   "cell_type": "code",
   "execution_count": 66,
   "id": "fc4a49f6-24b9-4526-ab67-5f708c7cc10b",
   "metadata": {},
   "outputs": [],
   "source": [
    "for t in centre_hashmap:\n",
    "    #print(t)\n",
    "    if t not in centre_cache:\n",
    "        centre_cache[t] =[]\n",
    "   \n",
    "    for text in centre_hashmap[t]:\n",
    "        centre_cache[t].append(sentiment_scores(text))"
   ]
  },
  {
   "cell_type": "code",
   "execution_count": 67,
   "id": "a95b04b1-6716-4845-8aba-5f554134f0ac",
   "metadata": {},
   "outputs": [],
   "source": [
    "for t in left_lean_hashmap:\n",
    "    #print(t)\n",
    "    if t not in left_lean_cache:\n",
    "        left_lean_cache[t] =[]\n",
    "    \n",
    "    for text in left_lean_hashmap[t]:\n",
    "        left_lean_cache[t].append(sentiment_scores(text))"
   ]
  },
  {
   "cell_type": "code",
   "execution_count": 68,
   "id": "dbc75660-6abe-40df-b9eb-ca614fd7f98e",
   "metadata": {},
   "outputs": [],
   "source": [
    "for t in right_lean_hashmap:\n",
    "    #print(t)\n",
    "    if t not in right_lean_cache:\n",
    "        right_lean_cache[t] =[]\n",
    "    \n",
    "    for text in right_lean_hashmap[t]:\n",
    "        right_lean_cache[t].append(sentiment_scores(text))"
   ]
  },
  {
   "cell_type": "code",
   "execution_count": 69,
   "id": "7f84d2b9-ed89-4127-a861-cdba909024f0",
   "metadata": {},
   "outputs": [],
   "source": [
    "#negatives stacked plot."
   ]
  },
  {
   "cell_type": "code",
   "execution_count": 70,
   "id": "7fe082a5-13a6-40e2-879c-6cd07f18dee5",
   "metadata": {},
   "outputs": [],
   "source": [
    "left_negatives={}\n",
    "right_negatives={}\n",
    "centre_negatives={}\n",
    "left_lean_negatives={}\n",
    "right_lean_negatives={}"
   ]
  },
  {
   "cell_type": "code",
   "execution_count": 71,
   "id": "a1cf580b-84b9-40a5-8adb-c44fa52f82ef",
   "metadata": {},
   "outputs": [],
   "source": [
    "for t in left_cache:\n",
    "    denominator = 0\n",
    "    numerator =0\n",
    "    for x in left_cache[t]:\n",
    "        numerator+=x['neg']\n",
    "        denominator+=1\n",
    "    average = numerator/denominator\n",
    "    left_negatives[t] = average\n",
    "    \n",
    "    "
   ]
  },
  {
   "cell_type": "code",
   "execution_count": 72,
   "id": "fbf74f30-60bf-4ce4-87e4-9099f7a14289",
   "metadata": {},
   "outputs": [],
   "source": [
    "for t in right_cache:\n",
    "    denominator = 0\n",
    "    numerator =0\n",
    "    for x in right_cache[t]:\n",
    "        numerator+=x['neg']\n",
    "        denominator+=1\n",
    "    average = numerator/denominator\n",
    "    right_negatives[t] = average\n",
    "    "
   ]
  },
  {
   "cell_type": "code",
   "execution_count": 73,
   "id": "f49a1ca3-c826-4c2f-a89a-0bb613cd5c9c",
   "metadata": {},
   "outputs": [],
   "source": [
    "for t in centre_cache:\n",
    "    denominator = 0\n",
    "    numerator =0\n",
    "    for x in centre_cache[t]:\n",
    "        numerator+=x['neg']\n",
    "        denominator+=1\n",
    "    average = numerator/denominator\n",
    "    centre_negatives[t] = average\n",
    "    "
   ]
  },
  {
   "cell_type": "code",
   "execution_count": 74,
   "id": "ea0460ae-2366-4769-9041-0ca1a94ad1ec",
   "metadata": {},
   "outputs": [],
   "source": [
    "for t in left_lean_cache:\n",
    "    denominator = 0\n",
    "    numerator =0\n",
    "    for x in left_lean_cache[t]:\n",
    "        numerator+=x['neg']\n",
    "        denominator+=1\n",
    "    average = numerator/denominator\n",
    "    left_lean_negatives[t] = average\n",
    "    "
   ]
  },
  {
   "cell_type": "code",
   "execution_count": 75,
   "id": "79042ba5-b274-44c6-bced-90d811546d1b",
   "metadata": {},
   "outputs": [],
   "source": [
    "for t in right_lean_cache:\n",
    "    denominator = 0\n",
    "    numerator =0\n",
    "    for x in right_lean_cache[t]:\n",
    "        numerator+=x['neg']\n",
    "        denominator+=1\n",
    "    average = numerator/denominator\n",
    "    right_lean_negatives[t] = average\n",
    "    "
   ]
  },
  {
   "cell_type": "code",
   "execution_count": 76,
   "id": "56cfe7c6-a101-422f-983c-05fd444acdf6",
   "metadata": {},
   "outputs": [],
   "source": [
    "left_negatives1 = {'Date':left_negatives.keys(), 'negative_scores':left_negatives.values()}\n",
    "right_negatives1 = {'Date':right_negatives.keys(), 'negative_scores':right_negatives.values()}\n",
    "centre_negatives1 = {'Date':centre_negatives.keys(), 'negative_scores':centre_negatives.values()}\n",
    "left_lean_negatives1 = {'Date':left_lean_negatives.keys(), 'negative_scores':left_lean_negatives.values()}\n",
    "right_lean_negatives1 = {'Date':right_lean_negatives.keys(), 'negative_scores':right_lean_negatives.values()}\n"
   ]
  },
  {
   "cell_type": "code",
   "execution_count": 77,
   "id": "9fb092b0-b412-40d0-977f-965585239eb7",
   "metadata": {},
   "outputs": [],
   "source": [
    "left_negatives_df = pd.DataFrame.from_dict(left_negatives1)\n",
    "right_negatives_df = pd.DataFrame.from_dict(right_negatives1)\n",
    "centre_negatives_df = pd.DataFrame.from_dict(centre_negatives1)\n",
    "left_lean_negatives_df = pd.DataFrame.from_dict(left_lean_negatives1)\n",
    "right_lean_negatives_df = pd.DataFrame.from_dict(right_lean_negatives1)"
   ]
  },
  {
   "cell_type": "code",
   "execution_count": 78,
   "id": "b03c0f5a-1502-4a1c-88e2-f389af03ea30",
   "metadata": {},
   "outputs": [
    {
     "name": "stderr",
     "output_type": "stream",
     "text": [
      "/home/srinath/anaconda3/lib/python3.9/site-packages/pandas/core/ops/array_ops.py:73: FutureWarning: Comparison of Timestamp with datetime.date is deprecated in order to match the standard library behavior. In a future version these will be considered non-comparable. Use 'ts == pd.Timestamp(date)' or 'ts.date() == date' instead.\n",
      "  result = libops.scalar_compare(x.ravel(), y, op)\n"
     ]
    }
   ],
   "source": [
    "left_negatives_filtered_df= left_negatives_df[(left_negatives_df['Date']>=pd.Timestamp(2018,5,1)) & (left_negatives_df['Date']<=pd.Timestamp(2018,12,1))]"
   ]
  },
  {
   "cell_type": "code",
   "execution_count": 79,
   "id": "89638c15-0d10-4f31-bf40-7d3bfe6796e3",
   "metadata": {},
   "outputs": [],
   "source": [
    "right_negatives_filtered_df= right_negatives_df[(right_negatives_df['Date']>=pd.Timestamp(2018,5,1)) & (right_negatives_df['Date']<=pd.Timestamp(2018,12,1))]\n",
    "centre_negatives_filtered_df= centre_negatives_df[(centre_negatives_df['Date']>=pd.Timestamp(2018,5,1)) & (centre_negatives_df['Date']<=pd.Timestamp(2018,12,1))]\n",
    "left_lean_negatives_filtered_df= left_lean_negatives_df[(left_lean_negatives_df['Date']>=pd.Timestamp(2018,5,1)) & (left_lean_negatives_df['Date']<=pd.Timestamp(2018,12,1))]\n",
    "right_lean_negatives_filtered_df= right_lean_negatives_df[(right_lean_negatives_df['Date']>=pd.Timestamp(2018,5,1)) & (right_lean_negatives_df['Date']<=pd.Timestamp(2018,12,1))]\n"
   ]
  },
  {
   "cell_type": "code",
   "execution_count": 80,
   "id": "dca4fedc-307a-4c51-93fa-9d853c26c037",
   "metadata": {},
   "outputs": [
    {
     "name": "stderr",
     "output_type": "stream",
     "text": [
      "/tmp/ipykernel_873365/1042235266.py:3: FutureWarning: Passing 'suffixes' which cause duplicate columns {'negative_scores_x'} in the result is deprecated and will raise a MergeError in a future version.\n",
      "  merged_df = pd.merge(merged_df, left_lean_negatives_filtered_df, on='Date', how='inner')\n"
     ]
    }
   ],
   "source": [
    "merged_df = pd.merge(left_negatives_filtered_df, right_negatives_filtered_df, on='Date', how='inner')\n",
    "merged_df = pd.merge(merged_df, centre_negatives_filtered_df, on='Date', how='inner')\n",
    "merged_df = pd.merge(merged_df, left_lean_negatives_filtered_df, on='Date', how='inner')\n",
    "merged_df = pd.merge(merged_df, right_lean_negatives_filtered_df, on='Date', how='inner')\n",
    "\n",
    "\n",
    "merged_df.columns = ['Date', 'left_tweets_mean_negative_score', 'right_tweets_mean_negative_score', 'centre_tweets_mean_negative_score', 'left_leaning_tweets_mean_negative_score', 'right_leaning_tweets_mean_negative_score']\n",
    "\n",
    "\n",
    "merged_df['Date'] = pd.to_datetime(merged_df['Date'])"
   ]
  },
  {
   "cell_type": "code",
   "execution_count": 81,
   "id": "ee62576e-bb3c-40c9-b393-d530216f545b",
   "metadata": {},
   "outputs": [
    {
     "data": {
      "text/html": [
       "<div>\n",
       "<style scoped>\n",
       "    .dataframe tbody tr th:only-of-type {\n",
       "        vertical-align: middle;\n",
       "    }\n",
       "\n",
       "    .dataframe tbody tr th {\n",
       "        vertical-align: top;\n",
       "    }\n",
       "\n",
       "    .dataframe thead th {\n",
       "        text-align: right;\n",
       "    }\n",
       "</style>\n",
       "<table border=\"1\" class=\"dataframe\">\n",
       "  <thead>\n",
       "    <tr style=\"text-align: right;\">\n",
       "      <th></th>\n",
       "      <th>Date</th>\n",
       "      <th>left_tweets_mean_negative_score</th>\n",
       "      <th>right_tweets_mean_negative_score</th>\n",
       "      <th>centre_tweets_mean_negative_score</th>\n",
       "      <th>left_leaning_tweets_mean_negative_score</th>\n",
       "      <th>right_leaning_tweets_mean_negative_score</th>\n",
       "    </tr>\n",
       "  </thead>\n",
       "  <tbody>\n",
       "    <tr>\n",
       "      <th>0</th>\n",
       "      <td>2018-05-28</td>\n",
       "      <td>0.095235</td>\n",
       "      <td>0.106000</td>\n",
       "      <td>0.105846</td>\n",
       "      <td>0.104386</td>\n",
       "      <td>0.283400</td>\n",
       "    </tr>\n",
       "    <tr>\n",
       "      <th>1</th>\n",
       "      <td>2018-05-29</td>\n",
       "      <td>0.145892</td>\n",
       "      <td>0.000000</td>\n",
       "      <td>0.087372</td>\n",
       "      <td>0.120215</td>\n",
       "      <td>0.108000</td>\n",
       "    </tr>\n",
       "    <tr>\n",
       "      <th>2</th>\n",
       "      <td>2018-05-30</td>\n",
       "      <td>0.090342</td>\n",
       "      <td>0.256000</td>\n",
       "      <td>0.093321</td>\n",
       "      <td>0.094340</td>\n",
       "      <td>0.234875</td>\n",
       "    </tr>\n",
       "    <tr>\n",
       "      <th>3</th>\n",
       "      <td>2018-05-31</td>\n",
       "      <td>0.077864</td>\n",
       "      <td>0.140500</td>\n",
       "      <td>0.076113</td>\n",
       "      <td>0.081639</td>\n",
       "      <td>0.183000</td>\n",
       "    </tr>\n",
       "    <tr>\n",
       "      <th>4</th>\n",
       "      <td>2018-06-04</td>\n",
       "      <td>0.151143</td>\n",
       "      <td>0.111000</td>\n",
       "      <td>0.086921</td>\n",
       "      <td>0.070036</td>\n",
       "      <td>0.143000</td>\n",
       "    </tr>\n",
       "    <tr>\n",
       "      <th>...</th>\n",
       "      <td>...</td>\n",
       "      <td>...</td>\n",
       "      <td>...</td>\n",
       "      <td>...</td>\n",
       "      <td>...</td>\n",
       "      <td>...</td>\n",
       "    </tr>\n",
       "    <tr>\n",
       "      <th>122</th>\n",
       "      <td>2018-10-04</td>\n",
       "      <td>0.104282</td>\n",
       "      <td>0.119310</td>\n",
       "      <td>0.086613</td>\n",
       "      <td>0.121620</td>\n",
       "      <td>0.162576</td>\n",
       "    </tr>\n",
       "    <tr>\n",
       "      <th>123</th>\n",
       "      <td>2018-10-02</td>\n",
       "      <td>0.119052</td>\n",
       "      <td>0.119730</td>\n",
       "      <td>0.118570</td>\n",
       "      <td>0.105718</td>\n",
       "      <td>0.042071</td>\n",
       "    </tr>\n",
       "    <tr>\n",
       "      <th>124</th>\n",
       "      <td>2018-09-30</td>\n",
       "      <td>0.118065</td>\n",
       "      <td>0.157889</td>\n",
       "      <td>0.143173</td>\n",
       "      <td>0.117527</td>\n",
       "      <td>0.150261</td>\n",
       "    </tr>\n",
       "    <tr>\n",
       "      <th>125</th>\n",
       "      <td>2018-09-29</td>\n",
       "      <td>0.103187</td>\n",
       "      <td>0.058719</td>\n",
       "      <td>0.146847</td>\n",
       "      <td>0.117168</td>\n",
       "      <td>0.141875</td>\n",
       "    </tr>\n",
       "    <tr>\n",
       "      <th>126</th>\n",
       "      <td>2018-10-05</td>\n",
       "      <td>0.115462</td>\n",
       "      <td>0.118012</td>\n",
       "      <td>0.107389</td>\n",
       "      <td>0.087354</td>\n",
       "      <td>0.195000</td>\n",
       "    </tr>\n",
       "  </tbody>\n",
       "</table>\n",
       "<p>127 rows × 6 columns</p>\n",
       "</div>"
      ],
      "text/plain": [
       "          Date  left_tweets_mean_negative_score  \\\n",
       "0   2018-05-28                         0.095235   \n",
       "1   2018-05-29                         0.145892   \n",
       "2   2018-05-30                         0.090342   \n",
       "3   2018-05-31                         0.077864   \n",
       "4   2018-06-04                         0.151143   \n",
       "..         ...                              ...   \n",
       "122 2018-10-04                         0.104282   \n",
       "123 2018-10-02                         0.119052   \n",
       "124 2018-09-30                         0.118065   \n",
       "125 2018-09-29                         0.103187   \n",
       "126 2018-10-05                         0.115462   \n",
       "\n",
       "     right_tweets_mean_negative_score  centre_tweets_mean_negative_score  \\\n",
       "0                            0.106000                           0.105846   \n",
       "1                            0.000000                           0.087372   \n",
       "2                            0.256000                           0.093321   \n",
       "3                            0.140500                           0.076113   \n",
       "4                            0.111000                           0.086921   \n",
       "..                                ...                                ...   \n",
       "122                          0.119310                           0.086613   \n",
       "123                          0.119730                           0.118570   \n",
       "124                          0.157889                           0.143173   \n",
       "125                          0.058719                           0.146847   \n",
       "126                          0.118012                           0.107389   \n",
       "\n",
       "     left_leaning_tweets_mean_negative_score  \\\n",
       "0                                   0.104386   \n",
       "1                                   0.120215   \n",
       "2                                   0.094340   \n",
       "3                                   0.081639   \n",
       "4                                   0.070036   \n",
       "..                                       ...   \n",
       "122                                 0.121620   \n",
       "123                                 0.105718   \n",
       "124                                 0.117527   \n",
       "125                                 0.117168   \n",
       "126                                 0.087354   \n",
       "\n",
       "     right_leaning_tweets_mean_negative_score  \n",
       "0                                    0.283400  \n",
       "1                                    0.108000  \n",
       "2                                    0.234875  \n",
       "3                                    0.183000  \n",
       "4                                    0.143000  \n",
       "..                                        ...  \n",
       "122                                  0.162576  \n",
       "123                                  0.042071  \n",
       "124                                  0.150261  \n",
       "125                                  0.141875  \n",
       "126                                  0.195000  \n",
       "\n",
       "[127 rows x 6 columns]"
      ]
     },
     "execution_count": 81,
     "metadata": {},
     "output_type": "execute_result"
    }
   ],
   "source": [
    "merged_df"
   ]
  },
  {
   "cell_type": "code",
   "execution_count": 82,
   "id": "2aaee7e4-25cc-43ae-a8a5-84bcedcc54ca",
   "metadata": {},
   "outputs": [
    {
     "data": {
      "image/png": "[encoded data removed]",
      "text/plain": [
       "<Figure size 720x432 with 1 Axes>"
      ]
     },
     "metadata": {
      "needs_background": "light"
     },
     "output_type": "display_data"
    }
   ],
   "source": [
    "import pandas as pd\n",
    "import matplotlib.pyplot as plt\n",
    "\n",
    "\n",
    "merged_df['Date'] = pd.to_datetime(merged_df['Date'])\n",
    "\n",
    "# Set the timestamp column as the index\n",
    "merged_df.set_index('Date', inplace=True)\n",
    "\n",
    "# Group by day\n",
    "merged_df_grouped = merged_df.groupby(pd.Grouper(freq='D'))\n",
    "\n",
    "# Plotting area chart for each score\n",
    "plt.figure(figsize=(10, 6))\n",
    "for score in ['left_tweets_mean_negative_score', 'right_tweets_mean_negative_score', 'centre_tweets_mean_negative_score', 'left_leaning_tweets_mean_negative_score', 'right_leaning_tweets_mean_negative_score']:\n",
    "    plt.stackplot(merged_df_grouped.groups.keys(), merged_df_grouped[score].sum(), alpha=1)\n",
    "\n",
    "\n",
    "plt.legend(['left_tweets_mean_negative_score', 'right_tweets_mean_negative_score', 'centre_tweets_mean_negative_score', 'left_leaning_tweets_mean_negative_score', 'right_leaning_tweets_mean_negative_score'],loc='upper left', bbox_to_anchor=(1.05, 1))\n",
    "plt.xlabel('Days')\n",
    "plt.ylabel('Average negative Sentiment Score per day')\n",
    "plt.title('Area Chart of Average negative Sentiment Scores for Each Score for twitter data')\n",
    "#plt.grid(True)\n",
    "plt.show()\n"
   ]
  },
  {
   "cell_type": "code",
   "execution_count": 83,
   "id": "20fe8e19-9f81-4461-9fa3-362f1862abb7",
   "metadata": {},
   "outputs": [
    {
     "data": {
      "text/plain": [
       "\"\\nplt.figure(figsize=(10, 6))  \\nplt.stackplot(grouped_df.index, grouped_df.values.T, labels=grouped_df.columns)\\n\\n\\nplt.xlabel('Months')\\nplt.ylabel('Average Negative Sentiment Scores per month')\\nplt.title('Monthly Negative Sentiment Scores for political leaned tweets')\\n\\n\\nplt.legend(bbox_to_anchor=(1.05, 1), loc='upper left')\\n\\n\\nplt.show()\\n\""
      ]
     },
     "execution_count": 83,
     "metadata": {},
     "output_type": "execute_result"
    }
   ],
   "source": [
    "\"\"\"\n",
    "plt.figure(figsize=(10, 6))  \n",
    "plt.stackplot(grouped_df.index, grouped_df.values.T, labels=grouped_df.columns)\n",
    "\n",
    "\n",
    "plt.xlabel('Months')\n",
    "plt.ylabel('Average Negative Sentiment Scores per month')\n",
    "plt.title('Monthly Negative Sentiment Scores for political leaned tweets')\n",
    "\n",
    "\n",
    "plt.legend(bbox_to_anchor=(1.05, 1), loc='upper left')\n",
    "\n",
    "\n",
    "plt.show()\n",
    "\"\"\""
   ]
  },
  {
   "cell_type": "code",
   "execution_count": 84,
   "id": "8c1d7076-2e47-4e71-a360-f9e16bb69aee",
   "metadata": {},
   "outputs": [],
   "source": [
    "#positive stacked plot"
   ]
  },
  {
   "cell_type": "code",
   "execution_count": 85,
   "id": "5c9c086b-c4d0-43cf-9acd-57bfeb42ec1f",
   "metadata": {},
   "outputs": [],
   "source": [
    "left_positives={}\n",
    "right_positives={}\n",
    "centre_positives={}\n",
    "left_lean_positives={}\n",
    "right_lean_positives={}"
   ]
  },
  {
   "cell_type": "code",
   "execution_count": 86,
   "id": "4d5ffc41-2f86-4e9f-ae2e-bb326356f638",
   "metadata": {},
   "outputs": [],
   "source": [
    "for t in left_cache:\n",
    "    denominator = 0\n",
    "    numerator =0\n",
    "    for x in left_cache[t]:\n",
    "        numerator+=x['pos']\n",
    "        denominator+=1\n",
    "    average = numerator/denominator\n",
    "    left_positives[t] = average\n",
    "    \n",
    "    "
   ]
  },
  {
   "cell_type": "code",
   "execution_count": 87,
   "id": "4c2ca7d0-c156-4863-8daf-822b23ee56b6",
   "metadata": {},
   "outputs": [],
   "source": [
    "for t in right_cache:\n",
    "    denominator = 0\n",
    "    numerator =0\n",
    "    for x in right_cache[t]:\n",
    "        numerator+=x['pos']\n",
    "        denominator+=1\n",
    "    average = numerator/denominator\n",
    "    right_positives[t] = average\n",
    "    "
   ]
  },
  {
   "cell_type": "code",
   "execution_count": 88,
   "id": "0f7c0d9d-48bb-47a9-b94f-c9d2d2c3cd95",
   "metadata": {},
   "outputs": [],
   "source": [
    "for t in centre_cache:\n",
    "    denominator = 0\n",
    "    numerator =0\n",
    "    for x in centre_cache[t]:\n",
    "        numerator+=x['pos']\n",
    "        denominator+=1\n",
    "    average = numerator/denominator\n",
    "    centre_positives[t] = average\n",
    "    "
   ]
  },
  {
   "cell_type": "code",
   "execution_count": 89,
   "id": "43195dd6-aff3-4117-ad82-423997202f6d",
   "metadata": {},
   "outputs": [],
   "source": [
    "for t in left_lean_cache:\n",
    "    denominator = 0\n",
    "    numerator =0\n",
    "    for x in left_lean_cache[t]:\n",
    "        numerator+=x['pos']\n",
    "        denominator+=1\n",
    "    average = numerator/denominator\n",
    "    left_lean_positives[t] = average\n",
    "    "
   ]
  },
  {
   "cell_type": "code",
   "execution_count": 90,
   "id": "9240d441-1e12-46c3-a4ce-3bc94e96ed08",
   "metadata": {},
   "outputs": [],
   "source": [
    "for t in right_lean_cache:\n",
    "    denominator = 0\n",
    "    numerator =0\n",
    "    for x in right_lean_cache[t]:\n",
    "        numerator+=x['pos']\n",
    "        denominator+=1\n",
    "    average = numerator/denominator\n",
    "    right_lean_positives[t] = average\n",
    "    "
   ]
  },
  {
   "cell_type": "code",
   "execution_count": 91,
   "id": "f5573774-da38-4449-b8e7-b90315c2ad2e",
   "metadata": {},
   "outputs": [],
   "source": [
    "left_positives1 = {'Date':left_positives.keys(), 'positive_scores':left_positives.values()}\n",
    "right_positives1 = {'Date':right_positives.keys(), 'positive_scores':right_positives.values()}\n",
    "centre_positives1 = {'Date':centre_positives.keys(), 'positive_scores':centre_positives.values()}\n",
    "left_lean_positives1 = {'Date':left_lean_positives.keys(), 'positive_scores':left_lean_positives.values()}\n",
    "right_lean_positives1 = {'Date':right_lean_positives.keys(), 'positive_scores':right_lean_positives.values()}\n"
   ]
  },
  {
   "cell_type": "code",
   "execution_count": 92,
   "id": "59e74e24-3222-4c30-bd7d-bb9313f5f74b",
   "metadata": {},
   "outputs": [],
   "source": [
    "left_positives_df = pd.DataFrame.from_dict(left_positives1)\n",
    "right_positives_df = pd.DataFrame.from_dict(right_positives1)\n",
    "centre_positives_df = pd.DataFrame.from_dict(centre_positives1)\n",
    "left_lean_positives_df = pd.DataFrame.from_dict(left_lean_positives1)\n",
    "right_lean_positives_df = pd.DataFrame.from_dict(right_lean_positives1)"
   ]
  },
  {
   "cell_type": "code",
   "execution_count": 93,
   "id": "866b65d0-e7d3-4371-b12f-d877ba815f1f",
   "metadata": {},
   "outputs": [
    {
     "name": "stderr",
     "output_type": "stream",
     "text": [
      "/home/srinath/anaconda3/lib/python3.9/site-packages/pandas/core/ops/array_ops.py:73: FutureWarning: Comparison of Timestamp with datetime.date is deprecated in order to match the standard library behavior. In a future version these will be considered non-comparable. Use 'ts == pd.Timestamp(date)' or 'ts.date() == date' instead.\n",
      "  result = libops.scalar_compare(x.ravel(), y, op)\n"
     ]
    }
   ],
   "source": [
    "left_positives_filtered_df= left_positives_df[(left_positives_df['Date']>=pd.Timestamp(2018,5,1)) & (left_positives_df['Date']<=pd.Timestamp(2018,12,1))]\n",
    "right_positives_filtered_df= right_positives_df[(right_positives_df['Date']>=pd.Timestamp(2018,5,1)) & (right_positives_df['Date']<=pd.Timestamp(2018,12,1))]\n",
    "centre_positives_filtered_df= centre_positives_df[(centre_positives_df['Date']>=pd.Timestamp(2018,5,1)) & (centre_positives_df['Date']<=pd.Timestamp(2018,12,1))]\n",
    "left_lean_positives_filtered_df= left_lean_positives_df[(left_lean_positives_df['Date']>=pd.Timestamp(2018,5,1)) & (left_lean_positives_df['Date']<=pd.Timestamp(2018,12,1))]\n",
    "right_lean_positives_filtered_df= right_lean_positives_df[(right_lean_positives_df['Date']>=pd.Timestamp(2018,5,1)) & (right_lean_positives_df['Date']<=pd.Timestamp(2018,12,1))]\n",
    "\n"
   ]
  },
  {
   "cell_type": "code",
   "execution_count": 94,
   "id": "0762dd5a-070d-4fe8-959e-54564d2088d3",
   "metadata": {},
   "outputs": [
    {
     "name": "stderr",
     "output_type": "stream",
     "text": [
      "/tmp/ipykernel_873365/1899825588.py:3: FutureWarning: Passing 'suffixes' which cause duplicate columns {'positive_scores_x'} in the result is deprecated and will raise a MergeError in a future version.\n",
      "  merged_df = pd.merge(merged_df, left_lean_positives_filtered_df, on='Date', how='inner')\n"
     ]
    }
   ],
   "source": [
    "merged_df = pd.merge(left_positives_filtered_df, right_positives_filtered_df, on='Date', how='inner')\n",
    "merged_df = pd.merge(merged_df, centre_positives_filtered_df, on='Date', how='inner')\n",
    "merged_df = pd.merge(merged_df, left_lean_positives_filtered_df, on='Date', how='inner')\n",
    "merged_df = pd.merge(merged_df, right_lean_positives_filtered_df, on='Date', how='inner')\n",
    "\n",
    "\n",
    "merged_df.columns = ['Date', 'left_tweets_mean_positive_score', 'right_tweets_mean_positive_score', 'centre_tweets_mean_positive_score', 'left_leaning_tweets_mean_positive_score', 'right_leaning_tweets_mean_positive_score']\n",
    "\n",
    "\n",
    "merged_df['Date'] = pd.to_datetime(merged_df['Date'])"
   ]
  },
  {
   "cell_type": "code",
   "execution_count": 95,
   "id": "e2c8806b-0a41-4709-a7a3-f697460c340b",
   "metadata": {},
   "outputs": [
    {
     "data": {
      "text/html": [
       "<div>\n",
       "<style scoped>\n",
       "    .dataframe tbody tr th:only-of-type {\n",
       "        vertical-align: middle;\n",
       "    }\n",
       "\n",
       "    .dataframe tbody tr th {\n",
       "        vertical-align: top;\n",
       "    }\n",
       "\n",
       "    .dataframe thead th {\n",
       "        text-align: right;\n",
       "    }\n",
       "</style>\n",
       "<table border=\"1\" class=\"dataframe\">\n",
       "  <thead>\n",
       "    <tr style=\"text-align: right;\">\n",
       "      <th></th>\n",
       "      <th>Date</th>\n",
       "      <th>left_tweets_mean_positive_score</th>\n",
       "      <th>right_tweets_mean_positive_score</th>\n",
       "      <th>centre_tweets_mean_positive_score</th>\n",
       "      <th>left_leaning_tweets_mean_positive_score</th>\n",
       "      <th>right_leaning_tweets_mean_positive_score</th>\n",
       "    </tr>\n",
       "  </thead>\n",
       "  <tbody>\n",
       "    <tr>\n",
       "      <th>0</th>\n",
       "      <td>2018-05-28</td>\n",
       "      <td>0.103824</td>\n",
       "      <td>0.190000</td>\n",
       "      <td>0.128462</td>\n",
       "      <td>0.079088</td>\n",
       "      <td>0.080800</td>\n",
       "    </tr>\n",
       "    <tr>\n",
       "      <th>1</th>\n",
       "      <td>2018-05-29</td>\n",
       "      <td>0.096324</td>\n",
       "      <td>0.123000</td>\n",
       "      <td>0.080814</td>\n",
       "      <td>0.057989</td>\n",
       "      <td>0.225500</td>\n",
       "    </tr>\n",
       "    <tr>\n",
       "      <th>2</th>\n",
       "      <td>2018-05-30</td>\n",
       "      <td>0.068105</td>\n",
       "      <td>0.238000</td>\n",
       "      <td>0.080714</td>\n",
       "      <td>0.077340</td>\n",
       "      <td>0.073250</td>\n",
       "    </tr>\n",
       "    <tr>\n",
       "      <th>3</th>\n",
       "      <td>2018-05-31</td>\n",
       "      <td>0.076636</td>\n",
       "      <td>0.061000</td>\n",
       "      <td>0.111452</td>\n",
       "      <td>0.080361</td>\n",
       "      <td>0.000000</td>\n",
       "    </tr>\n",
       "    <tr>\n",
       "      <th>4</th>\n",
       "      <td>2018-06-04</td>\n",
       "      <td>0.101886</td>\n",
       "      <td>0.059000</td>\n",
       "      <td>0.059556</td>\n",
       "      <td>0.113940</td>\n",
       "      <td>0.095500</td>\n",
       "    </tr>\n",
       "    <tr>\n",
       "      <th>...</th>\n",
       "      <td>...</td>\n",
       "      <td>...</td>\n",
       "      <td>...</td>\n",
       "      <td>...</td>\n",
       "      <td>...</td>\n",
       "      <td>...</td>\n",
       "    </tr>\n",
       "    <tr>\n",
       "      <th>122</th>\n",
       "      <td>2018-10-04</td>\n",
       "      <td>0.069493</td>\n",
       "      <td>0.083577</td>\n",
       "      <td>0.068146</td>\n",
       "      <td>0.068879</td>\n",
       "      <td>0.066242</td>\n",
       "    </tr>\n",
       "    <tr>\n",
       "      <th>123</th>\n",
       "      <td>2018-10-02</td>\n",
       "      <td>0.056896</td>\n",
       "      <td>0.053678</td>\n",
       "      <td>0.060879</td>\n",
       "      <td>0.079570</td>\n",
       "      <td>0.119857</td>\n",
       "    </tr>\n",
       "    <tr>\n",
       "      <th>124</th>\n",
       "      <td>2018-09-30</td>\n",
       "      <td>0.056000</td>\n",
       "      <td>0.080356</td>\n",
       "      <td>0.056643</td>\n",
       "      <td>0.072138</td>\n",
       "      <td>0.061870</td>\n",
       "    </tr>\n",
       "    <tr>\n",
       "      <th>125</th>\n",
       "      <td>2018-09-29</td>\n",
       "      <td>0.064336</td>\n",
       "      <td>0.193969</td>\n",
       "      <td>0.048458</td>\n",
       "      <td>0.084068</td>\n",
       "      <td>0.033125</td>\n",
       "    </tr>\n",
       "    <tr>\n",
       "      <th>126</th>\n",
       "      <td>2018-10-05</td>\n",
       "      <td>0.079821</td>\n",
       "      <td>0.067576</td>\n",
       "      <td>0.057028</td>\n",
       "      <td>0.108025</td>\n",
       "      <td>0.034154</td>\n",
       "    </tr>\n",
       "  </tbody>\n",
       "</table>\n",
       "<p>127 rows × 6 columns</p>\n",
       "</div>"
      ],
      "text/plain": [
       "          Date  left_tweets_mean_positive_score  \\\n",
       "0   2018-05-28                         0.103824   \n",
       "1   2018-05-29                         0.096324   \n",
       "2   2018-05-30                         0.068105   \n",
       "3   2018-05-31                         0.076636   \n",
       "4   2018-06-04                         0.101886   \n",
       "..         ...                              ...   \n",
       "122 2018-10-04                         0.069493   \n",
       "123 2018-10-02                         0.056896   \n",
       "124 2018-09-30                         0.056000   \n",
       "125 2018-09-29                         0.064336   \n",
       "126 2018-10-05                         0.079821   \n",
       "\n",
       "     right_tweets_mean_positive_score  centre_tweets_mean_positive_score  \\\n",
       "0                            0.190000                           0.128462   \n",
       "1                            0.123000                           0.080814   \n",
       "2                            0.238000                           0.080714   \n",
       "3                            0.061000                           0.111452   \n",
       "4                            0.059000                           0.059556   \n",
       "..                                ...                                ...   \n",
       "122                          0.083577                           0.068146   \n",
       "123                          0.053678                           0.060879   \n",
       "124                          0.080356                           0.056643   \n",
       "125                          0.193969                           0.048458   \n",
       "126                          0.067576                           0.057028   \n",
       "\n",
       "     left_leaning_tweets_mean_positive_score  \\\n",
       "0                                   0.079088   \n",
       "1                                   0.057989   \n",
       "2                                   0.077340   \n",
       "3                                   0.080361   \n",
       "4                                   0.113940   \n",
       "..                                       ...   \n",
       "122                                 0.068879   \n",
       "123                                 0.079570   \n",
       "124                                 0.072138   \n",
       "125                                 0.084068   \n",
       "126                                 0.108025   \n",
       "\n",
       "     right_leaning_tweets_mean_positive_score  \n",
       "0                                    0.080800  \n",
       "1                                    0.225500  \n",
       "2                                    0.073250  \n",
       "3                                    0.000000  \n",
       "4                                    0.095500  \n",
       "..                                        ...  \n",
       "122                                  0.066242  \n",
       "123                                  0.119857  \n",
       "124                                  0.061870  \n",
       "125                                  0.033125  \n",
       "126                                  0.034154  \n",
       "\n",
       "[127 rows x 6 columns]"
      ]
     },
     "execution_count": 95,
     "metadata": {},
     "output_type": "execute_result"
    }
   ],
   "source": [
    "merged_df"
   ]
  },
  {
   "cell_type": "code",
   "execution_count": 96,
   "id": "cf7675c8-64c9-432f-af59-9c27a457e149",
   "metadata": {},
   "outputs": [
    {
     "data": {
      "image/png": "[encoded data removed]",
      "text/plain": [
       "<Figure size 720x432 with 1 Axes>"
      ]
     },
     "metadata": {
      "needs_background": "light"
     },
     "output_type": "display_data"
    }
   ],
   "source": [
    "import pandas as pd\n",
    "import matplotlib.pyplot as plt\n",
    "\n",
    "\n",
    "merged_df['Date'] = pd.to_datetime(merged_df['Date'])\n",
    "\n",
    "# Set the timestamp column as the index\n",
    "merged_df.set_index('Date', inplace=True)\n",
    "\n",
    "# Group by day\n",
    "merged_df_grouped = merged_df.groupby(pd.Grouper(freq='D'))\n",
    "\n",
    "# Plotting area chart for each score\n",
    "plt.figure(figsize=(10, 6))\n",
    "for score in ['left_tweets_mean_positive_score', 'right_tweets_mean_positive_score', 'centre_tweets_mean_positive_score', 'left_leaning_tweets_mean_positive_score', 'right_leaning_tweets_mean_positive_score']:\n",
    "    plt.stackplot(merged_df_grouped.groups.keys(), merged_df_grouped[score].sum(), alpha=1)\n",
    "\n",
    "\n",
    "plt.legend(['left_tweets_mean_positive_score', 'right_tweets_mean_positive_score', 'centre_tweets_mean_positive_score', 'left_leaning_tweets_mean_positive_score', 'right_leaning_tweets_mean_positive_score'],loc='upper left', bbox_to_anchor=(1.05, 1))\n",
    "plt.xlabel('Days')\n",
    "plt.ylabel('Average positive Sentiment Score per day')\n",
    "plt.title('Area Chart of Average positive Sentiment Scores for Each day for twitter data')\n",
    "#plt.grid(True)\n",
    "plt.show()\n"
   ]
  },
  {
   "cell_type": "code",
   "execution_count": 97,
   "id": "45242bbd-7b4e-4f7d-8bf9-f09d561c05ba",
   "metadata": {},
   "outputs": [
    {
     "data": {
      "text/plain": [
       "\"\\nmerged_df['Date'] = pd.to_datetime(merged_df['Date'])\\n\\nmonthly_data = merged_df.groupby(pd.Grouper(key='Date', freq='M')).mean()\\n\\n# Plot the area chart\\nplt.figure(figsize=(10, 6))  # Adjust the figure size as needed\\nplt.stackplot(monthly_data.index, monthly_data.values.T, labels=monthly_data.columns)\\n\\n# Set labels and title\\nplt.xlabel('Months')\\nplt.ylabel('Average positive Sentiment Scores per month')\\nplt.title('Monthly positive Sentiment Scores for political leaned tweets')\\n\\n# Add legend\\nplt.legend(bbox_to_anchor=(1.05, 1), loc='upper left')\\n\\n# Show the chart\\nplt.show()\\n\""
      ]
     },
     "execution_count": 97,
     "metadata": {},
     "output_type": "execute_result"
    }
   ],
   "source": [
    "\"\"\"\n",
    "merged_df['Date'] = pd.to_datetime(merged_df['Date'])\n",
    "\n",
    "monthly_data = merged_df.groupby(pd.Grouper(key='Date', freq='M')).mean()\n",
    "\n",
    "# Plot the area chart\n",
    "plt.figure(figsize=(10, 6))  # Adjust the figure size as needed\n",
    "plt.stackplot(monthly_data.index, monthly_data.values.T, labels=monthly_data.columns)\n",
    "\n",
    "# Set labels and title\n",
    "plt.xlabel('Months')\n",
    "plt.ylabel('Average positive Sentiment Scores per month')\n",
    "plt.title('Monthly positive Sentiment Scores for political leaned tweets')\n",
    "\n",
    "# Add legend\n",
    "plt.legend(bbox_to_anchor=(1.05, 1), loc='upper left')\n",
    "\n",
    "# Show the chart\n",
    "plt.show()\n",
    "\"\"\""
   ]
  },
  {
   "cell_type": "code",
   "execution_count": 98,
   "id": "dfa18e7b-0ee9-4014-8611-b2f3fb867455",
   "metadata": {},
   "outputs": [],
   "source": [
    "#neutral score stacked plots"
   ]
  },
  {
   "cell_type": "code",
   "execution_count": 99,
   "id": "8537a994-fa61-40cc-b27d-31b3fa31f4f4",
   "metadata": {},
   "outputs": [],
   "source": [
    "left_neutrals={}\n",
    "right_neutrals={}\n",
    "centre_neutrals={}\n",
    "left_lean_neutrals={}\n",
    "right_lean_neutrals={}"
   ]
  },
  {
   "cell_type": "code",
   "execution_count": 100,
   "id": "60632c61-9c1d-4ee0-92cd-1ced7351045c",
   "metadata": {},
   "outputs": [],
   "source": [
    "for t in left_cache:\n",
    "    denominator = 0\n",
    "    numerator =0\n",
    "    for x in left_cache[t]:\n",
    "        numerator+=x['neu']\n",
    "        denominator+=1\n",
    "    average = numerator/denominator\n",
    "    left_neutrals[t] = average\n",
    "    \n",
    "    "
   ]
  },
  {
   "cell_type": "code",
   "execution_count": 101,
   "id": "65b81dbc-bcda-43e1-abcd-f38959ae0f96",
   "metadata": {},
   "outputs": [],
   "source": [
    "for t in right_cache:\n",
    "    denominator = 0\n",
    "    numerator =0\n",
    "    for x in right_cache[t]:\n",
    "        numerator+=x['neu']\n",
    "        denominator+=1\n",
    "    average = numerator/denominator\n",
    "    right_neutrals[t] = average\n",
    "    "
   ]
  },
  {
   "cell_type": "code",
   "execution_count": 102,
   "id": "2a158146-a0e5-4962-b422-1e4872e7e4fb",
   "metadata": {},
   "outputs": [],
   "source": [
    "for t in centre_cache:\n",
    "    denominator = 0\n",
    "    numerator =0\n",
    "    for x in centre_cache[t]:\n",
    "        numerator+=x['neu']\n",
    "        denominator+=1\n",
    "    average = numerator/denominator\n",
    "    centre_neutrals[t] = average\n",
    "    "
   ]
  },
  {
   "cell_type": "code",
   "execution_count": 103,
   "id": "baf2fcfc-adf0-4a47-af46-dc424a8262ad",
   "metadata": {},
   "outputs": [],
   "source": [
    "for t in left_lean_cache:\n",
    "    denominator = 0\n",
    "    numerator =0\n",
    "    for x in left_lean_cache[t]:\n",
    "        numerator+=x['neu']\n",
    "        denominator+=1\n",
    "    average = numerator/denominator\n",
    "    left_lean_neutrals[t] = average\n",
    "    "
   ]
  },
  {
   "cell_type": "code",
   "execution_count": 104,
   "id": "443648f9-dec3-4ae6-8a92-e73072fbb05e",
   "metadata": {},
   "outputs": [],
   "source": [
    "for t in right_lean_cache:\n",
    "    denominator = 0\n",
    "    numerator =0\n",
    "    for x in right_lean_cache[t]:\n",
    "        numerator+=x['neu']\n",
    "        denominator+=1\n",
    "    average = numerator/denominator\n",
    "    right_lean_neutrals[t] = average\n",
    "    "
   ]
  },
  {
   "cell_type": "code",
   "execution_count": 105,
   "id": "4c40165e-0eb3-4737-afcc-20371600b981",
   "metadata": {},
   "outputs": [],
   "source": [
    "left_neutrals1 = {'Date':left_neutrals.keys(), 'neutral_scores':left_neutrals.values()}\n",
    "right_neutrals1 = {'Date':right_neutrals.keys(), 'neutral_scores':right_neutrals.values()}\n",
    "centre_neutrals1 = {'Date':centre_neutrals.keys(), 'neutral_scores':centre_neutrals.values()}\n",
    "left_lean_neutrals1 = {'Date':left_lean_neutrals.keys(), 'neutral_scores':left_lean_neutrals.values()}\n",
    "right_lean_neutrals1 = {'Date':right_lean_neutrals.keys(), 'neutral_scores':right_lean_neutrals.values()}\n"
   ]
  },
  {
   "cell_type": "code",
   "execution_count": 106,
   "id": "75a66825-9282-41c6-aea2-27d4c97c8925",
   "metadata": {},
   "outputs": [],
   "source": [
    "left_neutrals_df = pd.DataFrame.from_dict(left_neutrals1)\n",
    "right_neutrals_df = pd.DataFrame.from_dict(right_neutrals1)\n",
    "centre_neutrals_df = pd.DataFrame.from_dict(centre_neutrals1)\n",
    "left_lean_neutrals_df = pd.DataFrame.from_dict(left_lean_neutrals1)\n",
    "right_lean_neutrals_df = pd.DataFrame.from_dict(right_lean_neutrals1)"
   ]
  },
  {
   "cell_type": "code",
   "execution_count": 107,
   "id": "89fbf7f3-0702-4412-909f-50d69f95a2a4",
   "metadata": {},
   "outputs": [
    {
     "name": "stderr",
     "output_type": "stream",
     "text": [
      "/home/srinath/anaconda3/lib/python3.9/site-packages/pandas/core/ops/array_ops.py:73: FutureWarning: Comparison of Timestamp with datetime.date is deprecated in order to match the standard library behavior. In a future version these will be considered non-comparable. Use 'ts == pd.Timestamp(date)' or 'ts.date() == date' instead.\n",
      "  result = libops.scalar_compare(x.ravel(), y, op)\n"
     ]
    }
   ],
   "source": [
    "left_neutrals_filtered_df= left_neutrals_df[(left_neutrals_df['Date']>=pd.Timestamp(2018,5,1)) & (left_neutrals_df['Date']<=pd.Timestamp(2018,12,1))]\n",
    "right_neutrals_filtered_df= right_neutrals_df[(right_neutrals_df['Date']>=pd.Timestamp(2018,5,1)) & (right_neutrals_df['Date']<=pd.Timestamp(2018,12,1))]\n",
    "centre_neutrals_filtered_df= centre_neutrals_df[(centre_neutrals_df['Date']>=pd.Timestamp(2018,5,1)) & (centre_neutrals_df['Date']<=pd.Timestamp(2018,12,1))]\n",
    "left_lean_neutrals_filtered_df= left_lean_neutrals_df[(left_lean_neutrals_df['Date']>=pd.Timestamp(2018,5,1)) & (left_lean_neutrals_df['Date']<=pd.Timestamp(2018,12,1))]\n",
    "right_lean_neutrals_filtered_df= right_lean_neutrals_df[(right_lean_neutrals_df['Date']>=pd.Timestamp(2018,5,1)) & (right_lean_neutrals_df['Date']<=pd.Timestamp(2018,12,1))]\n",
    "\n"
   ]
  },
  {
   "cell_type": "code",
   "execution_count": 108,
   "id": "fc32d0c4-d1f7-46ac-b352-5a7115184089",
   "metadata": {},
   "outputs": [
    {
     "name": "stderr",
     "output_type": "stream",
     "text": [
      "/tmp/ipykernel_873365/4213257282.py:3: FutureWarning: Passing 'suffixes' which cause duplicate columns {'neutral_scores_x'} in the result is deprecated and will raise a MergeError in a future version.\n",
      "  merged_df = pd.merge(merged_df, left_lean_neutrals_filtered_df, on='Date', how='inner')\n"
     ]
    }
   ],
   "source": [
    "merged_df = pd.merge(left_neutrals_filtered_df, right_neutrals_filtered_df, on='Date', how='inner')\n",
    "merged_df = pd.merge(merged_df, centre_neutrals_filtered_df, on='Date', how='inner')\n",
    "merged_df = pd.merge(merged_df, left_lean_neutrals_filtered_df, on='Date', how='inner')\n",
    "merged_df = pd.merge(merged_df, right_lean_neutrals_filtered_df, on='Date', how='inner')\n",
    "\n",
    "\n",
    "merged_df.columns = ['Date', 'left_tweets_mean_neutral_score', 'right_tweets_mean_neutral_score', 'centre_tweets_mean_neutral_score', 'left_leaning_tweets_mean_neutral_score', 'right_leaning_tweets_mean_neutral_score']\n",
    "\n",
    "\n",
    "merged_df['Date'] = pd.to_datetime(merged_df['Date'])"
   ]
  },
  {
   "cell_type": "code",
   "execution_count": 109,
   "id": "d23e9d5e-9a02-4f52-8ab7-7a513cecf233",
   "metadata": {},
   "outputs": [
    {
     "data": {
      "text/html": [
       "<div>\n",
       "<style scoped>\n",
       "    .dataframe tbody tr th:only-of-type {\n",
       "        vertical-align: middle;\n",
       "    }\n",
       "\n",
       "    .dataframe tbody tr th {\n",
       "        vertical-align: top;\n",
       "    }\n",
       "\n",
       "    .dataframe thead th {\n",
       "        text-align: right;\n",
       "    }\n",
       "</style>\n",
       "<table border=\"1\" class=\"dataframe\">\n",
       "  <thead>\n",
       "    <tr style=\"text-align: right;\">\n",
       "      <th></th>\n",
       "      <th>Date</th>\n",
       "      <th>left_tweets_mean_neutral_score</th>\n",
       "      <th>right_tweets_mean_neutral_score</th>\n",
       "      <th>centre_tweets_mean_neutral_score</th>\n",
       "      <th>left_leaning_tweets_mean_neutral_score</th>\n",
       "      <th>right_leaning_tweets_mean_neutral_score</th>\n",
       "    </tr>\n",
       "  </thead>\n",
       "  <tbody>\n",
       "    <tr>\n",
       "      <th>0</th>\n",
       "      <td>2018-05-28</td>\n",
       "      <td>0.800941</td>\n",
       "      <td>0.704000</td>\n",
       "      <td>0.765615</td>\n",
       "      <td>0.816526</td>\n",
       "      <td>0.635800</td>\n",
       "    </tr>\n",
       "    <tr>\n",
       "      <th>1</th>\n",
       "      <td>2018-05-29</td>\n",
       "      <td>0.757757</td>\n",
       "      <td>0.877000</td>\n",
       "      <td>0.831791</td>\n",
       "      <td>0.821817</td>\n",
       "      <td>0.666500</td>\n",
       "    </tr>\n",
       "    <tr>\n",
       "      <th>2</th>\n",
       "      <td>2018-05-30</td>\n",
       "      <td>0.841553</td>\n",
       "      <td>0.507000</td>\n",
       "      <td>0.825976</td>\n",
       "      <td>0.828320</td>\n",
       "      <td>0.691875</td>\n",
       "    </tr>\n",
       "    <tr>\n",
       "      <th>3</th>\n",
       "      <td>2018-05-31</td>\n",
       "      <td>0.845500</td>\n",
       "      <td>0.798500</td>\n",
       "      <td>0.812468</td>\n",
       "      <td>0.837969</td>\n",
       "      <td>0.817000</td>\n",
       "    </tr>\n",
       "    <tr>\n",
       "      <th>4</th>\n",
       "      <td>2018-06-04</td>\n",
       "      <td>0.747000</td>\n",
       "      <td>0.830000</td>\n",
       "      <td>0.853540</td>\n",
       "      <td>0.816060</td>\n",
       "      <td>0.761500</td>\n",
       "    </tr>\n",
       "    <tr>\n",
       "      <th>...</th>\n",
       "      <td>...</td>\n",
       "      <td>...</td>\n",
       "      <td>...</td>\n",
       "      <td>...</td>\n",
       "      <td>...</td>\n",
       "      <td>...</td>\n",
       "    </tr>\n",
       "    <tr>\n",
       "      <th>122</th>\n",
       "      <td>2018-10-04</td>\n",
       "      <td>0.826239</td>\n",
       "      <td>0.797122</td>\n",
       "      <td>0.845258</td>\n",
       "      <td>0.809512</td>\n",
       "      <td>0.771182</td>\n",
       "    </tr>\n",
       "    <tr>\n",
       "      <th>123</th>\n",
       "      <td>2018-10-02</td>\n",
       "      <td>0.824042</td>\n",
       "      <td>0.826609</td>\n",
       "      <td>0.820543</td>\n",
       "      <td>0.814699</td>\n",
       "      <td>0.838071</td>\n",
       "    </tr>\n",
       "    <tr>\n",
       "      <th>124</th>\n",
       "      <td>2018-09-30</td>\n",
       "      <td>0.825935</td>\n",
       "      <td>0.761756</td>\n",
       "      <td>0.800194</td>\n",
       "      <td>0.810350</td>\n",
       "      <td>0.787826</td>\n",
       "    </tr>\n",
       "    <tr>\n",
       "      <th>125</th>\n",
       "      <td>2018-09-29</td>\n",
       "      <td>0.832469</td>\n",
       "      <td>0.747344</td>\n",
       "      <td>0.804708</td>\n",
       "      <td>0.798773</td>\n",
       "      <td>0.825000</td>\n",
       "    </tr>\n",
       "    <tr>\n",
       "      <th>126</th>\n",
       "      <td>2018-10-05</td>\n",
       "      <td>0.804718</td>\n",
       "      <td>0.814435</td>\n",
       "      <td>0.835556</td>\n",
       "      <td>0.804646</td>\n",
       "      <td>0.770846</td>\n",
       "    </tr>\n",
       "  </tbody>\n",
       "</table>\n",
       "<p>127 rows × 6 columns</p>\n",
       "</div>"
      ],
      "text/plain": [
       "          Date  left_tweets_mean_neutral_score  \\\n",
       "0   2018-05-28                        0.800941   \n",
       "1   2018-05-29                        0.757757   \n",
       "2   2018-05-30                        0.841553   \n",
       "3   2018-05-31                        0.845500   \n",
       "4   2018-06-04                        0.747000   \n",
       "..         ...                             ...   \n",
       "122 2018-10-04                        0.826239   \n",
       "123 2018-10-02                        0.824042   \n",
       "124 2018-09-30                        0.825935   \n",
       "125 2018-09-29                        0.832469   \n",
       "126 2018-10-05                        0.804718   \n",
       "\n",
       "     right_tweets_mean_neutral_score  centre_tweets_mean_neutral_score  \\\n",
       "0                           0.704000                          0.765615   \n",
       "1                           0.877000                          0.831791   \n",
       "2                           0.507000                          0.825976   \n",
       "3                           0.798500                          0.812468   \n",
       "4                           0.830000                          0.853540   \n",
       "..                               ...                               ...   \n",
       "122                         0.797122                          0.845258   \n",
       "123                         0.826609                          0.820543   \n",
       "124                         0.761756                          0.800194   \n",
       "125                         0.747344                          0.804708   \n",
       "126                         0.814435                          0.835556   \n",
       "\n",
       "     left_leaning_tweets_mean_neutral_score  \\\n",
       "0                                  0.816526   \n",
       "1                                  0.821817   \n",
       "2                                  0.828320   \n",
       "3                                  0.837969   \n",
       "4                                  0.816060   \n",
       "..                                      ...   \n",
       "122                                0.809512   \n",
       "123                                0.814699   \n",
       "124                                0.810350   \n",
       "125                                0.798773   \n",
       "126                                0.804646   \n",
       "\n",
       "     right_leaning_tweets_mean_neutral_score  \n",
       "0                                   0.635800  \n",
       "1                                   0.666500  \n",
       "2                                   0.691875  \n",
       "3                                   0.817000  \n",
       "4                                   0.761500  \n",
       "..                                       ...  \n",
       "122                                 0.771182  \n",
       "123                                 0.838071  \n",
       "124                                 0.787826  \n",
       "125                                 0.825000  \n",
       "126                                 0.770846  \n",
       "\n",
       "[127 rows x 6 columns]"
      ]
     },
     "execution_count": 109,
     "metadata": {},
     "output_type": "execute_result"
    }
   ],
   "source": [
    "merged_df"
   ]
  },
  {
   "cell_type": "code",
   "execution_count": 110,
   "id": "24fd204b-c3b6-45f5-b18a-37a8a8f58008",
   "metadata": {},
   "outputs": [
    {
     "data": {
      "image/png": "[encoded data removed]",
      "text/plain": [
       "<Figure size 720x432 with 1 Axes>"
      ]
     },
     "metadata": {
      "needs_background": "light"
     },
     "output_type": "display_data"
    }
   ],
   "source": [
    "import pandas as pd\n",
    "import matplotlib.pyplot as plt\n",
    "\n",
    "\n",
    "merged_df['Date'] = pd.to_datetime(merged_df['Date'])\n",
    "\n",
    "# Set the timestamp column as the index\n",
    "merged_df.set_index('Date', inplace=True)\n",
    "\n",
    "# Group by day\n",
    "merged_df_grouped = merged_df.groupby(pd.Grouper(freq='D'))\n",
    "\n",
    "# Plotting area chart for each score\n",
    "plt.figure(figsize=(10, 6))\n",
    "for score in ['left_tweets_mean_neutral_score', 'right_tweets_mean_neutral_score', 'centre_tweets_mean_neutral_score', 'left_leaning_tweets_mean_neutral_score', 'right_leaning_tweets_mean_neutral_score']:\n",
    "    plt.stackplot(merged_df_grouped.groups.keys(), merged_df_grouped[score].sum(), alpha=1)\n",
    "\n",
    "\n",
    "plt.legend(['left_tweets_mean_neutral_score', 'right_tweets_mean_neutral_score', 'centre_tweets_mean_neutral_score', 'left_leaning_tweets_mean_neutral_score', 'right_leaning_tweets_mean_neutral_score'],loc='upper left', bbox_to_anchor=(1.05, 1))\n",
    "plt.xlabel('Days')\n",
    "plt.ylabel('Average neutral Sentiment Score per day')\n",
    "plt.title('Area Chart of Average of neutral Sentiment Scores for Each day for twitter data')\n",
    "#plt.grid(True)\n",
    "plt.show()\n"
   ]
  },
  {
   "cell_type": "code",
   "execution_count": 111,
   "id": "dbded8c1-8188-45cb-afb5-dfd77c65c570",
   "metadata": {},
   "outputs": [
    {
     "data": {
      "text/plain": [
       "\"\\nmerged_df['Date'] = pd.to_datetime(merged_df['Date'])\\n\\nmonthly_data = merged_df.groupby(pd.Grouper(key='Date', freq='M')).mean()\\n\\n# Plot the area chart\\nplt.figure(figsize=(10, 6))  # Adjust the figure size as needed\\nplt.stackplot(monthly_data.index, monthly_data.values.T, labels=monthly_data.columns)\\n\\n# Set labels and title\\nplt.xlabel('Months')\\nplt.ylabel('Average neutral Sentiment Scores per month')\\nplt.title('Monthly neutral Sentiment Scores for political leaned tweets')\\n\\n# Add legend\\nplt.legend(bbox_to_anchor=(1.05, 1), loc='upper left')\\n\\n# Show the chart\\nplt.show()\\n\""
      ]
     },
     "execution_count": 111,
     "metadata": {},
     "output_type": "execute_result"
    }
   ],
   "source": [
    "\"\"\"\n",
    "merged_df['Date'] = pd.to_datetime(merged_df['Date'])\n",
    "\n",
    "monthly_data = merged_df.groupby(pd.Grouper(key='Date', freq='M')).mean()\n",
    "\n",
    "# Plot the area chart\n",
    "plt.figure(figsize=(10, 6))  # Adjust the figure size as needed\n",
    "plt.stackplot(monthly_data.index, monthly_data.values.T, labels=monthly_data.columns)\n",
    "\n",
    "# Set labels and title\n",
    "plt.xlabel('Months')\n",
    "plt.ylabel('Average neutral Sentiment Scores per month')\n",
    "plt.title('Monthly neutral Sentiment Scores for political leaned tweets')\n",
    "\n",
    "# Add legend\n",
    "plt.legend(bbox_to_anchor=(1.05, 1), loc='upper left')\n",
    "\n",
    "# Show the chart\n",
    "plt.show()\n",
    "\"\"\""
   ]
  },
  {
   "cell_type": "code",
   "execution_count": 112,
   "id": "e8c210c1-36c6-475e-94ec-37cc871a1570",
   "metadata": {},
   "outputs": [],
   "source": [
    "#Stacked Compound score for twitter data"
   ]
  },
  {
   "cell_type": "code",
   "execution_count": 113,
   "id": "dbf850d4-cf7c-4441-a895-8ecdf34412a5",
   "metadata": {},
   "outputs": [],
   "source": [
    "left_compounds={}\n",
    "right_compounds={}\n",
    "centre_compounds={}\n",
    "left_lean_compounds={}\n",
    "right_lean_compounds={}\n"
   ]
  },
  {
   "cell_type": "code",
   "execution_count": 114,
   "id": "455212d7-df97-4e39-9045-1f6e1d80089d",
   "metadata": {},
   "outputs": [],
   "source": [
    "for t in left_cache:\n",
    "    denominator = 0\n",
    "    numerator =0\n",
    "    for x in left_cache[t]:\n",
    "        numerator+=x['compound']\n",
    "        denominator+=1\n",
    "    average = numerator/denominator\n",
    "    left_compounds[t] = average\n",
    "    "
   ]
  },
  {
   "cell_type": "code",
   "execution_count": 115,
   "id": "e07b01ea-8cca-4f56-9bfb-f638cb641986",
   "metadata": {},
   "outputs": [],
   "source": [
    "for t in right_cache:\n",
    "    denominator = 0\n",
    "    numerator =0\n",
    "    for x in right_cache[t]:\n",
    "        numerator+=x['compound']\n",
    "        denominator+=1\n",
    "    average = numerator/denominator\n",
    "    right_compounds[t] = average\n",
    "    "
   ]
  },
  {
   "cell_type": "code",
   "execution_count": 116,
   "id": "e643ae8f-76f2-4ab3-94bf-fb6035b8c140",
   "metadata": {},
   "outputs": [],
   "source": [
    "for t in centre_cache:\n",
    "    denominator = 0\n",
    "    numerator =0\n",
    "    for x in centre_cache[t]:\n",
    "        numerator+=x['compound']\n",
    "        denominator+=1\n",
    "    average = numerator/denominator\n",
    "    centre_compounds[t] = average\n",
    "    "
   ]
  },
  {
   "cell_type": "code",
   "execution_count": 117,
   "id": "a78946bf-95d9-4d9f-9e9e-0e2a290fca63",
   "metadata": {},
   "outputs": [],
   "source": [
    "for t in left_lean_cache:\n",
    "    denominator = 0\n",
    "    numerator =0\n",
    "    for x in left_lean_cache[t]:\n",
    "        numerator+=x['compound']\n",
    "        denominator+=1\n",
    "    average = numerator/denominator\n",
    "    left_lean_compounds[t] = average\n",
    "    "
   ]
  },
  {
   "cell_type": "code",
   "execution_count": 118,
   "id": "06930ede-c72e-4149-9cd4-e8065cf4a8dd",
   "metadata": {},
   "outputs": [],
   "source": [
    "for t in right_lean_cache:\n",
    "    denominator = 0\n",
    "    numerator =0\n",
    "    for x in right_lean_cache[t]:\n",
    "        numerator+=x['compound']\n",
    "        denominator+=1\n",
    "    average = numerator/denominator\n",
    "    right_lean_compounds[t] = average\n",
    "    "
   ]
  },
  {
   "cell_type": "code",
   "execution_count": 119,
   "id": "a1824a7c-84de-451c-b990-fd2d5a92489b",
   "metadata": {},
   "outputs": [],
   "source": [
    "left_compounds1 = {'Date':left_compounds.keys(), 'compound_scores':left_compounds.values()}\n",
    "right_compounds1 = {'Date':right_compounds.keys(), 'compound_scores':right_compounds.values()}\n",
    "centre_compounds1 = {'Date':centre_compounds.keys(), 'compound_scores':centre_compounds.values()}\n",
    "left_lean_compounds1 = {'Date':left_lean_compounds.keys(), 'compound_scores':left_lean_compounds.values()}\n",
    "right_lean_compounds1 = {'Date':right_lean_compounds.keys(), 'compound_scores':right_lean_compounds.values()}\n"
   ]
  },
  {
   "cell_type": "code",
   "execution_count": 120,
   "id": "e178b02b-b8b8-4be9-8e1a-f0647978a10b",
   "metadata": {},
   "outputs": [],
   "source": [
    "left_compounds_df = pd.DataFrame.from_dict(left_compounds1)\n",
    "right_compounds_df = pd.DataFrame.from_dict(right_compounds1)\n",
    "centre_compounds_df = pd.DataFrame.from_dict(centre_compounds1)\n",
    "left_lean_compounds_df = pd.DataFrame.from_dict(left_lean_compounds1)\n",
    "right_lean_compounds_df = pd.DataFrame.from_dict(right_lean_compounds1)"
   ]
  },
  {
   "cell_type": "code",
   "execution_count": 121,
   "id": "fda1fbc5-c6c9-4f5c-8e18-454440f6687c",
   "metadata": {},
   "outputs": [
    {
     "name": "stderr",
     "output_type": "stream",
     "text": [
      "/home/srinath/anaconda3/lib/python3.9/site-packages/pandas/core/ops/array_ops.py:73: FutureWarning: Comparison of Timestamp with datetime.date is deprecated in order to match the standard library behavior. In a future version these will be considered non-comparable. Use 'ts == pd.Timestamp(date)' or 'ts.date() == date' instead.\n",
      "  result = libops.scalar_compare(x.ravel(), y, op)\n"
     ]
    }
   ],
   "source": [
    "left_compounds_filtered_df= left_compounds_df[(left_compounds_df['Date']>=pd.Timestamp(2018,5,1)) & (left_compounds_df['Date']<=pd.Timestamp(2018,12,1))]\n",
    "right_compounds_filtered_df= right_compounds_df[(right_compounds_df['Date']>=pd.Timestamp(2018,5,1)) & (right_compounds_df['Date']<=pd.Timestamp(2018,12,1))]\n",
    "centre_compounds_filtered_df= centre_compounds_df[(centre_compounds_df['Date']>=pd.Timestamp(2018,5,1)) & (centre_compounds_df['Date']<=pd.Timestamp(2018,12,1))]\n",
    "left_lean_compounds_filtered_df= left_lean_compounds_df[(left_lean_compounds_df['Date']>=pd.Timestamp(2018,5,1)) & (left_lean_compounds_df['Date']<=pd.Timestamp(2018,12,1))]\n",
    "right_lean_compounds_filtered_df= right_lean_compounds_df[(right_lean_compounds_df['Date']>=pd.Timestamp(2018,5,1)) & (right_lean_compounds_df['Date']<=pd.Timestamp(2018,12,1))]\n",
    "\n"
   ]
  },
  {
   "cell_type": "code",
   "execution_count": 122,
   "id": "7a183256-bfab-4ebe-ac30-6deafb491a2b",
   "metadata": {},
   "outputs": [
    {
     "name": "stderr",
     "output_type": "stream",
     "text": [
      "/tmp/ipykernel_873365/3926434668.py:3: FutureWarning: Passing 'suffixes' which cause duplicate columns {'compound_scores_x'} in the result is deprecated and will raise a MergeError in a future version.\n",
      "  merged_df = pd.merge(merged_df, left_lean_compounds_filtered_df, on='Date', how='inner')\n"
     ]
    }
   ],
   "source": [
    "merged_df = pd.merge(left_compounds_filtered_df, right_compounds_filtered_df, on='Date', how='inner')\n",
    "merged_df = pd.merge(merged_df, centre_compounds_filtered_df, on='Date', how='inner')\n",
    "merged_df = pd.merge(merged_df, left_lean_compounds_filtered_df, on='Date', how='inner')\n",
    "merged_df = pd.merge(merged_df, right_lean_compounds_filtered_df, on='Date', how='inner')\n",
    "\n",
    "\n",
    "merged_df.columns = ['Date', 'left_tweets_mean_compound_score', 'right_tweets_mean_compound_score', 'centre_tweets_mean_compound_score', 'left_leaning_tweets_mean_compound_score', 'right_leaning_tweets_mean_compound_score']\n",
    "\n",
    "\n",
    "merged_df['Date'] = pd.to_datetime(merged_df['Date'])"
   ]
  },
  {
   "cell_type": "code",
   "execution_count": 123,
   "id": "b8498697-633e-4ac1-93aa-1fa19497bb59",
   "metadata": {},
   "outputs": [
    {
     "data": {
      "image/png": "[encoded data removed]",
      "text/plain": [
       "<Figure size 864x432 with 1 Axes>"
      ]
     },
     "metadata": {
      "needs_background": "light"
     },
     "output_type": "display_data"
    }
   ],
   "source": [
    "merged_df['Date'] = pd.to_datetime(merged_df['Date'])\n",
    "\n",
    "# Set the timestamp column as the index\n",
    "merged_df.set_index('Date', inplace=True)\n",
    "\n",
    "# Group by day\n",
    "merged_df_grouped = merged_df.groupby(pd.Grouper(freq='D'))\n",
    "\n",
    "# Plotting area chart for each score\n",
    "plt.figure(figsize=(12, 6))\n",
    "plt.rcParams['font.size'] = '16'\n",
    "for score in ['left_tweets_mean_compound_score', 'right_tweets_mean_compound_score', 'centre_tweets_mean_compound_score', 'left_leaning_tweets_mean_compound_score', 'right_leaning_tweets_mean_compound_score']:\n",
    "    plt.stackplot(merged_df_grouped.groups.keys(), merged_df_grouped[score].sum(), alpha=1)\n",
    "\n",
    "\n",
    "plt.legend(['left_tweets_mean_compound_score', 'right_tweets_mean_compound_score', 'centre_tweets_mean_compound_score', 'left_leaning_tweets_mean_compound_score', 'right_leaning_tweets_mean_compound_score'],loc='upper left', bbox_to_anchor=(1.05, 1))\n",
    "plt.xlabel('Days')\n",
    "plt.ylabel('Average compound Sentiment Score per day')\n",
    "plt.title('Degree of Sentimentality in Twitter posts for each political leaning')\n",
    "\n",
    "#plt.ylim(0, 1)\n",
    "#plt.grid(True)\n",
    "plt.show()\n"
   ]
  },
  {
   "cell_type": "code",
   "execution_count": 124,
   "id": "d103170d-a8ea-4505-92b1-a20a57de2852",
   "metadata": {},
   "outputs": [
    {
     "data": {
      "text/plain": [
       "<Figure size 432x288 with 0 Axes>"
      ]
     },
     "metadata": {},
     "output_type": "display_data"
    }
   ],
   "source": [
    "plt.savefig('5.eps', format='eps')"
   ]
  },
  {
   "cell_type": "code",
   "execution_count": 125,
   "id": "f4a34bfb-99f9-489c-b376-ef3e78a74535",
   "metadata": {},
   "outputs": [
    {
     "data": {
      "text/html": [
       "<div>\n",
       "<style scoped>\n",
       "    .dataframe tbody tr th:only-of-type {\n",
       "        vertical-align: middle;\n",
       "    }\n",
       "\n",
       "    .dataframe tbody tr th {\n",
       "        vertical-align: top;\n",
       "    }\n",
       "\n",
       "    .dataframe thead th {\n",
       "        text-align: right;\n",
       "    }\n",
       "</style>\n",
       "<table border=\"1\" class=\"dataframe\">\n",
       "  <thead>\n",
       "    <tr style=\"text-align: right;\">\n",
       "      <th></th>\n",
       "      <th>left_tweets_mean_compound_score</th>\n",
       "      <th>right_tweets_mean_compound_score</th>\n",
       "      <th>centre_tweets_mean_compound_score</th>\n",
       "      <th>left_leaning_tweets_mean_compound_score</th>\n",
       "      <th>right_leaning_tweets_mean_compound_score</th>\n",
       "    </tr>\n",
       "    <tr>\n",
       "      <th>Date</th>\n",
       "      <th></th>\n",
       "      <th></th>\n",
       "      <th></th>\n",
       "      <th></th>\n",
       "      <th></th>\n",
       "    </tr>\n",
       "  </thead>\n",
       "  <tbody>\n",
       "    <tr>\n",
       "      <th>2018-05-28</th>\n",
       "      <td>0.006947</td>\n",
       "      <td>0.287800</td>\n",
       "      <td>0.030908</td>\n",
       "      <td>-0.057095</td>\n",
       "      <td>-0.199220</td>\n",
       "    </tr>\n",
       "    <tr>\n",
       "      <th>2018-05-29</th>\n",
       "      <td>-0.059232</td>\n",
       "      <td>0.273200</td>\n",
       "      <td>-0.026247</td>\n",
       "      <td>-0.134251</td>\n",
       "      <td>0.164450</td>\n",
       "    </tr>\n",
       "    <tr>\n",
       "      <th>2018-05-30</th>\n",
       "      <td>-0.057489</td>\n",
       "      <td>-0.118900</td>\n",
       "      <td>-0.028123</td>\n",
       "      <td>-0.046551</td>\n",
       "      <td>-0.287425</td>\n",
       "    </tr>\n",
       "    <tr>\n",
       "      <th>2018-05-31</th>\n",
       "      <td>0.024409</td>\n",
       "      <td>-0.220700</td>\n",
       "      <td>0.035650</td>\n",
       "      <td>-0.020823</td>\n",
       "      <td>-0.318450</td>\n",
       "    </tr>\n",
       "    <tr>\n",
       "      <th>2018-06-04</th>\n",
       "      <td>-0.118511</td>\n",
       "      <td>-0.063633</td>\n",
       "      <td>-0.063257</td>\n",
       "      <td>0.071124</td>\n",
       "      <td>-0.058250</td>\n",
       "    </tr>\n",
       "    <tr>\n",
       "      <th>...</th>\n",
       "      <td>...</td>\n",
       "      <td>...</td>\n",
       "      <td>...</td>\n",
       "      <td>...</td>\n",
       "      <td>...</td>\n",
       "    </tr>\n",
       "    <tr>\n",
       "      <th>2018-10-04</th>\n",
       "      <td>-0.071371</td>\n",
       "      <td>-0.116811</td>\n",
       "      <td>-0.036398</td>\n",
       "      <td>-0.089364</td>\n",
       "      <td>-0.175615</td>\n",
       "    </tr>\n",
       "    <tr>\n",
       "      <th>2018-10-02</th>\n",
       "      <td>-0.142215</td>\n",
       "      <td>-0.117376</td>\n",
       "      <td>-0.109867</td>\n",
       "      <td>-0.062019</td>\n",
       "      <td>0.119300</td>\n",
       "    </tr>\n",
       "    <tr>\n",
       "      <th>2018-09-30</th>\n",
       "      <td>-0.081535</td>\n",
       "      <td>-0.212324</td>\n",
       "      <td>-0.162505</td>\n",
       "      <td>-0.119497</td>\n",
       "      <td>-0.133870</td>\n",
       "    </tr>\n",
       "    <tr>\n",
       "      <th>2018-09-29</th>\n",
       "      <td>-0.077218</td>\n",
       "      <td>0.098175</td>\n",
       "      <td>-0.202564</td>\n",
       "      <td>-0.091221</td>\n",
       "      <td>-0.158287</td>\n",
       "    </tr>\n",
       "    <tr>\n",
       "      <th>2018-10-05</th>\n",
       "      <td>-0.041792</td>\n",
       "      <td>-0.150927</td>\n",
       "      <td>-0.148535</td>\n",
       "      <td>0.000652</td>\n",
       "      <td>-0.227492</td>\n",
       "    </tr>\n",
       "  </tbody>\n",
       "</table>\n",
       "<p>127 rows × 5 columns</p>\n",
       "</div>"
      ],
      "text/plain": [
       "            left_tweets_mean_compound_score  right_tweets_mean_compound_score  \\\n",
       "Date                                                                            \n",
       "2018-05-28                         0.006947                          0.287800   \n",
       "2018-05-29                        -0.059232                          0.273200   \n",
       "2018-05-30                        -0.057489                         -0.118900   \n",
       "2018-05-31                         0.024409                         -0.220700   \n",
       "2018-06-04                        -0.118511                         -0.063633   \n",
       "...                                     ...                               ...   \n",
       "2018-10-04                        -0.071371                         -0.116811   \n",
       "2018-10-02                        -0.142215                         -0.117376   \n",
       "2018-09-30                        -0.081535                         -0.212324   \n",
       "2018-09-29                        -0.077218                          0.098175   \n",
       "2018-10-05                        -0.041792                         -0.150927   \n",
       "\n",
       "            centre_tweets_mean_compound_score  \\\n",
       "Date                                            \n",
       "2018-05-28                           0.030908   \n",
       "2018-05-29                          -0.026247   \n",
       "2018-05-30                          -0.028123   \n",
       "2018-05-31                           0.035650   \n",
       "2018-06-04                          -0.063257   \n",
       "...                                       ...   \n",
       "2018-10-04                          -0.036398   \n",
       "2018-10-02                          -0.109867   \n",
       "2018-09-30                          -0.162505   \n",
       "2018-09-29                          -0.202564   \n",
       "2018-10-05                          -0.148535   \n",
       "\n",
       "            left_leaning_tweets_mean_compound_score  \\\n",
       "Date                                                  \n",
       "2018-05-28                                -0.057095   \n",
       "2018-05-29                                -0.134251   \n",
       "2018-05-30                                -0.046551   \n",
       "2018-05-31                                -0.020823   \n",
       "2018-06-04                                 0.071124   \n",
       "...                                             ...   \n",
       "2018-10-04                                -0.089364   \n",
       "2018-10-02                                -0.062019   \n",
       "2018-09-30                                -0.119497   \n",
       "2018-09-29                                -0.091221   \n",
       "2018-10-05                                 0.000652   \n",
       "\n",
       "            right_leaning_tweets_mean_compound_score  \n",
       "Date                                                  \n",
       "2018-05-28                                 -0.199220  \n",
       "2018-05-29                                  0.164450  \n",
       "2018-05-30                                 -0.287425  \n",
       "2018-05-31                                 -0.318450  \n",
       "2018-06-04                                 -0.058250  \n",
       "...                                              ...  \n",
       "2018-10-04                                 -0.175615  \n",
       "2018-10-02                                  0.119300  \n",
       "2018-09-30                                 -0.133870  \n",
       "2018-09-29                                 -0.158287  \n",
       "2018-10-05                                 -0.227492  \n",
       "\n",
       "[127 rows x 5 columns]"
      ]
     },
     "execution_count": 125,
     "metadata": {},
     "output_type": "execute_result"
    }
   ],
   "source": [
    "merged_df"
   ]
  },
  {
   "cell_type": "code",
   "execution_count": 126,
   "id": "b16a424a-4bf3-4212-b8b0-5a2e1493691f",
   "metadata": {},
   "outputs": [
    {
     "name": "stdout",
     "output_type": "stream",
     "text": [
      "105\n"
     ]
    }
   ],
   "source": [
    "positives =0;\n",
    "for index, row in merged_df.iterrows():\n",
    "    if row['left_tweets_mean_compound_score']>0 :\n",
    "        positives+=1\n",
    "        \n",
    "    if row['right_tweets_mean_compound_score']>0 :\n",
    "        positives+=1\n",
    "        \n",
    "    if row['centre_tweets_mean_compound_score']>0 :\n",
    "        positives+=1\n",
    "        \n",
    "    if row['left_leaning_tweets_mean_compound_score']>0 :\n",
    "        positives+=1\n",
    "        \n",
    "    if row['right_leaning_tweets_mean_compound_score']>0 :\n",
    "        positives+=1\n",
    "print(positives)\n",
    "    "
   ]
  },
  {
   "cell_type": "code",
   "execution_count": 127,
   "id": "9c6bdfe0-74e2-45b7-9abe-c9609f0f9328",
   "metadata": {},
   "outputs": [
    {
     "name": "stdout",
     "output_type": "stream",
     "text": [
      "            left_tweets_mean_compound_score  right_tweets_mean_compound_score  centre_tweets_mean_compound_score  left_leaning_tweets_mean_compound_score  right_leaning_tweets_mean_compound_score\n",
      "Date                                                                                                                                                                                               \n",
      "2018-05-28                         0.006947                          0.287800                           0.030908                                -0.057095                                 -0.199220\n",
      "2018-05-29                        -0.059232                          0.273200                          -0.026247                                -0.134251                                  0.164450\n",
      "2018-05-30                        -0.057489                         -0.118900                          -0.028123                                -0.046551                                 -0.287425\n",
      "2018-05-31                         0.024409                         -0.220700                           0.035650                                -0.020823                                 -0.318450\n",
      "2018-06-04                        -0.118511                         -0.063633                          -0.063257                                 0.071124                                 -0.058250\n",
      "2018-06-06                        -0.125410                         -0.918200                          -0.040978                                -0.005482                                  0.292950\n",
      "2018-06-08                        -0.216215                          0.771700                          -0.035755                                -0.030313                                  0.294400\n",
      "2018-06-12                        -0.009641                          0.326100                           0.071987                                -0.016353                                  0.000000\n",
      "2018-06-14                         0.049328                         -0.402300                          -0.053442                                -0.018087                                  0.087833\n",
      "2018-06-15                        -0.093134                         -0.482400                           0.008881                                -0.014313                                 -0.228800\n",
      "2018-06-18                        -0.218304                          0.401900                          -0.040615                                -0.074595                                  0.292950\n",
      "2018-06-19                        -0.170914                         -0.704600                           0.013584                                -0.126296                                  0.000000\n",
      "2018-06-20                        -0.063985                         -0.069667                          -0.057619                                 0.005159                                 -0.387533\n",
      "2018-06-22                        -0.098504                         -0.195300                          -0.073278                                 0.015417                                 -0.177900\n",
      "2018-06-23                        -0.097876                         -0.476700                          -0.032857                                -0.045837                                  0.000000\n",
      "2018-06-25                         0.065446                         -0.612400                          -0.015893                                -0.012589                                 -0.094767\n",
      "2018-06-27                        -0.004884                         -0.340000                          -0.062646                                -0.085709                                 -0.202300\n",
      "2018-06-29                        -0.086978                          0.000000                           0.038417                                -0.030127                                 -0.015083\n",
      "2018-06-30                        -0.077042                          0.159100                          -0.012048                                -0.012132                                  0.033975\n",
      "2018-07-01                        -0.056165                         -0.081088                           0.032403                                -0.034971                                  0.269950\n",
      "2018-07-02                        -0.017794                         -0.415800                           0.085021                                -0.040748                                  0.054650\n",
      "2018-07-03                        -0.038762                         -0.102930                           0.058461                                -0.057491                                 -0.031233\n",
      "2018-07-04                         0.027676                          0.128300                           0.083463                                 0.029651                                 -0.265800\n",
      "2018-07-05                        -0.043746                          0.122517                          -0.006759                                 0.013213                                 -0.660167\n",
      "2018-07-06                        -0.030878                          0.229400                          -0.042277                                -0.042543                                 -0.106575\n",
      "2018-07-07                        -0.084089                         -0.006150                          -0.107003                                -0.033267                                 -0.210467\n",
      "2018-07-08                        -0.089494                         -0.069709                          -0.007978                                -0.026867                                 -0.472100\n",
      "2018-07-09                         0.048632                         -0.083375                           0.038169                                 0.000641                                  0.006375\n",
      "2018-07-10                         0.021323                          0.139350                           0.029588                                 0.021342                                 -0.099187\n",
      "2018-07-11                        -0.134670                         -0.065083                           0.036113                                -0.065599                                 -0.123283\n",
      "2018-07-12                        -0.130242                          0.015986                          -0.038962                                -0.039105                                 -0.211700\n",
      "2018-07-13                        -0.043638                         -0.303825                           0.052962                                -0.078207                                 -0.297380\n",
      "2018-07-14                         0.014366                         -0.092742                          -0.038970                                -0.036654                                 -0.088150\n",
      "2018-07-15                        -0.118463                         -0.041140                          -0.018789                                -0.039621                                 -0.274233\n",
      "2018-07-16                        -0.051899                         -0.161075                          -0.106115                                -0.061959                                 -0.093400\n",
      "2018-07-17                        -0.120472                         -0.043810                          -0.012542                                -0.046233                                 -0.105412\n",
      "2018-07-18                         0.010949                          0.040438                          -0.002581                                -0.078531                                  0.034240\n",
      "2018-07-19                        -0.095247                          0.061143                          -0.042615                                -0.056170                                 -0.307000\n",
      "2018-07-20                        -0.142119                         -0.319825                          -0.090327                                -0.041903                                 -0.082250\n",
      "2018-07-21                        -0.127763                         -0.057980                          -0.052586                                -0.025231                                  0.079280\n",
      "2018-07-22                        -0.113968                          0.009271                          -0.100009                                -0.007882                                 -0.190920\n",
      "2018-07-23                        -0.156814                         -0.338071                          -0.057146                                -0.057014                                  0.046500\n",
      "2018-07-24                        -0.129804                          0.021300                          -0.061070                                -0.058511                                  0.126900\n",
      "2018-07-25                        -0.041940                         -0.275680                          -0.052441                                -0.030934                                 -0.202400\n",
      "2018-07-26                        -0.041301                         -0.162980                          -0.081935                                -0.026277                                  0.041027\n",
      "2018-07-27                        -0.066580                         -0.145750                          -0.040561                                -0.065114                                  0.000418\n",
      "2018-07-28                        -0.173020                          0.131275                          -0.077853                                -0.088999                                  0.164633\n",
      "2018-07-29                        -0.093190                          0.110800                          -0.093861                                -0.087161                                 -0.062914\n",
      "2018-07-30                        -0.112765                         -0.079950                          -0.072807                                 0.007695                                  0.194154\n",
      "2018-07-31                        -0.053158                         -0.399417                          -0.038452                                -0.056831                                 -0.303617\n",
      "2018-08-01                        -0.042377                         -0.202217                          -0.059127                                -0.052755                                 -0.010614\n",
      "2018-08-02                        -0.092426                         -0.084692                          -0.106603                                -0.034502                                 -0.247233\n",
      "2018-08-03                        -0.036448                         -0.136367                          -0.020068                                -0.062710                                 -0.146833\n",
      "2018-08-04                        -0.123164                         -0.153894                           0.017687                                -0.061934                                 -0.237200\n",
      "2018-08-05                        -0.055776                         -0.058089                          -0.046146                                -0.031506                                 -0.185500\n",
      "2018-08-06                        -0.130390                         -0.181689                          -0.069751                                -0.032098                                  0.095713\n",
      "2018-08-07                        -0.046855                         -0.040477                          -0.081750                                -0.037332                                 -0.064218\n",
      "2018-08-08                        -0.108792                         -0.104688                           0.036106                                -0.009877                                 -0.149317\n",
      "2018-08-09                        -0.033809                         -0.154213                          -0.063251                                -0.038113                                 -0.150633\n",
      "2018-08-10                        -0.143700                         -0.203933                          -0.114159                                -0.079270                                 -0.150318\n",
      "2018-08-11                        -0.147686                          0.013674                          -0.046939                                -0.101078                                 -0.128886\n",
      "2018-08-12                        -0.136335                         -0.212318                          -0.048570                                -0.111422                                  0.194867\n",
      "2018-08-13                        -0.048701                          0.100250                           0.028795                                -0.088245                                 -0.287350\n",
      "2018-08-14                        -0.137959                         -0.120883                          -0.089033                                -0.050550                                  0.012364\n",
      "2018-08-15                        -0.172063                         -0.028000                          -0.057269                                -0.045705                                 -0.147115\n",
      "2018-08-16                        -0.044095                         -0.073681                          -0.058664                                -0.010364                                 -0.155793\n",
      "2018-08-17                        -0.077823                         -0.155571                          -0.043972                                 0.000516                                 -0.186782\n",
      "2018-08-18                        -0.125512                         -0.143954                          -0.004266                                -0.048498                                 -0.195933\n",
      "2018-08-19                        -0.138983                         -0.076559                          -0.019236                                -0.015153                                 -0.137815\n",
      "2018-08-20                        -0.137297                         -0.204431                          -0.094851                                -0.060190                                  0.066710\n",
      "2018-08-21                        -0.107141                         -0.124786                          -0.115774                                -0.068880                                 -0.153577\n",
      "2018-08-22                        -0.071502                         -0.156289                          -0.069830                                -0.070396                                 -0.052621\n",
      "2018-08-23                        -0.104596                         -0.267485                          -0.030645                                -0.062131                                 -0.023561\n",
      "2018-08-24                        -0.061233                         -0.188408                          -0.037422                                -0.073503                                 -0.028251\n",
      "2018-08-25                        -0.083228                         -0.313326                          -0.151924                                -0.056942                                 -0.001863\n",
      "2018-08-26                        -0.012313                         -0.244174                          -0.096687                                -0.019557                                 -0.092509\n",
      "2018-08-27                        -0.080538                         -0.131066                          -0.071112                                -0.045684                                 -0.043925\n",
      "2018-08-28                        -0.113191                         -0.242186                          -0.123032                                -0.050235                                 -0.137734\n",
      "2018-08-29                        -0.097661                         -0.120886                          -0.069853                                -0.070640                                 -0.089972\n",
      "2018-08-30                        -0.096986                         -0.139984                          -0.089617                                -0.037531                                 -0.028619\n",
      "2018-08-31                        -0.091071                         -0.122472                          -0.092929                                -0.062293                                 -0.075947\n",
      "2018-09-01                        -0.044154                         -0.140428                          -0.080604                                -0.062040                                 -0.117138\n",
      "2018-09-02                        -0.094753                         -0.184993                          -0.061447                                -0.073284                                 -0.045708\n",
      "2018-09-03                        -0.092138                         -0.089695                          -0.115404                                -0.071961                                  0.006078\n",
      "2018-09-04                        -0.112883                         -0.070737                          -0.077800                                -0.065355                                 -0.026561\n",
      "2018-09-05                        -0.135798                         -0.079722                          -0.049290                                -0.061475                                 -0.102488\n",
      "2018-05-05                        -0.037333                          0.000000                          -0.081373                                 0.017629                                 -0.255733\n",
      "2018-05-09                        -0.145278                          0.000000                          -0.030449                                 0.043365                                  0.002533\n",
      "2018-05-14                        -0.005931                         -0.757900                          -0.033172                                 0.088866                                  0.000000\n",
      "2018-05-15                        -0.052417                          0.068075                          -0.096415                                -0.057596                                 -0.164633\n",
      "2018-05-17                        -0.044618                          0.099450                           0.043315                                -0.009385                                  0.082733\n",
      "2018-05-18                        -0.095628                         -0.051350                           0.070319                                -0.053925                                  0.338300\n",
      "2018-05-21                        -0.078600                         -0.200567                           0.045542                                -0.015211                                  0.288600\n",
      "2018-05-22                         0.004479                          0.361200                           0.059667                                -0.001387                                 -0.085300\n",
      "2018-05-24                        -0.121939                          0.088950                           0.028190                                 0.007953                                 -0.123475\n",
      "2018-09-06                        -0.149369                         -0.076757                          -0.103467                                -0.062886                                 -0.113129\n",
      "2018-05-25                        -0.175328                          0.023367                           0.020516                                -0.063683                                 -0.050950\n",
      "2018-09-12                        -0.075078                         -0.236509                          -0.090159                                -0.086880                                 -0.097147\n",
      "2018-09-11                        -0.058028                         -0.086458                          -0.150028                                -0.106246                                 -0.101041\n",
      "2018-09-07                        -0.108688                         -0.070586                          -0.063510                                -0.037732                                 -0.046581\n",
      "2018-09-10                        -0.113700                          0.003291                          -0.131514                                -0.065812                                 -0.024653\n",
      "2018-09-09                        -0.102510                         -0.069094                          -0.103311                                -0.054189                                 -0.095484\n",
      "2018-09-08                        -0.109385                         -0.083415                          -0.101417                                -0.030627                                 -0.094321\n",
      "2018-06-01                        -0.117819                          0.000000                           0.075663                                -0.079092                                  0.000000\n",
      "2018-09-13                        -0.108089                         -0.131829                          -0.134597                                -0.091559                                 -0.064681\n",
      "2018-09-14                        -0.127350                         -0.191482                          -0.116459                                -0.060528                                 -0.022789\n",
      "2018-09-15                        -0.101702                         -0.102040                          -0.154060                                -0.076770                                 -0.136660\n",
      "2018-09-16                        -0.150710                         -0.208954                          -0.186824                                -0.112991                                 -0.039881\n",
      "2018-09-17                        -0.123716                         -0.164440                          -0.135064                                -0.111135                                 -0.125523\n",
      "2018-09-18                        -0.117460                         -0.040978                          -0.096479                                -0.053244                                 -0.076274\n",
      "2018-09-19                        -0.073574                          0.086730                          -0.101124                                -0.097390                                 -0.116128\n",
      "2018-09-20                        -0.152570                          0.034403                          -0.112494                                -0.066107                                 -0.121187\n",
      "2018-09-21                        -0.150548                         -0.032940                          -0.122880                                -0.050415                                 -0.144628\n",
      "2018-09-24                        -0.129695                         -0.122817                          -0.134912                                -0.101661                                 -0.091949\n",
      "2018-09-22                        -0.124786                          0.027176                          -0.097924                                -0.114336                                 -0.172734\n",
      "2018-09-23                        -0.122263                         -0.066023                          -0.086938                                -0.080434                                 -0.158283\n",
      "2018-09-25                        -0.070264                         -0.178397                          -0.131211                                -0.121713                                 -0.007996\n",
      "2018-09-26                        -0.053126                         -0.078727                          -0.086292                                -0.102055                                 -0.092284\n",
      "2018-09-27                        -0.216530                         -0.166637                          -0.111025                                -0.048234                                 -0.097686\n",
      "2018-09-28                        -0.165130                         -0.122196                          -0.118577                                -0.075423                                 -0.142086\n",
      "2018-10-01                        -0.084858                          0.005557                          -0.064531                                -0.120209                                 -0.062918\n",
      "2018-10-03                        -0.182729                         -0.084125                          -0.143703                                -0.099669                                 -0.218036\n",
      "2018-10-04                        -0.071371                         -0.116811                          -0.036398                                -0.089364                                 -0.175615\n",
      "2018-10-02                        -0.142215                         -0.117376                          -0.109867                                -0.062019                                  0.119300\n",
      "2018-09-30                        -0.081535                         -0.212324                          -0.162505                                -0.119497                                 -0.133870\n",
      "2018-09-29                        -0.077218                          0.098175                          -0.202564                                -0.091221                                 -0.158287\n",
      "2018-10-05                        -0.041792                         -0.150927                          -0.148535                                 0.000652                                 -0.227492\n"
     ]
    }
   ],
   "source": [
    "print(merged_df.to_string())"
   ]
  },
  {
   "cell_type": "code",
   "execution_count": null,
   "id": "32d69c79-27f2-4368-97f0-70c03bdabff4",
   "metadata": {},
   "outputs": [],
   "source": []
  }
 ],
 "metadata": {
  "kernelspec": {
   "display_name": "Python 3 (ipykernel)",
   "language": "python",
   "name": "python3"
  },
  "language_info": {
   "codemirror_mode": {
    "name": "ipython",
    "version": 3
   },
   "file_extension": ".py",
   "mimetype": "text/x-python",
   "name": "python",
   "nbconvert_exporter": "python",
   "pygments_lexer": "ipython3",
   "version": "3.9.12"
  }
 },
 "nbformat": 4,
 "nbformat_minor": 5
}
